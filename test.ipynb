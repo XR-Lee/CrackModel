{
 "cells": [
  {
   "cell_type": "code",
   "execution_count": 20,
   "metadata": {},
   "outputs": [
    {
     "name": "stderr",
     "output_type": "stream",
     "text": [
      "  0%|          | 2/3741 [00:00<03:27, 18.06it/s]"
     ]
    },
    {
     "name": "stdout",
     "output_type": "stream",
     "text": [
      "inferframe_00224.png\n",
      "inferframe_00123.png\n",
      "inferframe_03346.png\n",
      "inferframe_03678.png\n",
      "inferframe_03467.png\n"
     ]
    },
    {
     "name": "stderr",
     "output_type": "stream",
     "text": [
      "  0%|          | 8/3741 [00:00<03:08, 19.76it/s]"
     ]
    },
    {
     "name": "stdout",
     "output_type": "stream",
     "text": [
      "inferframe_00012.png\n",
      "inferframe_01014.png\n",
      "inferframe_01444.png\n",
      "inferframe_01759.png\n"
     ]
    },
    {
     "name": "stderr",
     "output_type": "stream",
     "text": [
      "  0%|          | 12/3741 [00:00<03:15, 19.09it/s]"
     ]
    },
    {
     "name": "stdout",
     "output_type": "stream",
     "text": [
      "inferframe_00639.png\n",
      "inferframe_01822.png\n",
      "inferframe_00902.png\n",
      "inferframe_02627.png\n"
     ]
    },
    {
     "name": "stderr",
     "output_type": "stream",
     "text": [
      "  0%|          | 16/3741 [00:00<03:23, 18.31it/s]"
     ]
    },
    {
     "name": "stdout",
     "output_type": "stream",
     "text": [
      "inferframe_01920.png\n",
      "inferframe_01895.png\n",
      "inferframe_02894.png\n",
      "inferframe_00647.png\n"
     ]
    },
    {
     "name": "stderr",
     "output_type": "stream",
     "text": [
      "  1%|          | 21/3741 [00:01<03:18, 18.76it/s]"
     ]
    },
    {
     "name": "stdout",
     "output_type": "stream",
     "text": [
      "inferframe_01713.png\n",
      "inferframe_03207.png\n",
      "inferframe_02662.png\n",
      "inferframe_01094.png\n",
      "inferframe_03345.png\n"
     ]
    },
    {
     "name": "stderr",
     "output_type": "stream",
     "text": [
      "  1%|          | 26/3741 [00:01<03:08, 19.73it/s]"
     ]
    },
    {
     "name": "stdout",
     "output_type": "stream",
     "text": [
      "inferframe_02324.png\n",
      "inferframe_03214.png\n",
      "inferframe_00342.png\n",
      "inferframe_01422.png\n",
      "inferframe_03043.png\n"
     ]
    },
    {
     "name": "stderr",
     "output_type": "stream",
     "text": [
      "  1%|          | 31/3741 [00:01<03:03, 20.23it/s]"
     ]
    },
    {
     "name": "stdout",
     "output_type": "stream",
     "text": [
      "inferframe_02382.png\n",
      "inferframe_00420.png\n",
      "inferframe_00014.png\n",
      "inferframe_01531.png\n",
      "inferframe_03285.png\n"
     ]
    },
    {
     "name": "stderr",
     "output_type": "stream",
     "text": [
      "  1%|          | 34/3741 [00:01<03:05, 20.03it/s]"
     ]
    },
    {
     "name": "stdout",
     "output_type": "stream",
     "text": [
      "inferframe_03420.png\n",
      "inferframe_01073.png\n",
      "inferframe_03666.png\n",
      "inferframe_01710.png\n",
      "inferframe_02745.png\n"
     ]
    },
    {
     "name": "stderr",
     "output_type": "stream",
     "text": [
      "  1%|          | 40/3741 [00:02<02:55, 21.12it/s]"
     ]
    },
    {
     "name": "stdout",
     "output_type": "stream",
     "text": [
      "inferframe_01606.png\n",
      "inferframe_01521.png\n",
      "inferframe_02183.png\n",
      "inferframe_01195.png\n",
      "inferframe_03651.png\n"
     ]
    },
    {
     "name": "stderr",
     "output_type": "stream",
     "text": [
      "  1%|          | 43/3741 [00:02<02:52, 21.48it/s]"
     ]
    },
    {
     "name": "stdout",
     "output_type": "stream",
     "text": [
      "inferframe_03390.png\n",
      "inferframe_00650.png\n",
      "inferframe_02991.png\n",
      "inferframe_02988.png\n"
     ]
    },
    {
     "name": "stderr",
     "output_type": "stream",
     "text": [
      "  1%|▏         | 49/3741 [00:02<03:01, 20.33it/s]"
     ]
    },
    {
     "name": "stdout",
     "output_type": "stream",
     "text": [
      "inferframe_00316.png\n",
      "inferframe_02107.png\n",
      "inferframe_02501.png\n",
      "inferframe_02660.png\n",
      "inferframe_03571.png\n"
     ]
    },
    {
     "name": "stderr",
     "output_type": "stream",
     "text": [
      "  1%|▏         | 55/3741 [00:02<02:55, 20.98it/s]"
     ]
    },
    {
     "name": "stdout",
     "output_type": "stream",
     "text": [
      "inferframe_00445.png\n",
      "inferframe_00746.png\n",
      "inferframe_02928.png\n",
      "inferframe_02728.png\n",
      "inferframe_03050.png\n"
     ]
    },
    {
     "name": "stderr",
     "output_type": "stream",
     "text": [
      "  2%|▏         | 58/3741 [00:02<02:57, 20.79it/s]"
     ]
    },
    {
     "name": "stdout",
     "output_type": "stream",
     "text": [
      "inferframe_01469.png\n",
      "inferframe_00600.png\n",
      "inferframe_00005.png\n",
      "inferframe_02653.png\n"
     ]
    },
    {
     "name": "stderr",
     "output_type": "stream",
     "text": [
      "  2%|▏         | 61/3741 [00:03<03:15, 18.80it/s]"
     ]
    },
    {
     "name": "stdout",
     "output_type": "stream",
     "text": [
      "inferframe_03092.png\n",
      "inferframe_03254.png\n",
      "inferframe_00744.png\n",
      "inferframe_02594.png\n"
     ]
    },
    {
     "name": "stderr",
     "output_type": "stream",
     "text": [
      "  2%|▏         | 67/3741 [00:03<03:07, 19.58it/s]"
     ]
    },
    {
     "name": "stdout",
     "output_type": "stream",
     "text": [
      "inferframe_01989.png\n",
      "inferframe_00128.png\n",
      "inferframe_03601.png\n",
      "inferframe_00104.png\n",
      "inferframe_00535.png\n"
     ]
    },
    {
     "name": "stderr",
     "output_type": "stream",
     "text": [
      "  2%|▏         | 73/3741 [00:03<03:02, 20.10it/s]"
     ]
    },
    {
     "name": "stdout",
     "output_type": "stream",
     "text": [
      "inferframe_00427.png\n",
      "inferframe_02808.png\n",
      "inferframe_02098.png\n",
      "inferframe_01894.png\n",
      "inferframe_01721.png\n"
     ]
    },
    {
     "name": "stderr",
     "output_type": "stream",
     "text": [
      "  2%|▏         | 76/3741 [00:03<03:16, 18.69it/s]"
     ]
    },
    {
     "name": "stdout",
     "output_type": "stream",
     "text": [
      "inferframe_02024.png\n",
      "inferframe_01906.png\n",
      "inferframe_01899.png\n",
      "inferframe_00910.png\n"
     ]
    },
    {
     "name": "stderr",
     "output_type": "stream",
     "text": [
      "  2%|▏         | 80/3741 [00:04<03:14, 18.78it/s]"
     ]
    },
    {
     "name": "stdout",
     "output_type": "stream",
     "text": [
      "inferframe_02101.png\n",
      "inferframe_00839.png\n",
      "inferframe_00662.png\n",
      "inferframe_03397.png\n"
     ]
    },
    {
     "name": "stderr",
     "output_type": "stream",
     "text": [
      "  2%|▏         | 85/3741 [00:04<03:17, 18.48it/s]"
     ]
    },
    {
     "name": "stdout",
     "output_type": "stream",
     "text": [
      "inferframe_00523.png\n",
      "inferframe_01968.png\n",
      "inferframe_02944.png\n",
      "inferframe_00997.png\n"
     ]
    },
    {
     "name": "stderr",
     "output_type": "stream",
     "text": [
      "  2%|▏         | 87/3741 [00:04<03:19, 18.30it/s]"
     ]
    },
    {
     "name": "stdout",
     "output_type": "stream",
     "text": [
      "inferframe_02976.png\n",
      "inferframe_02587.png\n",
      "inferframe_01676.png\n",
      "inferframe_03240.png\n"
     ]
    },
    {
     "name": "stderr",
     "output_type": "stream",
     "text": [
      "  2%|▏         | 93/3741 [00:04<03:01, 20.05it/s]"
     ]
    },
    {
     "name": "stdout",
     "output_type": "stream",
     "text": [
      "inferframe_02195.png\n",
      "inferframe_00053.png\n",
      "inferframe_02457.png\n",
      "inferframe_01574.png\n",
      "inferframe_00978.png\n"
     ]
    },
    {
     "name": "stderr",
     "output_type": "stream",
     "text": [
      "  3%|▎         | 99/3741 [00:05<02:57, 20.55it/s]"
     ]
    },
    {
     "name": "stdout",
     "output_type": "stream",
     "text": [
      "inferframe_00594.png\n",
      "inferframe_03306.png\n",
      "inferframe_00153.png\n",
      "inferframe_00613.png\n",
      "inferframe_00548.png\n"
     ]
    },
    {
     "name": "stderr",
     "output_type": "stream",
     "text": [
      "  3%|▎         | 102/3741 [00:05<02:54, 20.81it/s]"
     ]
    },
    {
     "name": "stdout",
     "output_type": "stream",
     "text": [
      "inferframe_03735.png\n",
      "inferframe_03237.png\n",
      "inferframe_02878.png\n",
      "inferframe_03738.png\n"
     ]
    },
    {
     "name": "stderr",
     "output_type": "stream",
     "text": [
      "  3%|▎         | 108/3741 [00:05<02:53, 20.94it/s]"
     ]
    },
    {
     "name": "stdout",
     "output_type": "stream",
     "text": [
      "inferframe_02308.png\n",
      "inferframe_02694.png\n",
      "inferframe_01740.png\n",
      "inferframe_02036.png\n",
      "inferframe_00956.png\n"
     ]
    },
    {
     "name": "stderr",
     "output_type": "stream",
     "text": [
      "  3%|▎         | 111/3741 [00:05<02:55, 20.72it/s]"
     ]
    },
    {
     "name": "stdout",
     "output_type": "stream",
     "text": [
      "inferframe_01855.png\n",
      "inferframe_00095.png\n",
      "inferframe_02283.png\n",
      "inferframe_03363.png\n",
      "inferframe_02981.png\n"
     ]
    },
    {
     "name": "stderr",
     "output_type": "stream",
     "text": [
      "  3%|▎         | 117/3741 [00:05<02:56, 20.48it/s]"
     ]
    },
    {
     "name": "stdout",
     "output_type": "stream",
     "text": [
      "inferframe_00957.png\n",
      "inferframe_00212.png\n",
      "inferframe_02167.png\n",
      "inferframe_03443.png\n",
      "inferframe_03133.png\n"
     ]
    },
    {
     "name": "stderr",
     "output_type": "stream",
     "text": [
      "  3%|▎         | 123/3741 [00:06<02:53, 20.88it/s]"
     ]
    },
    {
     "name": "stdout",
     "output_type": "stream",
     "text": [
      "inferframe_00183.png\n",
      "inferframe_03605.png\n",
      "inferframe_02074.png\n",
      "inferframe_01479.png\n",
      "inferframe_00786.png\n"
     ]
    },
    {
     "name": "stderr",
     "output_type": "stream",
     "text": [
      "  3%|▎         | 126/3741 [00:06<02:54, 20.77it/s]"
     ]
    },
    {
     "name": "stdout",
     "output_type": "stream",
     "text": [
      "inferframe_03094.png\n",
      "inferframe_00729.png\n",
      "inferframe_01092.png\n",
      "inferframe_01808.png\n",
      "inferframe_00033.png\n"
     ]
    },
    {
     "name": "stderr",
     "output_type": "stream",
     "text": [
      "  4%|▎         | 132/3741 [00:06<02:51, 21.07it/s]"
     ]
    },
    {
     "name": "stdout",
     "output_type": "stream",
     "text": [
      "inferframe_00855.png\n",
      "inferframe_02533.png\n",
      "inferframe_02468.png\n",
      "inferframe_01336.png\n",
      "inferframe_00155.png\n"
     ]
    },
    {
     "name": "stderr",
     "output_type": "stream",
     "text": [
      "  4%|▎         | 135/3741 [00:06<02:54, 20.70it/s]"
     ]
    },
    {
     "name": "stdout",
     "output_type": "stream",
     "text": [
      "inferframe_01202.png\n",
      "inferframe_01492.png\n",
      "inferframe_01779.png\n",
      "inferframe_00700.png\n"
     ]
    },
    {
     "name": "stderr",
     "output_type": "stream",
     "text": [
      "  4%|▎         | 140/3741 [00:07<03:26, 17.43it/s]"
     ]
    },
    {
     "name": "stdout",
     "output_type": "stream",
     "text": [
      "inferframe_00003.png\n",
      "inferframe_01970.png\n",
      "inferframe_02342.png\n"
     ]
    },
    {
     "name": "stderr",
     "output_type": "stream",
     "text": [
      "  4%|▍         | 143/3741 [00:07<03:18, 18.09it/s]"
     ]
    },
    {
     "name": "stdout",
     "output_type": "stream",
     "text": [
      "inferframe_03574.png\n",
      "inferframe_03384.png\n",
      "inferframe_02742.png\n",
      "inferframe_00612.png\n",
      "inferframe_03247.png\n"
     ]
    },
    {
     "name": "stderr",
     "output_type": "stream",
     "text": [
      "  4%|▍         | 149/3741 [00:07<03:10, 18.81it/s]"
     ]
    },
    {
     "name": "stdout",
     "output_type": "stream",
     "text": [
      "inferframe_03434.png\n",
      "inferframe_02049.png\n",
      "inferframe_03054.png\n",
      "inferframe_00661.png\n"
     ]
    },
    {
     "name": "stderr",
     "output_type": "stream",
     "text": [
      "  4%|▍         | 153/3741 [00:07<03:17, 18.20it/s]"
     ]
    },
    {
     "name": "stdout",
     "output_type": "stream",
     "text": [
      "inferframe_01006.png\n",
      "inferframe_02702.png\n",
      "inferframe_01241.png\n",
      "inferframe_00323.png\n"
     ]
    },
    {
     "name": "stderr",
     "output_type": "stream",
     "text": [
      "  4%|▍         | 156/3741 [00:07<03:13, 18.57it/s]"
     ]
    },
    {
     "name": "stdout",
     "output_type": "stream",
     "text": [
      "inferframe_02531.png\n",
      "inferframe_02801.png\n",
      "inferframe_01530.png\n",
      "inferframe_03457.png\n",
      "inferframe_03616.png\n"
     ]
    },
    {
     "name": "stderr",
     "output_type": "stream",
     "text": [
      "  4%|▍         | 162/3741 [00:08<03:01, 19.72it/s]"
     ]
    },
    {
     "name": "stdout",
     "output_type": "stream",
     "text": [
      "inferframe_01532.png\n",
      "inferframe_00877.png\n",
      "inferframe_02967.png\n",
      "inferframe_00229.png\n"
     ]
    },
    {
     "name": "stderr",
     "output_type": "stream",
     "text": [
      "  4%|▍         | 167/3741 [00:08<02:56, 20.23it/s]"
     ]
    },
    {
     "name": "stdout",
     "output_type": "stream",
     "text": [
      "inferframe_01345.png\n",
      "inferframe_00233.png\n",
      "inferframe_01663.png\n",
      "inferframe_00917.png\n",
      "inferframe_00492.png\n"
     ]
    },
    {
     "name": "stderr",
     "output_type": "stream",
     "text": [
      "  5%|▍         | 170/3741 [00:08<02:56, 20.26it/s]"
     ]
    },
    {
     "name": "stdout",
     "output_type": "stream",
     "text": [
      "inferframe_01076.png\n",
      "inferframe_00682.png\n",
      "inferframe_00345.png\n",
      "inferframe_02930.png\n"
     ]
    },
    {
     "name": "stderr",
     "output_type": "stream",
     "text": [
      "  5%|▍         | 176/3741 [00:08<02:51, 20.79it/s]"
     ]
    },
    {
     "name": "stdout",
     "output_type": "stream",
     "text": [
      "inferframe_02521.png\n",
      "inferframe_03025.png\n",
      "inferframe_01560.png\n",
      "inferframe_00062.png\n",
      "inferframe_01065.png\n"
     ]
    },
    {
     "name": "stderr",
     "output_type": "stream",
     "text": [
      "  5%|▍         | 179/3741 [00:09<02:51, 20.74it/s]"
     ]
    },
    {
     "name": "stdout",
     "output_type": "stream",
     "text": [
      "inferframe_02896.png\n",
      "inferframe_00047.png\n",
      "inferframe_00114.png\n",
      "inferframe_03203.png\n",
      "inferframe_00563.png\n"
     ]
    },
    {
     "name": "stderr",
     "output_type": "stream",
     "text": [
      "  5%|▍         | 185/3741 [00:09<02:45, 21.43it/s]"
     ]
    },
    {
     "name": "stdout",
     "output_type": "stream",
     "text": [
      "inferframe_02785.png\n",
      "inferframe_02121.png\n",
      "inferframe_01142.png\n",
      "inferframe_02251.png\n",
      "inferframe_01146.png\n"
     ]
    },
    {
     "name": "stderr",
     "output_type": "stream",
     "text": [
      "  5%|▌         | 191/3741 [00:09<02:40, 22.15it/s]"
     ]
    },
    {
     "name": "stdout",
     "output_type": "stream",
     "text": [
      "inferframe_02246.png\n",
      "inferframe_02421.png\n",
      "inferframe_02224.png\n",
      "inferframe_03648.png\n",
      "inferframe_03347.png\n"
     ]
    },
    {
     "name": "stderr",
     "output_type": "stream",
     "text": [
      "  5%|▌         | 194/3741 [00:09<02:45, 21.38it/s]"
     ]
    },
    {
     "name": "stdout",
     "output_type": "stream",
     "text": [
      "inferframe_02329.png\n",
      "inferframe_01842.png\n",
      "inferframe_01886.png\n",
      "inferframe_02389.png\n"
     ]
    },
    {
     "name": "stderr",
     "output_type": "stream",
     "text": [
      "  5%|▌         | 197/3741 [00:09<02:50, 20.77it/s]"
     ]
    },
    {
     "name": "stdout",
     "output_type": "stream",
     "text": [
      "inferframe_02326.png\n",
      "inferframe_00653.png\n",
      "inferframe_03582.png\n",
      "inferframe_00056.png\n"
     ]
    },
    {
     "name": "stderr",
     "output_type": "stream",
     "text": [
      "  5%|▌         | 203/3741 [00:10<02:53, 20.38it/s]"
     ]
    },
    {
     "name": "stdout",
     "output_type": "stream",
     "text": [
      "inferframe_02013.png\n",
      "inferframe_02263.png\n",
      "inferframe_00833.png\n",
      "inferframe_00827.png\n",
      "inferframe_00027.png\n"
     ]
    },
    {
     "name": "stderr",
     "output_type": "stream",
     "text": [
      "  6%|▌         | 209/3741 [00:10<02:51, 20.57it/s]"
     ]
    },
    {
     "name": "stdout",
     "output_type": "stream",
     "text": [
      "inferframe_01754.png\n",
      "inferframe_03402.png\n",
      "inferframe_02827.png\n",
      "inferframe_01166.png\n",
      "inferframe_01311.png\n"
     ]
    },
    {
     "name": "stderr",
     "output_type": "stream",
     "text": [
      "  6%|▌         | 212/3741 [00:10<02:48, 20.99it/s]"
     ]
    },
    {
     "name": "stdout",
     "output_type": "stream",
     "text": [
      "inferframe_00032.png\n",
      "inferframe_02502.png\n",
      "inferframe_01595.png\n",
      "inferframe_02035.png\n",
      "inferframe_01645.png\n"
     ]
    },
    {
     "name": "stderr",
     "output_type": "stream",
     "text": [
      "  6%|▌         | 218/3741 [00:10<02:43, 21.52it/s]"
     ]
    },
    {
     "name": "stdout",
     "output_type": "stream",
     "text": [
      "inferframe_03481.png\n",
      "inferframe_02309.png\n",
      "inferframe_03253.png\n",
      "inferframe_00207.png\n"
     ]
    },
    {
     "name": "stderr",
     "output_type": "stream",
     "text": [
      "  6%|▌         | 221/3741 [00:11<02:56, 19.96it/s]"
     ]
    },
    {
     "name": "stdout",
     "output_type": "stream",
     "text": [
      "inferframe_01261.png\n",
      "inferframe_02548.png\n",
      "inferframe_02938.png\n",
      "inferframe_02556.png\n",
      "inferframe_02131.png\n"
     ]
    },
    {
     "name": "stderr",
     "output_type": "stream",
     "text": [
      "  6%|▌         | 227/3741 [00:11<02:43, 21.44it/s]"
     ]
    },
    {
     "name": "stdout",
     "output_type": "stream",
     "text": [
      "inferframe_00761.png\n",
      "inferframe_03703.png\n",
      "inferframe_00466.png\n",
      "inferframe_03231.png\n",
      "inferframe_03657.png\n"
     ]
    },
    {
     "name": "stderr",
     "output_type": "stream",
     "text": [
      "  6%|▌         | 233/3741 [00:11<02:41, 21.75it/s]"
     ]
    },
    {
     "name": "stdout",
     "output_type": "stream",
     "text": [
      "inferframe_00779.png\n",
      "inferframe_02012.png\n",
      "inferframe_00471.png\n",
      "inferframe_02929.png\n",
      "inferframe_03716.png\n"
     ]
    },
    {
     "name": "stderr",
     "output_type": "stream",
     "text": [
      "  6%|▋         | 236/3741 [00:11<02:46, 21.06it/s]"
     ]
    },
    {
     "name": "stdout",
     "output_type": "stream",
     "text": [
      "inferframe_03139.png\n",
      "inferframe_01958.png\n",
      "inferframe_02505.png\n",
      "inferframe_00421.png\n",
      "inferframe_01062.png\n"
     ]
    },
    {
     "name": "stderr",
     "output_type": "stream",
     "text": [
      "  6%|▋         | 242/3741 [00:12<02:45, 21.10it/s]"
     ]
    },
    {
     "name": "stdout",
     "output_type": "stream",
     "text": [
      "inferframe_00380.png\n",
      "inferframe_03294.png\n",
      "inferframe_00551.png\n",
      "inferframe_01047.png\n",
      "inferframe_01949.png\n"
     ]
    },
    {
     "name": "stderr",
     "output_type": "stream",
     "text": [
      "  7%|▋         | 248/3741 [00:12<02:49, 20.64it/s]"
     ]
    },
    {
     "name": "stdout",
     "output_type": "stream",
     "text": [
      "inferframe_02169.png\n",
      "inferframe_01848.png\n",
      "inferframe_00200.png\n",
      "inferframe_00720.png\n",
      "inferframe_00546.png\n"
     ]
    },
    {
     "name": "stderr",
     "output_type": "stream",
     "text": [
      "  7%|▋         | 251/3741 [00:12<02:46, 20.91it/s]"
     ]
    },
    {
     "name": "stdout",
     "output_type": "stream",
     "text": [
      "inferframe_02994.png\n",
      "inferframe_02208.png\n",
      "inferframe_00340.png\n",
      "inferframe_01043.png\n",
      "inferframe_00122.png\n"
     ]
    },
    {
     "name": "stderr",
     "output_type": "stream",
     "text": [
      "  7%|▋         | 257/3741 [00:12<02:38, 21.95it/s]"
     ]
    },
    {
     "name": "stdout",
     "output_type": "stream",
     "text": [
      "inferframe_02247.png\n",
      "inferframe_02155.png\n",
      "inferframe_02148.png\n",
      "inferframe_02302.png\n",
      "inferframe_01316.png\n"
     ]
    },
    {
     "name": "stderr",
     "output_type": "stream",
     "text": [
      "  7%|▋         | 263/3741 [00:13<02:41, 21.59it/s]"
     ]
    },
    {
     "name": "stdout",
     "output_type": "stream",
     "text": [
      "inferframe_03275.png\n",
      "inferframe_02002.png\n",
      "inferframe_01827.png\n",
      "inferframe_01074.png\n",
      "inferframe_03125.png\n"
     ]
    },
    {
     "name": "stderr",
     "output_type": "stream",
     "text": [
      "  7%|▋         | 266/3741 [00:13<02:41, 21.48it/s]"
     ]
    },
    {
     "name": "stdout",
     "output_type": "stream",
     "text": [
      "inferframe_01376.png\n",
      "inferframe_02772.png\n",
      "inferframe_02853.png\n",
      "inferframe_02337.png\n",
      "inferframe_03611.png\n"
     ]
    },
    {
     "name": "stderr",
     "output_type": "stream",
     "text": [
      "  7%|▋         | 272/3741 [00:13<02:47, 20.75it/s]"
     ]
    },
    {
     "name": "stdout",
     "output_type": "stream",
     "text": [
      "inferframe_02535.png\n",
      "inferframe_01916.png\n",
      "inferframe_00719.png\n",
      "inferframe_01820.png\n"
     ]
    },
    {
     "name": "stderr",
     "output_type": "stream",
     "text": [
      "  7%|▋         | 275/3741 [00:13<02:49, 20.40it/s]"
     ]
    },
    {
     "name": "stdout",
     "output_type": "stream",
     "text": [
      "inferframe_01107.png\n",
      "inferframe_02669.png\n",
      "inferframe_00377.png\n",
      "inferframe_00721.png\n",
      "inferframe_02434.png\n"
     ]
    },
    {
     "name": "stderr",
     "output_type": "stream",
     "text": [
      "  8%|▊         | 281/3741 [00:13<02:49, 20.47it/s]"
     ]
    },
    {
     "name": "stdout",
     "output_type": "stream",
     "text": [
      "inferframe_00691.png\n",
      "inferframe_01957.png\n",
      "inferframe_02483.png\n",
      "inferframe_02099.png\n",
      "inferframe_00055.png\n"
     ]
    },
    {
     "name": "stderr",
     "output_type": "stream",
     "text": [
      "  8%|▊         | 287/3741 [00:14<02:48, 20.52it/s]"
     ]
    },
    {
     "name": "stdout",
     "output_type": "stream",
     "text": [
      "inferframe_02900.png\n",
      "inferframe_00152.png\n",
      "inferframe_01785.png\n",
      "inferframe_01493.png\n"
     ]
    },
    {
     "name": "stderr",
     "output_type": "stream",
     "text": [
      "  8%|▊         | 290/3741 [00:14<02:45, 20.90it/s]"
     ]
    },
    {
     "name": "stdout",
     "output_type": "stream",
     "text": [
      "inferframe_03113.png\n",
      "inferframe_03364.png\n",
      "inferframe_02086.png\n",
      "inferframe_03468.png\n",
      "inferframe_02156.png\n"
     ]
    },
    {
     "name": "stderr",
     "output_type": "stream",
     "text": [
      "  8%|▊         | 296/3741 [00:14<02:47, 20.56it/s]"
     ]
    },
    {
     "name": "stdout",
     "output_type": "stream",
     "text": [
      "inferframe_01944.png\n",
      "inferframe_01510.png\n",
      "inferframe_03370.png\n",
      "inferframe_02427.png\n",
      "inferframe_02367.png\n"
     ]
    },
    {
     "name": "stderr",
     "output_type": "stream",
     "text": [
      "  8%|▊         | 299/3741 [00:14<02:46, 20.64it/s]"
     ]
    },
    {
     "name": "stdout",
     "output_type": "stream",
     "text": [
      "inferframe_00710.png\n",
      "inferframe_03690.png\n",
      "inferframe_01407.png\n",
      "inferframe_03691.png\n",
      "inferframe_01061.png\n"
     ]
    },
    {
     "name": "stderr",
     "output_type": "stream",
     "text": [
      "  8%|▊         | 305/3741 [00:15<02:47, 20.51it/s]"
     ]
    },
    {
     "name": "stdout",
     "output_type": "stream",
     "text": [
      "inferframe_00214.png\n",
      "inferframe_03643.png\n",
      "inferframe_00883.png\n",
      "inferframe_00630.png\n"
     ]
    },
    {
     "name": "stderr",
     "output_type": "stream",
     "text": [
      "  8%|▊         | 308/3741 [00:15<02:56, 19.50it/s]"
     ]
    },
    {
     "name": "stdout",
     "output_type": "stream",
     "text": [
      "inferframe_03450.png\n",
      "inferframe_00996.png\n",
      "inferframe_00192.png\n",
      "inferframe_03141.png\n"
     ]
    },
    {
     "name": "stderr",
     "output_type": "stream",
     "text": [
      "  8%|▊         | 313/3741 [00:15<02:52, 19.85it/s]"
     ]
    },
    {
     "name": "stdout",
     "output_type": "stream",
     "text": [
      "inferframe_02849.png\n",
      "inferframe_02611.png\n",
      "inferframe_01125.png\n",
      "inferframe_01138.png\n",
      "inferframe_02865.png\n"
     ]
    },
    {
     "name": "stderr",
     "output_type": "stream",
     "text": [
      "  9%|▊         | 319/3741 [00:15<02:39, 21.51it/s]"
     ]
    },
    {
     "name": "stdout",
     "output_type": "stream",
     "text": [
      "inferframe_00722.png\n",
      "inferframe_02229.png\n",
      "inferframe_02051.png\n",
      "inferframe_01538.png\n",
      "inferframe_00718.png\n"
     ]
    },
    {
     "name": "stderr",
     "output_type": "stream",
     "text": [
      "  9%|▊         | 322/3741 [00:15<02:39, 21.50it/s]"
     ]
    },
    {
     "name": "stdout",
     "output_type": "stream",
     "text": [
      "inferframe_01279.png\n",
      "inferframe_02165.png\n",
      "inferframe_03626.png\n",
      "inferframe_00225.png\n",
      "inferframe_02968.png\n"
     ]
    },
    {
     "name": "stderr",
     "output_type": "stream",
     "text": [
      "  9%|▉         | 328/3741 [00:16<02:41, 21.18it/s]"
     ]
    },
    {
     "name": "stdout",
     "output_type": "stream",
     "text": [
      "inferframe_01283.png\n",
      "inferframe_02794.png\n",
      "inferframe_00834.png\n",
      "inferframe_02908.png\n",
      "inferframe_03038.png\n"
     ]
    },
    {
     "name": "stderr",
     "output_type": "stream",
     "text": [
      "  9%|▉         | 331/3741 [00:16<02:42, 20.98it/s]"
     ]
    },
    {
     "name": "stdout",
     "output_type": "stream",
     "text": [
      "inferframe_00295.png\n",
      "inferframe_02974.png\n",
      "inferframe_01795.png\n",
      "inferframe_03313.png\n"
     ]
    },
    {
     "name": "stderr",
     "output_type": "stream",
     "text": [
      "  9%|▉         | 337/3741 [00:16<02:47, 20.33it/s]"
     ]
    },
    {
     "name": "stdout",
     "output_type": "stream",
     "text": [
      "inferframe_03083.png\n",
      "inferframe_00156.png\n",
      "inferframe_01099.png\n",
      "inferframe_01303.png\n",
      "inferframe_00111.png\n"
     ]
    },
    {
     "name": "stderr",
     "output_type": "stream",
     "text": [
      "  9%|▉         | 343/3741 [00:16<02:47, 20.27it/s]"
     ]
    },
    {
     "name": "stdout",
     "output_type": "stream",
     "text": [
      "inferframe_00407.png\n",
      "inferframe_02280.png\n",
      "inferframe_00770.png\n",
      "inferframe_01346.png\n",
      "inferframe_03296.png\n"
     ]
    },
    {
     "name": "stderr",
     "output_type": "stream",
     "text": [
      "  9%|▉         | 346/3741 [00:17<02:50, 19.95it/s]"
     ]
    },
    {
     "name": "stdout",
     "output_type": "stream",
     "text": [
      "inferframe_00335.png\n",
      "inferframe_00968.png\n",
      "inferframe_02864.png\n",
      "inferframe_01550.png\n"
     ]
    },
    {
     "name": "stderr",
     "output_type": "stream",
     "text": [
      "  9%|▉         | 352/3741 [00:17<02:50, 19.92it/s]"
     ]
    },
    {
     "name": "stdout",
     "output_type": "stream",
     "text": [
      "inferframe_02564.png\n",
      "inferframe_03379.png\n",
      "inferframe_00919.png\n",
      "inferframe_02735.png\n",
      "inferframe_00501.png\n"
     ]
    },
    {
     "name": "stderr",
     "output_type": "stream",
     "text": [
      "  9%|▉         | 355/3741 [00:17<02:52, 19.65it/s]"
     ]
    },
    {
     "name": "stdout",
     "output_type": "stream",
     "text": [
      "inferframe_00619.png\n",
      "inferframe_00660.png\n",
      "inferframe_02892.png\n",
      "inferframe_02184.png\n"
     ]
    },
    {
     "name": "stderr",
     "output_type": "stream",
     "text": [
      " 10%|▉         | 361/3741 [00:17<02:44, 20.59it/s]"
     ]
    },
    {
     "name": "stdout",
     "output_type": "stream",
     "text": [
      "inferframe_01122.png\n",
      "inferframe_00856.png\n",
      "inferframe_01636.png\n",
      "inferframe_01301.png\n",
      "inferframe_02942.png\n"
     ]
    },
    {
     "name": "stderr",
     "output_type": "stream",
     "text": [
      " 10%|▉         | 364/3741 [00:17<02:44, 20.51it/s]"
     ]
    },
    {
     "name": "stdout",
     "output_type": "stream",
     "text": [
      "inferframe_02243.png\n",
      "inferframe_03127.png\n",
      "inferframe_00954.png\n",
      "inferframe_03515.png\n",
      "inferframe_01273.png\n"
     ]
    },
    {
     "name": "stderr",
     "output_type": "stream",
     "text": [
      " 10%|▉         | 370/3741 [00:18<02:45, 20.41it/s]"
     ]
    },
    {
     "name": "stdout",
     "output_type": "stream",
     "text": [
      "inferframe_00731.png\n",
      "inferframe_01440.png\n",
      "inferframe_03686.png\n",
      "inferframe_02492.png\n",
      "inferframe_00446.png\n"
     ]
    },
    {
     "name": "stderr",
     "output_type": "stream",
     "text": [
      " 10%|▉         | 373/3741 [00:18<02:38, 21.20it/s]"
     ]
    },
    {
     "name": "stdout",
     "output_type": "stream",
     "text": [
      "inferframe_03425.png\n",
      "inferframe_03292.png\n",
      "inferframe_01056.png\n",
      "inferframe_03625.png\n"
     ]
    },
    {
     "name": "stderr",
     "output_type": "stream",
     "text": [
      " 10%|█         | 379/3741 [00:18<02:44, 20.40it/s]"
     ]
    },
    {
     "name": "stdout",
     "output_type": "stream",
     "text": [
      "inferframe_02082.png\n",
      "inferframe_00638.png\n",
      "inferframe_02046.png\n",
      "inferframe_03015.png\n"
     ]
    },
    {
     "name": "stderr",
     "output_type": "stream",
     "text": [
      " 10%|█         | 382/3741 [00:18<02:40, 20.88it/s]"
     ]
    },
    {
     "name": "stdout",
     "output_type": "stream",
     "text": [
      "inferframe_00759.png\n",
      "inferframe_03451.png\n",
      "inferframe_01276.png\n",
      "inferframe_02314.png\n",
      "inferframe_00788.png\n"
     ]
    },
    {
     "name": "stderr",
     "output_type": "stream",
     "text": [
      " 10%|█         | 388/3741 [00:19<02:43, 20.50it/s]"
     ]
    },
    {
     "name": "stdout",
     "output_type": "stream",
     "text": [
      "inferframe_03399.png\n",
      "inferframe_02154.png\n",
      "inferframe_03063.png\n",
      "inferframe_01686.png\n",
      "inferframe_02917.png\n"
     ]
    },
    {
     "name": "stderr",
     "output_type": "stream",
     "text": [
      " 11%|█         | 394/3741 [00:19<02:42, 20.61it/s]"
     ]
    },
    {
     "name": "stdout",
     "output_type": "stream",
     "text": [
      "inferframe_01052.png\n",
      "inferframe_01639.png\n",
      "inferframe_01541.png\n",
      "inferframe_01046.png\n",
      "inferframe_01931.png\n"
     ]
    },
    {
     "name": "stderr",
     "output_type": "stream",
     "text": [
      " 11%|█         | 397/3741 [00:19<02:45, 20.21it/s]"
     ]
    },
    {
     "name": "stdout",
     "output_type": "stream",
     "text": [
      "inferframe_01277.png\n",
      "inferframe_03064.png\n",
      "inferframe_02614.png\n",
      "inferframe_00962.png\n",
      "inferframe_00231.png\n"
     ]
    },
    {
     "name": "stderr",
     "output_type": "stream",
     "text": [
      " 11%|█         | 403/3741 [00:19<02:43, 20.47it/s]"
     ]
    },
    {
     "name": "stdout",
     "output_type": "stream",
     "text": [
      "inferframe_01363.png\n",
      "inferframe_00363.png\n",
      "inferframe_02372.png\n",
      "inferframe_03380.png\n",
      "inferframe_00378.png\n"
     ]
    },
    {
     "name": "stderr",
     "output_type": "stream",
     "text": [
      " 11%|█         | 406/3741 [00:20<02:42, 20.47it/s]"
     ]
    },
    {
     "name": "stdout",
     "output_type": "stream",
     "text": [
      "inferframe_03604.png\n",
      "inferframe_00885.png\n",
      "inferframe_01922.png\n",
      "inferframe_01335.png\n"
     ]
    },
    {
     "name": "stderr",
     "output_type": "stream",
     "text": [
      " 11%|█         | 412/3741 [00:20<02:36, 21.25it/s]"
     ]
    },
    {
     "name": "stdout",
     "output_type": "stream",
     "text": [
      "inferframe_00452.png\n",
      "inferframe_00488.png\n",
      "inferframe_02064.png\n",
      "inferframe_03592.png\n",
      "inferframe_00543.png\n",
      "inferframe_02050.png\n"
     ]
    },
    {
     "name": "stderr",
     "output_type": "stream",
     "text": [
      " 11%|█         | 418/3741 [00:20<02:29, 22.29it/s]"
     ]
    },
    {
     "name": "stdout",
     "output_type": "stream",
     "text": [
      "inferframe_00534.png\n",
      "inferframe_00878.png\n",
      "inferframe_00396.png\n",
      "inferframe_00195.png\n",
      "inferframe_03551.png\n"
     ]
    },
    {
     "name": "stderr",
     "output_type": "stream",
     "text": [
      " 11%|█▏        | 421/3741 [00:20<02:34, 21.43it/s]"
     ]
    },
    {
     "name": "stdout",
     "output_type": "stream",
     "text": [
      "inferframe_01859.png\n",
      "inferframe_03052.png\n",
      "inferframe_02998.png\n",
      "inferframe_02018.png\n"
     ]
    },
    {
     "name": "stderr",
     "output_type": "stream",
     "text": [
      " 11%|█▏        | 427/3741 [00:20<02:32, 21.74it/s]"
     ]
    },
    {
     "name": "stdout",
     "output_type": "stream",
     "text": [
      "inferframe_02089.png\n",
      "inferframe_02523.png\n",
      "inferframe_02278.png\n",
      "inferframe_03365.png\n",
      "inferframe_02589.png\n"
     ]
    },
    {
     "name": "stderr",
     "output_type": "stream",
     "text": [
      " 12%|█▏        | 433/3741 [00:21<02:37, 21.07it/s]"
     ]
    },
    {
     "name": "stdout",
     "output_type": "stream",
     "text": [
      "inferframe_01087.png\n",
      "inferframe_02590.png\n",
      "inferframe_00987.png\n",
      "inferframe_03429.png\n",
      "inferframe_01102.png\n"
     ]
    },
    {
     "name": "stderr",
     "output_type": "stream",
     "text": [
      " 12%|█▏        | 436/3741 [00:21<02:33, 21.48it/s]"
     ]
    },
    {
     "name": "stdout",
     "output_type": "stream",
     "text": [
      "inferframe_01935.png\n",
      "inferframe_02460.png\n",
      "inferframe_02430.png\n",
      "inferframe_01338.png\n",
      "inferframe_00462.png\n"
     ]
    },
    {
     "name": "stderr",
     "output_type": "stream",
     "text": [
      " 12%|█▏        | 442/3741 [00:21<02:33, 21.45it/s]"
     ]
    },
    {
     "name": "stdout",
     "output_type": "stream",
     "text": [
      "inferframe_01206.png\n",
      "inferframe_01022.png\n",
      "inferframe_03560.png\n",
      "inferframe_01841.png\n"
     ]
    },
    {
     "name": "stderr",
     "output_type": "stream",
     "text": [
      " 12%|█▏        | 445/3741 [00:21<02:41, 20.41it/s]"
     ]
    },
    {
     "name": "stdout",
     "output_type": "stream",
     "text": [
      "inferframe_01271.png\n",
      "inferframe_01182.png\n",
      "inferframe_00094.png\n",
      "inferframe_00980.png\n"
     ]
    },
    {
     "name": "stderr",
     "output_type": "stream",
     "text": [
      " 12%|█▏        | 451/3741 [00:22<02:39, 20.67it/s]"
     ]
    },
    {
     "name": "stdout",
     "output_type": "stream",
     "text": [
      "inferframe_02990.png\n",
      "inferframe_01481.png\n",
      "inferframe_02412.png\n",
      "inferframe_01573.png\n",
      "inferframe_01561.png\n"
     ]
    },
    {
     "name": "stderr",
     "output_type": "stream",
     "text": [
      " 12%|█▏        | 454/3741 [00:22<02:34, 21.25it/s]"
     ]
    },
    {
     "name": "stdout",
     "output_type": "stream",
     "text": [
      "inferframe_00375.png\n",
      "inferframe_03311.png\n",
      "inferframe_01465.png\n",
      "inferframe_03086.png\n",
      "inferframe_02566.png\n"
     ]
    },
    {
     "name": "stderr",
     "output_type": "stream",
     "text": [
      " 12%|█▏        | 460/3741 [00:22<02:32, 21.54it/s]"
     ]
    },
    {
     "name": "stdout",
     "output_type": "stream",
     "text": [
      "inferframe_02162.png\n",
      "inferframe_02373.png\n",
      "inferframe_01477.png\n",
      "inferframe_00681.png\n"
     ]
    },
    {
     "name": "stderr",
     "output_type": "stream",
     "text": [
      " 12%|█▏        | 463/3741 [00:22<02:42, 20.11it/s]"
     ]
    },
    {
     "name": "stdout",
     "output_type": "stream",
     "text": [
      "inferframe_01896.png\n",
      "inferframe_03581.png\n",
      "inferframe_03591.png\n",
      "inferframe_03250.png\n",
      "inferframe_01420.png\n"
     ]
    },
    {
     "name": "stderr",
     "output_type": "stream",
     "text": [
      " 13%|█▎        | 469/3741 [00:22<02:34, 21.22it/s]"
     ]
    },
    {
     "name": "stdout",
     "output_type": "stream",
     "text": [
      "inferframe_02946.png\n",
      "inferframe_00343.png\n",
      "inferframe_01196.png\n",
      "inferframe_03609.png\n",
      "inferframe_03404.png\n"
     ]
    },
    {
     "name": "stderr",
     "output_type": "stream",
     "text": [
      " 13%|█▎        | 475/3741 [00:23<02:36, 20.85it/s]"
     ]
    },
    {
     "name": "stdout",
     "output_type": "stream",
     "text": [
      "inferframe_00495.png\n",
      "inferframe_01228.png\n",
      "inferframe_00822.png\n",
      "inferframe_00912.png\n",
      "inferframe_01625.png\n"
     ]
    },
    {
     "name": "stderr",
     "output_type": "stream",
     "text": [
      " 13%|█▎        | 478/3741 [00:23<02:35, 20.95it/s]"
     ]
    },
    {
     "name": "stdout",
     "output_type": "stream",
     "text": [
      "inferframe_02882.png\n",
      "inferframe_03531.png\n",
      "inferframe_03272.png\n",
      "inferframe_02568.png\n",
      "inferframe_02588.png\n"
     ]
    },
    {
     "name": "stderr",
     "output_type": "stream",
     "text": [
      " 13%|█▎        | 484/3741 [00:23<02:39, 20.42it/s]"
     ]
    },
    {
     "name": "stdout",
     "output_type": "stream",
     "text": [
      "inferframe_01729.png\n",
      "inferframe_00776.png\n",
      "inferframe_01256.png\n",
      "inferframe_03532.png\n"
     ]
    },
    {
     "name": "stderr",
     "output_type": "stream",
     "text": [
      " 13%|█▎        | 487/3741 [00:23<02:38, 20.56it/s]"
     ]
    },
    {
     "name": "stdout",
     "output_type": "stream",
     "text": [
      "inferframe_01751.png\n",
      "inferframe_01476.png\n",
      "inferframe_03036.png\n",
      "inferframe_02021.png\n",
      "inferframe_00355.png\n"
     ]
    },
    {
     "name": "stderr",
     "output_type": "stream",
     "text": [
      " 13%|█▎        | 493/3741 [00:24<02:31, 21.44it/s]"
     ]
    },
    {
     "name": "stdout",
     "output_type": "stream",
     "text": [
      "inferframe_00412.png\n",
      "inferframe_03694.png\n",
      "inferframe_01581.png\n",
      "inferframe_02679.png\n",
      "inferframe_01594.png\n"
     ]
    },
    {
     "name": "stderr",
     "output_type": "stream",
     "text": [
      " 13%|█▎        | 499/3741 [00:24<02:29, 21.62it/s]"
     ]
    },
    {
     "name": "stdout",
     "output_type": "stream",
     "text": [
      "inferframe_01208.png\n",
      "inferframe_00385.png\n",
      "inferframe_01114.png\n",
      "inferframe_00860.png\n",
      "inferframe_01081.png\n"
     ]
    },
    {
     "name": "stderr",
     "output_type": "stream",
     "text": [
      " 13%|█▎        | 502/3741 [00:24<02:32, 21.25it/s]"
     ]
    },
    {
     "name": "stdout",
     "output_type": "stream",
     "text": [
      "inferframe_02250.png\n",
      "inferframe_01012.png\n",
      "inferframe_02043.png\n",
      "inferframe_02683.png\n",
      "inferframe_03182.png\n"
     ]
    },
    {
     "name": "stderr",
     "output_type": "stream",
     "text": [
      " 14%|█▎        | 508/3741 [00:24<02:33, 21.02it/s]"
     ]
    },
    {
     "name": "stdout",
     "output_type": "stream",
     "text": [
      "inferframe_03519.png\n",
      "inferframe_02401.png\n",
      "inferframe_00582.png\n",
      "inferframe_02371.png\n",
      "inferframe_02561.png\n"
     ]
    },
    {
     "name": "stderr",
     "output_type": "stream",
     "text": [
      " 14%|█▎        | 514/3741 [00:25<02:34, 20.84it/s]"
     ]
    },
    {
     "name": "stdout",
     "output_type": "stream",
     "text": [
      "inferframe_02487.png\n",
      "inferframe_02769.png\n",
      "inferframe_00847.png\n",
      "inferframe_03485.png\n",
      "inferframe_03241.png\n"
     ]
    },
    {
     "name": "stderr",
     "output_type": "stream",
     "text": [
      " 14%|█▍        | 517/3741 [00:25<02:35, 20.78it/s]"
     ]
    },
    {
     "name": "stdout",
     "output_type": "stream",
     "text": [
      "inferframe_02235.png\n",
      "inferframe_00876.png\n",
      "inferframe_00365.png\n",
      "inferframe_00352.png\n",
      "inferframe_02097.png\n"
     ]
    },
    {
     "name": "stderr",
     "output_type": "stream",
     "text": [
      " 14%|█▍        | 523/3741 [00:25<02:23, 22.50it/s]"
     ]
    },
    {
     "name": "stdout",
     "output_type": "stream",
     "text": [
      "inferframe_01650.png\n",
      "inferframe_01744.png\n",
      "inferframe_02513.png\n",
      "inferframe_00329.png\n",
      "inferframe_00688.png\n"
     ]
    },
    {
     "name": "stderr",
     "output_type": "stream",
     "text": [
      " 14%|█▍        | 529/3741 [00:25<02:24, 22.22it/s]"
     ]
    },
    {
     "name": "stdout",
     "output_type": "stream",
     "text": [
      "inferframe_02102.png\n",
      "inferframe_00307.png\n",
      "inferframe_03176.png\n",
      "inferframe_02458.png\n",
      "inferframe_01491.png\n"
     ]
    },
    {
     "name": "stderr",
     "output_type": "stream",
     "text": [
      " 14%|█▍        | 532/3741 [00:25<02:23, 22.36it/s]"
     ]
    },
    {
     "name": "stdout",
     "output_type": "stream",
     "text": [
      "inferframe_03388.png\n",
      "inferframe_00256.png\n",
      "inferframe_02682.png\n",
      "inferframe_03341.png\n",
      "inferframe_03471.png\n"
     ]
    },
    {
     "name": "stderr",
     "output_type": "stream",
     "text": [
      " 14%|█▍        | 538/3741 [00:26<02:27, 21.66it/s]"
     ]
    },
    {
     "name": "stdout",
     "output_type": "stream",
     "text": [
      "inferframe_03193.png\n",
      "inferframe_00972.png\n",
      "inferframe_01607.png\n",
      "inferframe_02823.png\n"
     ]
    },
    {
     "name": "stderr",
     "output_type": "stream",
     "text": [
      " 14%|█▍        | 541/3741 [00:26<02:32, 20.95it/s]"
     ]
    },
    {
     "name": "stdout",
     "output_type": "stream",
     "text": [
      "inferframe_01489.png\n",
      "inferframe_03671.png\n",
      "inferframe_02048.png\n",
      "inferframe_02921.png\n",
      "inferframe_00293.png\n"
     ]
    },
    {
     "name": "stderr",
     "output_type": "stream",
     "text": [
      " 15%|█▍        | 547/3741 [00:26<02:33, 20.76it/s]"
     ]
    },
    {
     "name": "stdout",
     "output_type": "stream",
     "text": [
      "inferframe_02111.png\n",
      "inferframe_02693.png\n",
      "inferframe_01870.png\n",
      "inferframe_03115.png\n"
     ]
    },
    {
     "name": "stderr",
     "output_type": "stream",
     "text": [
      " 15%|█▍        | 550/3741 [00:26<02:34, 20.69it/s]"
     ]
    },
    {
     "name": "stdout",
     "output_type": "stream",
     "text": [
      "inferframe_03409.png\n",
      "inferframe_02734.png\n",
      "inferframe_03724.png\n",
      "inferframe_01664.png\n",
      "inferframe_03224.png\n"
     ]
    },
    {
     "name": "stderr",
     "output_type": "stream",
     "text": [
      " 15%|█▍        | 556/3741 [00:27<02:31, 20.99it/s]"
     ]
    },
    {
     "name": "stdout",
     "output_type": "stream",
     "text": [
      "inferframe_02477.png\n",
      "inferframe_01036.png\n",
      "inferframe_00736.png\n",
      "inferframe_02714.png\n",
      "inferframe_00985.png\n"
     ]
    },
    {
     "name": "stderr",
     "output_type": "stream",
     "text": [
      " 15%|█▌        | 562/3741 [00:27<02:27, 21.61it/s]"
     ]
    },
    {
     "name": "stdout",
     "output_type": "stream",
     "text": [
      "inferframe_00294.png\n",
      "inferframe_01401.png\n",
      "inferframe_01452.png\n",
      "inferframe_03469.png\n",
      "inferframe_01579.png\n"
     ]
    },
    {
     "name": "stderr",
     "output_type": "stream",
     "text": [
      " 15%|█▌        | 565/3741 [00:27<02:24, 21.99it/s]"
     ]
    },
    {
     "name": "stdout",
     "output_type": "stream",
     "text": [
      "inferframe_03654.png\n",
      "inferframe_03411.png\n",
      "inferframe_02778.png\n",
      "inferframe_02756.png\n",
      "inferframe_03216.png\n"
     ]
    },
    {
     "name": "stderr",
     "output_type": "stream",
     "text": [
      " 15%|█▌        | 571/3741 [00:27<02:29, 21.26it/s]"
     ]
    },
    {
     "name": "stdout",
     "output_type": "stream",
     "text": [
      "inferframe_00607.png\n",
      "inferframe_00541.png\n",
      "inferframe_02916.png\n",
      "inferframe_00327.png\n",
      "inferframe_02078.png\n"
     ]
    },
    {
     "name": "stderr",
     "output_type": "stream",
     "text": [
      " 15%|█▌        | 574/3741 [00:27<02:28, 21.38it/s]"
     ]
    },
    {
     "name": "stdout",
     "output_type": "stream",
     "text": [
      "inferframe_00196.png\n",
      "inferframe_02042.png\n",
      "inferframe_03286.png\n",
      "inferframe_03321.png\n"
     ]
    },
    {
     "name": "stderr",
     "output_type": "stream",
     "text": [
      " 16%|█▌        | 580/3741 [00:28<02:35, 20.29it/s]"
     ]
    },
    {
     "name": "stdout",
     "output_type": "stream",
     "text": [
      "inferframe_01472.png\n",
      "inferframe_03089.png\n",
      "inferframe_02489.png\n",
      "inferframe_01460.png\n",
      "inferframe_03335.png\n"
     ]
    },
    {
     "name": "stderr",
     "output_type": "stream",
     "text": [
      " 16%|█▌        | 586/3741 [00:28<02:33, 20.60it/s]"
     ]
    },
    {
     "name": "stdout",
     "output_type": "stream",
     "text": [
      "inferframe_03028.png\n",
      "inferframe_03307.png\n",
      "inferframe_02011.png\n",
      "inferframe_01258.png\n",
      "inferframe_02755.png\n"
     ]
    },
    {
     "name": "stderr",
     "output_type": "stream",
     "text": [
      " 16%|█▌        | 589/3741 [00:28<02:31, 20.85it/s]"
     ]
    },
    {
     "name": "stdout",
     "output_type": "stream",
     "text": [
      "inferframe_00333.png\n",
      "inferframe_01792.png\n",
      "inferframe_00654.png\n",
      "inferframe_01016.png\n",
      "inferframe_01359.png\n"
     ]
    },
    {
     "name": "stderr",
     "output_type": "stream",
     "text": [
      " 16%|█▌        | 595/3741 [00:28<02:30, 20.94it/s]"
     ]
    },
    {
     "name": "stdout",
     "output_type": "stream",
     "text": [
      "inferframe_03677.png\n",
      "inferframe_02390.png\n",
      "inferframe_00595.png\n",
      "inferframe_00826.png\n",
      "inferframe_01226.png\n"
     ]
    },
    {
     "name": "stderr",
     "output_type": "stream",
     "text": [
      " 16%|█▌        | 601/3741 [00:29<02:30, 20.93it/s]"
     ]
    },
    {
     "name": "stdout",
     "output_type": "stream",
     "text": [
      "inferframe_01306.png\n",
      "inferframe_00273.png\n",
      "inferframe_02604.png\n",
      "inferframe_01382.png\n",
      "inferframe_01496.png\n"
     ]
    },
    {
     "name": "stderr",
     "output_type": "stream",
     "text": [
      " 16%|█▌        | 604/3741 [00:29<02:27, 21.25it/s]"
     ]
    },
    {
     "name": "stdout",
     "output_type": "stream",
     "text": [
      "inferframe_02493.png\n",
      "inferframe_01333.png\n",
      "inferframe_01722.png\n",
      "inferframe_00131.png\n",
      "inferframe_02905.png\n"
     ]
    },
    {
     "name": "stderr",
     "output_type": "stream",
     "text": [
      " 16%|█▋        | 610/3741 [00:29<02:30, 20.75it/s]"
     ]
    },
    {
     "name": "stdout",
     "output_type": "stream",
     "text": [
      "inferframe_03669.png\n",
      "inferframe_03302.png\n",
      "inferframe_02795.png\n",
      "inferframe_00871.png\n",
      "inferframe_00790.png\n"
     ]
    },
    {
     "name": "stderr",
     "output_type": "stream",
     "text": [
      " 16%|█▋        | 616/3741 [00:29<02:29, 20.85it/s]"
     ]
    },
    {
     "name": "stdout",
     "output_type": "stream",
     "text": [
      "inferframe_00166.png\n",
      "inferframe_03505.png\n",
      "inferframe_03117.png\n",
      "inferframe_02935.png\n",
      "inferframe_00967.png\n"
     ]
    },
    {
     "name": "stderr",
     "output_type": "stream",
     "text": [
      " 17%|█▋        | 619/3741 [00:30<02:33, 20.40it/s]"
     ]
    },
    {
     "name": "stdout",
     "output_type": "stream",
     "text": [
      "inferframe_03119.png\n",
      "inferframe_00897.png\n",
      "inferframe_02828.png\n",
      "inferframe_02529.png\n",
      "inferframe_00775.png\n"
     ]
    },
    {
     "name": "stderr",
     "output_type": "stream",
     "text": [
      " 17%|█▋        | 625/3741 [00:30<02:29, 20.79it/s]"
     ]
    },
    {
     "name": "stdout",
     "output_type": "stream",
     "text": [
      "inferframe_03008.png\n",
      "inferframe_02871.png\n",
      "inferframe_00318.png\n",
      "inferframe_03373.png\n",
      "inferframe_03106.png\n"
     ]
    },
    {
     "name": "stderr",
     "output_type": "stream",
     "text": [
      " 17%|█▋        | 631/3741 [00:30<02:31, 20.49it/s]"
     ]
    },
    {
     "name": "stdout",
     "output_type": "stream",
     "text": [
      "inferframe_02831.png\n",
      "inferframe_00041.png\n",
      "inferframe_01347.png\n",
      "inferframe_01003.png\n",
      "inferframe_01322.png\n"
     ]
    },
    {
     "name": "stderr",
     "output_type": "stream",
     "text": [
      " 17%|█▋        | 634/3741 [00:30<02:29, 20.72it/s]"
     ]
    },
    {
     "name": "stdout",
     "output_type": "stream",
     "text": [
      "inferframe_00768.png\n",
      "inferframe_03401.png\n",
      "inferframe_01024.png\n",
      "inferframe_01932.png\n"
     ]
    },
    {
     "name": "stderr",
     "output_type": "stream",
     "text": [
      " 17%|█▋        | 637/3741 [00:30<02:32, 20.39it/s]"
     ]
    },
    {
     "name": "stdout",
     "output_type": "stream",
     "text": [
      "inferframe_02832.png\n",
      "inferframe_03197.png\n",
      "inferframe_00060.png\n",
      "inferframe_01724.png\n"
     ]
    },
    {
     "name": "stderr",
     "output_type": "stream",
     "text": [
      " 17%|█▋        | 643/3741 [00:31<02:34, 20.10it/s]"
     ]
    },
    {
     "name": "stdout",
     "output_type": "stream",
     "text": [
      "inferframe_00566.png\n",
      "inferframe_03268.png\n",
      "inferframe_00904.png\n",
      "inferframe_01534.png\n",
      "inferframe_00177.png\n"
     ]
    },
    {
     "name": "stderr",
     "output_type": "stream",
     "text": [
      " 17%|█▋        | 646/3741 [00:31<02:27, 21.05it/s]"
     ]
    },
    {
     "name": "stdout",
     "output_type": "stream",
     "text": [
      "inferframe_02003.png\n",
      "inferframe_00692.png\n",
      "inferframe_01431.png\n",
      "inferframe_00792.png\n"
     ]
    },
    {
     "name": "stderr",
     "output_type": "stream",
     "text": [
      " 17%|█▋        | 652/3741 [00:31<02:45, 18.70it/s]"
     ]
    },
    {
     "name": "stdout",
     "output_type": "stream",
     "text": [
      "inferframe_00811.png\n",
      "inferframe_00864.png\n",
      "inferframe_00208.png\n",
      "inferframe_01875.png\n"
     ]
    },
    {
     "name": "stderr",
     "output_type": "stream",
     "text": [
      " 18%|█▊        | 657/3741 [00:31<02:32, 20.29it/s]"
     ]
    },
    {
     "name": "stdout",
     "output_type": "stream",
     "text": [
      "inferframe_01587.png\n",
      "inferframe_00249.png\n",
      "inferframe_00082.png\n",
      "inferframe_01524.png\n",
      "inferframe_02200.png\n"
     ]
    },
    {
     "name": "stderr",
     "output_type": "stream",
     "text": [
      " 18%|█▊        | 660/3741 [00:32<02:30, 20.44it/s]"
     ]
    },
    {
     "name": "stdout",
     "output_type": "stream",
     "text": [
      "inferframe_01254.png\n",
      "inferframe_03693.png\n",
      "inferframe_03567.png\n",
      "inferframe_03024.png\n",
      "inferframe_02368.png\n"
     ]
    },
    {
     "name": "stderr",
     "output_type": "stream",
     "text": [
      " 18%|█▊        | 666/3741 [00:32<02:27, 20.81it/s]"
     ]
    },
    {
     "name": "stdout",
     "output_type": "stream",
     "text": [
      "inferframe_01134.png\n",
      "inferframe_00328.png\n",
      "inferframe_00631.png\n",
      "inferframe_02551.png\n",
      "inferframe_00651.png\n"
     ]
    },
    {
     "name": "stderr",
     "output_type": "stream",
     "text": [
      " 18%|█▊        | 672/3741 [00:32<02:28, 20.68it/s]"
     ]
    },
    {
     "name": "stdout",
     "output_type": "stream",
     "text": [
      "inferframe_02293.png\n",
      "inferframe_01264.png\n",
      "inferframe_02448.png\n",
      "inferframe_00537.png\n",
      "inferframe_01340.png\n"
     ]
    },
    {
     "name": "stderr",
     "output_type": "stream",
     "text": [
      " 18%|█▊        | 675/3741 [00:32<02:30, 20.33it/s]"
     ]
    },
    {
     "name": "stdout",
     "output_type": "stream",
     "text": [
      "inferframe_03233.png\n",
      "inferframe_02997.png\n",
      "inferframe_02147.png\n",
      "inferframe_03627.png\n",
      "inferframe_00685.png\n"
     ]
    },
    {
     "name": "stderr",
     "output_type": "stream",
     "text": [
      " 18%|█▊        | 681/3741 [00:33<02:35, 19.71it/s]"
     ]
    },
    {
     "name": "stdout",
     "output_type": "stream",
     "text": [
      "inferframe_01959.png\n",
      "inferframe_01555.png\n",
      "inferframe_01236.png\n",
      "inferframe_02748.png\n"
     ]
    },
    {
     "name": "stderr",
     "output_type": "stream",
     "text": [
      " 18%|█▊        | 684/3741 [00:33<02:32, 20.05it/s]"
     ]
    },
    {
     "name": "stdout",
     "output_type": "stream",
     "text": [
      "inferframe_03154.png\n",
      "inferframe_01772.png\n",
      "inferframe_03511.png\n",
      "inferframe_00804.png\n",
      "inferframe_01034.png\n"
     ]
    },
    {
     "name": "stderr",
     "output_type": "stream",
     "text": [
      " 18%|█▊        | 690/3741 [00:33<02:37, 19.42it/s]"
     ]
    },
    {
     "name": "stdout",
     "output_type": "stream",
     "text": [
      "inferframe_00821.png\n",
      "inferframe_00675.png\n",
      "inferframe_03228.png\n",
      "inferframe_03684.png\n"
     ]
    },
    {
     "name": "stderr",
     "output_type": "stream",
     "text": [
      " 19%|█▊        | 693/3741 [00:33<02:26, 20.74it/s]"
     ]
    },
    {
     "name": "stdout",
     "output_type": "stream",
     "text": [
      "inferframe_01423.png\n",
      "inferframe_01599.png\n",
      "inferframe_00757.png\n",
      "inferframe_01643.png\n",
      "inferframe_03603.png\n"
     ]
    },
    {
     "name": "stderr",
     "output_type": "stream",
     "text": [
      " 19%|█▊        | 699/3741 [00:34<02:23, 21.19it/s]"
     ]
    },
    {
     "name": "stdout",
     "output_type": "stream",
     "text": [
      "inferframe_03672.png\n",
      "inferframe_00101.png\n",
      "inferframe_03714.png\n",
      "inferframe_02318.png\n",
      "inferframe_02172.png\n"
     ]
    },
    {
     "name": "stderr",
     "output_type": "stream",
     "text": [
      " 19%|█▉        | 702/3741 [00:34<02:23, 21.12it/s]"
     ]
    },
    {
     "name": "stdout",
     "output_type": "stream",
     "text": [
      "inferframe_02766.png\n",
      "inferframe_00124.png\n",
      "inferframe_03351.png\n",
      "inferframe_03717.png\n"
     ]
    },
    {
     "name": "stderr",
     "output_type": "stream",
     "text": [
      " 19%|█▉        | 708/3741 [00:34<02:30, 20.19it/s]"
     ]
    },
    {
     "name": "stdout",
     "output_type": "stream",
     "text": [
      "inferframe_03725.png\n",
      "inferframe_03407.png\n",
      "inferframe_01522.png\n",
      "inferframe_02667.png\n",
      "inferframe_00625.png\n"
     ]
    },
    {
     "name": "stderr",
     "output_type": "stream",
     "text": [
      " 19%|█▉        | 714/3741 [00:34<02:30, 20.12it/s]"
     ]
    },
    {
     "name": "stdout",
     "output_type": "stream",
     "text": [
      "inferframe_01601.png\n",
      "inferframe_03293.png\n",
      "inferframe_00767.png\n",
      "inferframe_00125.png\n",
      "inferframe_03596.png\n"
     ]
    },
    {
     "name": "stderr",
     "output_type": "stream",
     "text": [
      " 19%|█▉        | 717/3741 [00:34<02:26, 20.59it/s]"
     ]
    },
    {
     "name": "stdout",
     "output_type": "stream",
     "text": [
      "inferframe_03649.png\n",
      "inferframe_02620.png\n",
      "inferframe_01867.png\n",
      "inferframe_01437.png\n",
      "inferframe_01674.png\n"
     ]
    },
    {
     "name": "stderr",
     "output_type": "stream",
     "text": [
      " 19%|█▉        | 723/3741 [00:35<02:24, 20.83it/s]"
     ]
    },
    {
     "name": "stdout",
     "output_type": "stream",
     "text": [
      "inferframe_00084.png\n",
      "inferframe_02547.png\n",
      "inferframe_03562.png\n",
      "inferframe_00227.png\n",
      "inferframe_03167.png\n"
     ]
    },
    {
     "name": "stderr",
     "output_type": "stream",
     "text": [
      " 19%|█▉        | 729/3741 [00:35<02:26, 20.54it/s]"
     ]
    },
    {
     "name": "stdout",
     "output_type": "stream",
     "text": [
      "inferframe_02834.png\n",
      "inferframe_03559.png\n",
      "inferframe_00319.png\n",
      "inferframe_02287.png\n",
      "inferframe_03201.png\n"
     ]
    },
    {
     "name": "stderr",
     "output_type": "stream",
     "text": [
      " 20%|█▉        | 732/3741 [00:35<02:25, 20.72it/s]"
     ]
    },
    {
     "name": "stdout",
     "output_type": "stream",
     "text": [
      "inferframe_00814.png\n",
      "inferframe_01998.png\n",
      "inferframe_03403.png\n",
      "inferframe_00646.png\n"
     ]
    },
    {
     "name": "stderr",
     "output_type": "stream",
     "text": [
      " 20%|█▉        | 738/3741 [00:35<02:31, 19.83it/s]"
     ]
    },
    {
     "name": "stdout",
     "output_type": "stream",
     "text": [
      "inferframe_02199.png\n",
      "inferframe_01784.png\n",
      "inferframe_00680.png\n",
      "inferframe_00643.png\n",
      "inferframe_00019.png\n"
     ]
    },
    {
     "name": "stderr",
     "output_type": "stream",
     "text": [
      " 20%|█▉        | 743/3741 [00:36<02:30, 19.89it/s]"
     ]
    },
    {
     "name": "stdout",
     "output_type": "stream",
     "text": [
      "inferframe_01117.png\n",
      "inferframe_00383.png\n",
      "inferframe_01786.png\n",
      "inferframe_03158.png\n",
      "inferframe_03623.png\n"
     ]
    },
    {
     "name": "stderr",
     "output_type": "stream",
     "text": [
      " 20%|█▉        | 746/3741 [00:36<02:27, 20.30it/s]"
     ]
    },
    {
     "name": "stdout",
     "output_type": "stream",
     "text": [
      "inferframe_00727.png\n",
      "inferframe_03289.png\n",
      "inferframe_01702.png\n",
      "inferframe_01782.png\n",
      "inferframe_03612.png\n"
     ]
    },
    {
     "name": "stderr",
     "output_type": "stream",
     "text": [
      " 20%|██        | 752/3741 [00:36<02:28, 20.09it/s]"
     ]
    },
    {
     "name": "stdout",
     "output_type": "stream",
     "text": [
      "inferframe_01670.png\n",
      "inferframe_01977.png\n",
      "inferframe_03122.png\n",
      "inferframe_01966.png\n"
     ]
    },
    {
     "name": "stderr",
     "output_type": "stream",
     "text": [
      " 20%|██        | 755/3741 [00:36<02:27, 20.23it/s]"
     ]
    },
    {
     "name": "stdout",
     "output_type": "stream",
     "text": [
      "inferframe_03631.png\n",
      "inferframe_01097.png\n",
      "inferframe_02295.png\n",
      "inferframe_00067.png\n",
      "inferframe_00113.png\n"
     ]
    },
    {
     "name": "stderr",
     "output_type": "stream",
     "text": [
      " 20%|██        | 761/3741 [00:37<02:28, 20.12it/s]"
     ]
    },
    {
     "name": "stdout",
     "output_type": "stream",
     "text": [
      "inferframe_00717.png\n",
      "inferframe_02617.png\n",
      "inferframe_02475.png\n",
      "inferframe_00609.png\n",
      "inferframe_00230.png\n"
     ]
    },
    {
     "name": "stderr",
     "output_type": "stream",
     "text": [
      " 21%|██        | 767/3741 [00:37<02:24, 20.60it/s]"
     ]
    },
    {
     "name": "stdout",
     "output_type": "stream",
     "text": [
      "inferframe_01249.png\n",
      "inferframe_01556.png\n",
      "inferframe_02066.png\n",
      "inferframe_02075.png\n",
      "inferframe_01172.png\n"
     ]
    },
    {
     "name": "stderr",
     "output_type": "stream",
     "text": [
      " 21%|██        | 770/3741 [00:37<02:26, 20.23it/s]"
     ]
    },
    {
     "name": "stdout",
     "output_type": "stream",
     "text": [
      "inferframe_01177.png\n",
      "inferframe_02577.png\n",
      "inferframe_02253.png\n",
      "inferframe_02292.png\n",
      "inferframe_00117.png\n"
     ]
    },
    {
     "name": "stderr",
     "output_type": "stream",
     "text": [
      " 21%|██        | 776/3741 [00:37<02:25, 20.43it/s]"
     ]
    },
    {
     "name": "stdout",
     "output_type": "stream",
     "text": [
      "inferframe_00624.png\n",
      "inferframe_00762.png\n",
      "inferframe_02925.png\n",
      "inferframe_01459.png\n",
      "inferframe_03528.png\n"
     ]
    },
    {
     "name": "stderr",
     "output_type": "stream",
     "text": [
      " 21%|██        | 782/3741 [00:38<02:19, 21.25it/s]"
     ]
    },
    {
     "name": "stdout",
     "output_type": "stream",
     "text": [
      "inferframe_00277.png\n",
      "inferframe_00943.png\n",
      "inferframe_00745.png\n",
      "inferframe_02005.png\n",
      "inferframe_03510.png\n"
     ]
    },
    {
     "name": "stderr",
     "output_type": "stream",
     "text": [
      " 21%|██        | 785/3741 [00:38<02:18, 21.38it/s]"
     ]
    },
    {
     "name": "stdout",
     "output_type": "stream",
     "text": [
      "inferframe_00087.png\n",
      "inferframe_02083.png\n",
      "inferframe_03248.png\n",
      "inferframe_03711.png\n",
      "inferframe_02659.png\n"
     ]
    },
    {
     "name": "stderr",
     "output_type": "stream",
     "text": [
      " 21%|██        | 791/3741 [00:38<02:21, 20.80it/s]"
     ]
    },
    {
     "name": "stdout",
     "output_type": "stream",
     "text": [
      "inferframe_01480.png\n",
      "inferframe_00963.png\n",
      "inferframe_01736.png\n",
      "inferframe_00388.png\n",
      "inferframe_03637.png\n"
     ]
    },
    {
     "name": "stderr",
     "output_type": "stream",
     "text": [
      " 21%|██        | 794/3741 [00:38<02:19, 21.15it/s]"
     ]
    },
    {
     "name": "stdout",
     "output_type": "stream",
     "text": [
      "inferframe_02605.png\n",
      "inferframe_03287.png\n",
      "inferframe_02631.png\n",
      "inferframe_01112.png\n"
     ]
    },
    {
     "name": "stderr",
     "output_type": "stream",
     "text": [
      " 21%|██▏       | 800/3741 [00:38<02:21, 20.85it/s]"
     ]
    },
    {
     "name": "stdout",
     "output_type": "stream",
     "text": [
      "inferframe_02518.png\n",
      "inferframe_00849.png\n",
      "inferframe_02690.png\n",
      "inferframe_01677.png\n",
      "inferframe_02273.png\n"
     ]
    },
    {
     "name": "stderr",
     "output_type": "stream",
     "text": [
      " 21%|██▏       | 803/3741 [00:39<02:21, 20.80it/s]"
     ]
    },
    {
     "name": "stdout",
     "output_type": "stream",
     "text": [
      "inferframe_03017.png\n",
      "inferframe_00010.png\n",
      "inferframe_03077.png\n",
      "inferframe_02687.png\n"
     ]
    },
    {
     "name": "stderr",
     "output_type": "stream",
     "text": [
      " 22%|██▏       | 809/3741 [00:39<02:24, 20.24it/s]"
     ]
    },
    {
     "name": "stdout",
     "output_type": "stream",
     "text": [
      "inferframe_03498.png\n",
      "inferframe_01999.png\n",
      "inferframe_00635.png\n",
      "inferframe_00081.png\n",
      "inferframe_00596.png\n"
     ]
    },
    {
     "name": "stderr",
     "output_type": "stream",
     "text": [
      " 22%|██▏       | 815/3741 [00:39<02:17, 21.32it/s]"
     ]
    },
    {
     "name": "stdout",
     "output_type": "stream",
     "text": [
      "inferframe_01245.png\n",
      "inferframe_00185.png\n",
      "inferframe_00259.png\n",
      "inferframe_01563.png\n",
      "inferframe_03680.png\n"
     ]
    },
    {
     "name": "stderr",
     "output_type": "stream",
     "text": [
      " 22%|██▏       | 818/3741 [00:39<02:14, 21.72it/s]"
     ]
    },
    {
     "name": "stdout",
     "output_type": "stream",
     "text": [
      "inferframe_02310.png\n",
      "inferframe_01032.png\n",
      "inferframe_01045.png\n",
      "inferframe_01814.png\n",
      "inferframe_01965.png\n"
     ]
    },
    {
     "name": "stderr",
     "output_type": "stream",
     "text": [
      " 22%|██▏       | 824/3741 [00:40<02:23, 20.37it/s]"
     ]
    },
    {
     "name": "stdout",
     "output_type": "stream",
     "text": [
      "inferframe_01738.png\n",
      "inferframe_01955.png\n",
      "inferframe_02267.png\n",
      "inferframe_01733.png\n"
     ]
    },
    {
     "name": "stderr",
     "output_type": "stream",
     "text": [
      " 22%|██▏       | 827/3741 [00:40<02:22, 20.43it/s]"
     ]
    },
    {
     "name": "stdout",
     "output_type": "stream",
     "text": [
      "inferframe_00337.png\n",
      "inferframe_02618.png\n",
      "inferframe_01768.png\n",
      "inferframe_03205.png\n",
      "inferframe_03255.png\n"
     ]
    },
    {
     "name": "stderr",
     "output_type": "stream",
     "text": [
      " 22%|██▏       | 833/3741 [00:40<02:22, 20.40it/s]"
     ]
    },
    {
     "name": "stdout",
     "output_type": "stream",
     "text": [
      "inferframe_03419.png\n",
      "inferframe_02954.png\n",
      "inferframe_01835.png\n",
      "inferframe_02718.png\n",
      "inferframe_01330.png\n"
     ]
    },
    {
     "name": "stderr",
     "output_type": "stream",
     "text": [
      " 22%|██▏       | 839/3741 [00:40<02:18, 20.93it/s]"
     ]
    },
    {
     "name": "stdout",
     "output_type": "stream",
     "text": [
      "inferframe_02776.png\n",
      "inferframe_00181.png\n",
      "inferframe_03331.png\n",
      "inferframe_03129.png\n",
      "inferframe_00941.png\n"
     ]
    },
    {
     "name": "stderr",
     "output_type": "stream",
     "text": [
      " 23%|██▎       | 842/3741 [00:40<02:16, 21.22it/s]"
     ]
    },
    {
     "name": "stdout",
     "output_type": "stream",
     "text": [
      "inferframe_02357.png\n",
      "inferframe_02515.png\n",
      "inferframe_02198.png\n",
      "inferframe_03639.png\n",
      "inferframe_02506.png\n"
     ]
    },
    {
     "name": "stderr",
     "output_type": "stream",
     "text": [
      " 23%|██▎       | 848/3741 [00:41<02:17, 20.98it/s]"
     ]
    },
    {
     "name": "stdout",
     "output_type": "stream",
     "text": [
      "inferframe_00623.png\n",
      "inferframe_01504.png\n",
      "inferframe_02271.png\n",
      "inferframe_03731.png\n"
     ]
    },
    {
     "name": "stderr",
     "output_type": "stream",
     "text": [
      " 23%|██▎       | 851/3741 [00:41<02:15, 21.33it/s]"
     ]
    },
    {
     "name": "stdout",
     "output_type": "stream",
     "text": [
      "inferframe_02444.png\n",
      "inferframe_02355.png\n",
      "inferframe_00302.png\n",
      "inferframe_02887.png\n",
      "inferframe_01866.png\n"
     ]
    },
    {
     "name": "stderr",
     "output_type": "stream",
     "text": [
      " 23%|██▎       | 857/3741 [00:41<02:17, 20.96it/s]"
     ]
    },
    {
     "name": "stdout",
     "output_type": "stream",
     "text": [
      "inferframe_02084.png\n",
      "inferframe_01891.png\n",
      "inferframe_03539.png\n",
      "inferframe_02608.png\n",
      "inferframe_02339.png\n"
     ]
    },
    {
     "name": "stderr",
     "output_type": "stream",
     "text": [
      " 23%|██▎       | 863/3741 [00:41<02:20, 20.48it/s]"
     ]
    },
    {
     "name": "stdout",
     "output_type": "stream",
     "text": [
      "inferframe_00016.png\n",
      "inferframe_02395.png\n",
      "inferframe_01173.png\n",
      "inferframe_02159.png\n",
      "inferframe_01673.png\n"
     ]
    },
    {
     "name": "stderr",
     "output_type": "stream",
     "text": [
      " 23%|██▎       | 866/3741 [00:42<02:21, 20.35it/s]"
     ]
    },
    {
     "name": "stdout",
     "output_type": "stream",
     "text": [
      "inferframe_02868.png\n",
      "inferframe_02940.png\n",
      "inferframe_03040.png\n",
      "inferframe_03168.png\n"
     ]
    },
    {
     "name": "stderr",
     "output_type": "stream",
     "text": [
      " 23%|██▎       | 872/3741 [00:42<02:18, 20.68it/s]"
     ]
    },
    {
     "name": "stdout",
     "output_type": "stream",
     "text": [
      "inferframe_03529.png\n",
      "inferframe_00255.png\n",
      "inferframe_02207.png\n",
      "inferframe_01152.png\n",
      "inferframe_00108.png\n"
     ]
    },
    {
     "name": "stderr",
     "output_type": "stream",
     "text": [
      " 23%|██▎       | 875/3741 [00:42<02:19, 20.58it/s]"
     ]
    },
    {
     "name": "stdout",
     "output_type": "stream",
     "text": [
      "inferframe_03336.png\n",
      "inferframe_00934.png\n",
      "inferframe_01289.png\n",
      "inferframe_02926.png\n"
     ]
    },
    {
     "name": "stderr",
     "output_type": "stream",
     "text": [
      " 24%|██▎       | 881/3741 [00:42<02:19, 20.49it/s]"
     ]
    },
    {
     "name": "stdout",
     "output_type": "stream",
     "text": [
      "inferframe_00437.png\n",
      "inferframe_01197.png\n",
      "inferframe_03051.png\n",
      "inferframe_01973.png\n",
      "inferframe_02880.png\n"
     ]
    },
    {
     "name": "stderr",
     "output_type": "stream",
     "text": [
      " 24%|██▎       | 884/3741 [00:43<02:19, 20.55it/s]"
     ]
    },
    {
     "name": "stdout",
     "output_type": "stream",
     "text": [
      "inferframe_02569.png\n",
      "inferframe_00232.png\n",
      "inferframe_03415.png\n",
      "inferframe_03046.png\n",
      "inferframe_00451.png\n"
     ]
    },
    {
     "name": "stderr",
     "output_type": "stream",
     "text": [
      " 24%|██▍       | 890/3741 [00:43<02:16, 20.89it/s]"
     ]
    },
    {
     "name": "stdout",
     "output_type": "stream",
     "text": [
      "inferframe_02449.png\n",
      "inferframe_02361.png\n",
      "inferframe_03118.png\n",
      "inferframe_03729.png\n",
      "inferframe_02428.png\n"
     ]
    },
    {
     "name": "stderr",
     "output_type": "stream",
     "text": [
      " 24%|██▍       | 896/3741 [00:43<02:13, 21.39it/s]"
     ]
    },
    {
     "name": "stdout",
     "output_type": "stream",
     "text": [
      "inferframe_02676.png\n",
      "inferframe_00938.png\n",
      "inferframe_00519.png\n",
      "inferframe_00506.png\n",
      "inferframe_01942.png\n"
     ]
    },
    {
     "name": "stderr",
     "output_type": "stream",
     "text": [
      " 24%|██▍       | 899/3741 [00:43<02:17, 20.71it/s]"
     ]
    },
    {
     "name": "stdout",
     "output_type": "stream",
     "text": [
      "inferframe_02459.png\n",
      "inferframe_03432.png\n",
      "inferframe_03418.png\n",
      "inferframe_00715.png\n",
      "inferframe_01629.png\n"
     ]
    },
    {
     "name": "stderr",
     "output_type": "stream",
     "text": [
      " 24%|██▍       | 905/3741 [00:44<02:16, 20.77it/s]"
     ]
    },
    {
     "name": "stdout",
     "output_type": "stream",
     "text": [
      "inferframe_02193.png\n",
      "inferframe_00035.png\n",
      "inferframe_01483.png\n",
      "inferframe_00789.png\n",
      "inferframe_00106.png\n"
     ]
    },
    {
     "name": "stderr",
     "output_type": "stream",
     "text": [
      " 24%|██▍       | 911/3741 [00:44<02:18, 20.45it/s]"
     ]
    },
    {
     "name": "stdout",
     "output_type": "stream",
     "text": [
      "inferframe_01990.png\n",
      "inferframe_00982.png\n",
      "inferframe_03278.png\n",
      "inferframe_03661.png\n",
      "inferframe_03543.png\n"
     ]
    },
    {
     "name": "stderr",
     "output_type": "stream",
     "text": [
      " 24%|██▍       | 914/3741 [00:44<02:20, 20.09it/s]"
     ]
    },
    {
     "name": "stdout",
     "output_type": "stream",
     "text": [
      "inferframe_02259.png\n",
      "inferframe_01921.png\n",
      "inferframe_03328.png\n",
      "inferframe_03143.png\n"
     ]
    },
    {
     "name": "stderr",
     "output_type": "stream",
     "text": [
      " 25%|██▍       | 920/3741 [00:44<02:19, 20.18it/s]"
     ]
    },
    {
     "name": "stdout",
     "output_type": "stream",
     "text": [
      "inferframe_02706.png\n",
      "inferframe_01902.png\n",
      "inferframe_00242.png\n",
      "inferframe_03378.png\n",
      "inferframe_03558.png\n"
     ]
    },
    {
     "name": "stderr",
     "output_type": "stream",
     "text": [
      " 25%|██▍       | 923/3741 [00:44<02:20, 20.06it/s]"
     ]
    },
    {
     "name": "stdout",
     "output_type": "stream",
     "text": [
      "inferframe_03132.png\n",
      "inferframe_03249.png\n",
      "inferframe_01996.png\n",
      "inferframe_01730.png\n",
      "inferframe_02242.png\n"
     ]
    },
    {
     "name": "stderr",
     "output_type": "stream",
     "text": [
      " 25%|██▍       | 929/3741 [00:45<02:13, 21.03it/s]"
     ]
    },
    {
     "name": "stdout",
     "output_type": "stream",
     "text": [
      "inferframe_02146.png\n",
      "inferframe_02203.png\n",
      "inferframe_02116.png\n",
      "inferframe_00210.png\n",
      "inferframe_00163.png\n"
     ]
    },
    {
     "name": "stderr",
     "output_type": "stream",
     "text": [
      " 25%|██▍       | 935/3741 [00:45<02:12, 21.10it/s]"
     ]
    },
    {
     "name": "stdout",
     "output_type": "stream",
     "text": [
      "inferframe_02934.png\n",
      "inferframe_00110.png\n",
      "inferframe_00148.png\n",
      "inferframe_01151.png\n",
      "inferframe_00998.png\n"
     ]
    },
    {
     "name": "stderr",
     "output_type": "stream",
     "text": [
      " 25%|██▌       | 938/3741 [00:45<02:19, 20.16it/s]"
     ]
    },
    {
     "name": "stdout",
     "output_type": "stream",
     "text": [
      "inferframe_03518.png\n",
      "inferframe_01315.png\n",
      "inferframe_02697.png\n",
      "inferframe_02999.png\n"
     ]
    },
    {
     "name": "stderr",
     "output_type": "stream",
     "text": [
      " 25%|██▌       | 941/3741 [00:45<02:20, 19.93it/s]"
     ]
    },
    {
     "name": "stdout",
     "output_type": "stream",
     "text": [
      "inferframe_01804.png\n",
      "inferframe_02956.png\n",
      "inferframe_02691.png\n",
      "inferframe_01126.png\n"
     ]
    },
    {
     "name": "stderr",
     "output_type": "stream",
     "text": [
      " 25%|██▌       | 947/3741 [00:46<02:22, 19.67it/s]"
     ]
    },
    {
     "name": "stdout",
     "output_type": "stream",
     "text": [
      "inferframe_01282.png\n",
      "inferframe_02571.png\n",
      "inferframe_01793.png\n",
      "inferframe_01590.png\n",
      "inferframe_00706.png\n"
     ]
    },
    {
     "name": "stderr",
     "output_type": "stream",
     "text": [
      " 25%|██▌       | 952/3741 [00:46<02:16, 20.49it/s]"
     ]
    },
    {
     "name": "stdout",
     "output_type": "stream",
     "text": [
      "inferframe_00258.png\n",
      "inferframe_02782.png\n",
      "inferframe_01562.png\n",
      "inferframe_02054.png\n",
      "inferframe_00674.png\n"
     ]
    },
    {
     "name": "stderr",
     "output_type": "stream",
     "text": [
      " 26%|██▌       | 955/3741 [00:46<02:36, 17.78it/s]"
     ]
    },
    {
     "name": "stdout",
     "output_type": "stream",
     "text": [
      "inferframe_00205.png\n",
      "inferframe_03277.png\n",
      "inferframe_03155.png\n"
     ]
    },
    {
     "name": "stderr",
     "output_type": "stream",
     "text": [
      " 26%|██▌       | 960/3741 [00:46<02:23, 19.34it/s]"
     ]
    },
    {
     "name": "stdout",
     "output_type": "stream",
     "text": [
      "inferframe_02252.png\n",
      "inferframe_03664.png\n",
      "inferframe_01619.png\n",
      "inferframe_01169.png\n",
      "inferframe_01667.png\n"
     ]
    },
    {
     "name": "stderr",
     "output_type": "stream",
     "text": [
      " 26%|██▌       | 966/3741 [00:47<02:18, 20.07it/s]"
     ]
    },
    {
     "name": "stdout",
     "output_type": "stream",
     "text": [
      "inferframe_01761.png\n",
      "inferframe_00178.png\n",
      "inferframe_02384.png\n",
      "inferframe_00778.png\n",
      "inferframe_01021.png\n"
     ]
    },
    {
     "name": "stderr",
     "output_type": "stream",
     "text": [
      " 26%|██▌       | 969/3741 [00:47<02:18, 19.99it/s]"
     ]
    },
    {
     "name": "stdout",
     "output_type": "stream",
     "text": [
      "inferframe_03722.png\n",
      "inferframe_03022.png\n",
      "inferframe_00665.png\n",
      "inferframe_02804.png\n"
     ]
    },
    {
     "name": "stderr",
     "output_type": "stream",
     "text": [
      " 26%|██▌       | 975/3741 [00:47<02:13, 20.72it/s]"
     ]
    },
    {
     "name": "stdout",
     "output_type": "stream",
     "text": [
      "inferframe_01641.png\n",
      "inferframe_01017.png\n",
      "inferframe_02093.png\n",
      "inferframe_01520.png\n",
      "inferframe_02945.png\n"
     ]
    },
    {
     "name": "stderr",
     "output_type": "stream",
     "text": [
      " 26%|██▌       | 978/3741 [00:47<02:15, 20.45it/s]"
     ]
    },
    {
     "name": "stdout",
     "output_type": "stream",
     "text": [
      "inferframe_02643.png\n",
      "inferframe_01211.png\n",
      "inferframe_00121.png\n",
      "inferframe_00347.png\n",
      "inferframe_01341.png\n"
     ]
    },
    {
     "name": "stderr",
     "output_type": "stream",
     "text": [
      " 26%|██▋       | 984/3741 [00:47<02:18, 19.87it/s]"
     ]
    },
    {
     "name": "stdout",
     "output_type": "stream",
     "text": [
      "inferframe_03010.png\n",
      "inferframe_00947.png\n",
      "inferframe_02622.png\n",
      "inferframe_00782.png\n"
     ]
    },
    {
     "name": "stderr",
     "output_type": "stream",
     "text": [
      " 26%|██▋       | 986/3741 [00:48<02:32, 18.01it/s]"
     ]
    },
    {
     "name": "stdout",
     "output_type": "stream",
     "text": [
      "inferframe_01719.png\n",
      "inferframe_01190.png\n",
      "inferframe_03210.png\n"
     ]
    },
    {
     "name": "stderr",
     "output_type": "stream",
     "text": [
      " 26%|██▋       | 990/3741 [00:48<02:29, 18.45it/s]"
     ]
    },
    {
     "name": "stdout",
     "output_type": "stream",
     "text": [
      "inferframe_00569.png\n",
      "inferframe_00930.png\n",
      "inferframe_00559.png\n",
      "inferframe_02768.png\n"
     ]
    },
    {
     "name": "stderr",
     "output_type": "stream",
     "text": [
      " 27%|██▋       | 995/3741 [00:48<02:18, 19.76it/s]"
     ]
    },
    {
     "name": "stdout",
     "output_type": "stream",
     "text": [
      "inferframe_00500.png\n",
      "inferframe_02360.png\n",
      "inferframe_02647.png\n",
      "inferframe_00658.png\n"
     ]
    },
    {
     "name": "stderr",
     "output_type": "stream",
     "text": [
      " 27%|██▋       | 1000/3741 [00:48<02:17, 20.00it/s]"
     ]
    },
    {
     "name": "stdout",
     "output_type": "stream",
     "text": [
      "inferframe_00146.png\n",
      "inferframe_00418.png\n",
      "inferframe_00916.png\n",
      "inferframe_00419.png\n",
      "inferframe_01567.png\n"
     ]
    },
    {
     "name": "stderr",
     "output_type": "stream",
     "text": [
      " 27%|██▋       | 1003/3741 [00:48<02:14, 20.33it/s]"
     ]
    },
    {
     "name": "stdout",
     "output_type": "stream",
     "text": [
      "inferframe_03357.png\n",
      "inferframe_03414.png\n",
      "inferframe_02931.png\n",
      "inferframe_00201.png\n"
     ]
    },
    {
     "name": "stderr",
     "output_type": "stream",
     "text": [
      " 27%|██▋       | 1009/3741 [00:49<02:18, 19.70it/s]"
     ]
    },
    {
     "name": "stdout",
     "output_type": "stream",
     "text": [
      "inferframe_01158.png\n",
      "inferframe_02143.png\n",
      "inferframe_01221.png\n",
      "inferframe_01616.png\n",
      "inferframe_02993.png\n"
     ]
    },
    {
     "name": "stderr",
     "output_type": "stream",
     "text": [
      " 27%|██▋       | 1012/3741 [00:49<02:14, 20.26it/s]"
     ]
    },
    {
     "name": "stdout",
     "output_type": "stream",
     "text": [
      "inferframe_02149.png\n",
      "inferframe_02807.png\n",
      "inferframe_03487.png\n",
      "inferframe_01627.png\n",
      "inferframe_03098.png\n"
     ]
    },
    {
     "name": "stderr",
     "output_type": "stream",
     "text": [
      " 27%|██▋       | 1018/3741 [00:49<02:12, 20.50it/s]"
     ]
    },
    {
     "name": "stdout",
     "output_type": "stream",
     "text": [
      "inferframe_00098.png\n",
      "inferframe_01832.png\n",
      "inferframe_00369.png\n",
      "inferframe_02851.png\n",
      "inferframe_03180.png\n"
     ]
    },
    {
     "name": "stderr",
     "output_type": "stream",
     "text": [
      " 27%|██▋       | 1024/3741 [00:50<02:09, 21.02it/s]"
     ]
    },
    {
     "name": "stdout",
     "output_type": "stream",
     "text": [
      "inferframe_02294.png\n",
      "inferframe_02052.png\n",
      "inferframe_02134.png\n",
      "inferframe_01133.png\n",
      "inferframe_03375.png\n"
     ]
    },
    {
     "name": "stderr",
     "output_type": "stream",
     "text": [
      " 27%|██▋       | 1027/3741 [00:50<02:12, 20.46it/s]"
     ]
    },
    {
     "name": "stdout",
     "output_type": "stream",
     "text": [
      "inferframe_02890.png\n",
      "inferframe_01394.png\n",
      "inferframe_03324.png\n",
      "inferframe_01415.png\n",
      "inferframe_01755.png\n"
     ]
    },
    {
     "name": "stderr",
     "output_type": "stream",
     "text": [
      " 28%|██▊       | 1033/3741 [00:50<02:12, 20.38it/s]"
     ]
    },
    {
     "name": "stdout",
     "output_type": "stream",
     "text": [
      "inferframe_00011.png\n",
      "inferframe_00743.png\n",
      "inferframe_00553.png\n",
      "inferframe_02580.png\n"
     ]
    },
    {
     "name": "stderr",
     "output_type": "stream",
     "text": [
      " 28%|██▊       | 1036/3741 [00:50<02:11, 20.53it/s]"
     ]
    },
    {
     "name": "stdout",
     "output_type": "stream",
     "text": [
      "inferframe_03116.png\n",
      "inferframe_01647.png\n",
      "inferframe_01077.png\n",
      "inferframe_00645.png\n"
     ]
    },
    {
     "name": "stderr",
     "output_type": "stream",
     "text": [
      " 28%|██▊       | 1041/3741 [00:50<02:22, 18.98it/s]"
     ]
    },
    {
     "name": "stdout",
     "output_type": "stream",
     "text": [
      "inferframe_01505.png\n",
      "inferframe_03506.png\n",
      "inferframe_00671.png\n",
      "inferframe_00843.png\n"
     ]
    },
    {
     "name": "stderr",
     "output_type": "stream",
     "text": [
      " 28%|██▊       | 1045/3741 [00:51<02:19, 19.33it/s]"
     ]
    },
    {
     "name": "stdout",
     "output_type": "stream",
     "text": [
      "inferframe_00261.png\n",
      "inferframe_00164.png\n",
      "inferframe_00020.png\n",
      "inferframe_03185.png\n",
      "inferframe_01104.png\n"
     ]
    },
    {
     "name": "stderr",
     "output_type": "stream",
     "text": [
      " 28%|██▊       | 1051/3741 [00:51<02:15, 19.81it/s]"
     ]
    },
    {
     "name": "stdout",
     "output_type": "stream",
     "text": [
      "inferframe_02163.png\n",
      "inferframe_02924.png\n",
      "inferframe_00914.png\n",
      "inferframe_00714.png\n",
      "inferframe_00079.png\n"
     ]
    },
    {
     "name": "stderr",
     "output_type": "stream",
     "text": [
      " 28%|██▊       | 1054/3741 [00:51<02:09, 20.71it/s]"
     ]
    },
    {
     "name": "stdout",
     "output_type": "stream",
     "text": [
      "inferframe_00297.png\n",
      "inferframe_02517.png\n",
      "inferframe_01699.png\n",
      "inferframe_01728.png\n",
      "inferframe_01275.png\n"
     ]
    },
    {
     "name": "stderr",
     "output_type": "stream",
     "text": [
      " 28%|██▊       | 1060/3741 [00:51<02:13, 20.01it/s]"
     ]
    },
    {
     "name": "stdout",
     "output_type": "stream",
     "text": [
      "inferframe_00648.png\n",
      "inferframe_02125.png\n",
      "inferframe_01652.png\n",
      "inferframe_00573.png\n"
     ]
    },
    {
     "name": "stderr",
     "output_type": "stream",
     "text": [
      " 28%|██▊       | 1063/3741 [00:51<02:13, 20.02it/s]"
     ]
    },
    {
     "name": "stdout",
     "output_type": "stream",
     "text": [
      "inferframe_02709.png\n",
      "inferframe_03412.png\n",
      "inferframe_01844.png\n",
      "inferframe_02680.png\n"
     ]
    },
    {
     "name": "stderr",
     "output_type": "stream",
     "text": [
      " 29%|██▊       | 1069/3741 [00:52<02:17, 19.41it/s]"
     ]
    },
    {
     "name": "stdout",
     "output_type": "stream",
     "text": [
      "inferframe_02014.png\n",
      "inferframe_00571.png\n",
      "inferframe_03556.png\n",
      "inferframe_03740.png\n"
     ]
    },
    {
     "name": "stderr",
     "output_type": "stream",
     "text": [
      " 29%|██▊       | 1072/3741 [00:52<02:15, 19.70it/s]"
     ]
    },
    {
     "name": "stdout",
     "output_type": "stream",
     "text": [
      "inferframe_00576.png\n",
      "inferframe_01775.png\n",
      "inferframe_01818.png\n",
      "inferframe_03701.png\n",
      "inferframe_01093.png\n"
     ]
    },
    {
     "name": "stderr",
     "output_type": "stream",
     "text": [
      " 29%|██▉       | 1078/3741 [00:52<02:09, 20.51it/s]"
     ]
    },
    {
     "name": "stdout",
     "output_type": "stream",
     "text": [
      "inferframe_00797.png\n",
      "inferframe_01009.png\n",
      "inferframe_00280.png\n",
      "inferframe_02555.png\n",
      "inferframe_02478.png\n"
     ]
    },
    {
     "name": "stderr",
     "output_type": "stream",
     "text": [
      " 29%|██▉       | 1081/3741 [00:52<02:08, 20.73it/s]"
     ]
    },
    {
     "name": "stdout",
     "output_type": "stream",
     "text": [
      "inferframe_02239.png\n",
      "inferframe_02860.png\n",
      "inferframe_01406.png\n",
      "inferframe_02972.png\n",
      "inferframe_01829.png\n"
     ]
    },
    {
     "name": "stderr",
     "output_type": "stream",
     "text": [
      " 29%|██▉       | 1084/3741 [00:53<02:08, 20.63it/s]"
     ]
    },
    {
     "name": "stdout",
     "output_type": "stream",
     "text": [
      "inferframe_00981.png\n",
      "inferframe_00697.png\n",
      "inferframe_00004.png\n"
     ]
    },
    {
     "name": "stderr",
     "output_type": "stream",
     "text": [
      " 29%|██▉       | 1090/3741 [00:53<02:23, 18.45it/s]"
     ]
    },
    {
     "name": "stdout",
     "output_type": "stream",
     "text": [
      "inferframe_02559.png\n",
      "inferframe_00568.png\n",
      "inferframe_03234.png\n",
      "inferframe_02616.png\n",
      "inferframe_02261.png\n"
     ]
    },
    {
     "name": "stderr",
     "output_type": "stream",
     "text": [
      " 29%|██▉       | 1095/3741 [00:53<02:16, 19.36it/s]"
     ]
    },
    {
     "name": "stdout",
     "output_type": "stream",
     "text": [
      "inferframe_00159.png\n",
      "inferframe_03706.png\n",
      "inferframe_02346.png\n",
      "inferframe_00120.png\n",
      "inferframe_01121.png\n"
     ]
    },
    {
     "name": "stderr",
     "output_type": "stream",
     "text": [
      " 29%|██▉       | 1101/3741 [00:53<02:08, 20.62it/s]"
     ]
    },
    {
     "name": "stdout",
     "output_type": "stream",
     "text": [
      "inferframe_02524.png\n",
      "inferframe_02004.png\n",
      "inferframe_02838.png\n",
      "inferframe_00083.png\n",
      "inferframe_02786.png\n"
     ]
    },
    {
     "name": "stderr",
     "output_type": "stream",
     "text": [
      " 30%|██▉       | 1104/3741 [00:54<02:05, 21.03it/s]"
     ]
    },
    {
     "name": "stdout",
     "output_type": "stream",
     "text": [
      "inferframe_00444.png\n",
      "inferframe_02787.png\n",
      "inferframe_03600.png\n",
      "inferframe_01825.png\n",
      "inferframe_01554.png\n"
     ]
    },
    {
     "name": "stderr",
     "output_type": "stream",
     "text": [
      " 30%|██▉       | 1110/3741 [00:54<02:06, 20.83it/s]"
     ]
    },
    {
     "name": "stdout",
     "output_type": "stream",
     "text": [
      "inferframe_01135.png\n",
      "inferframe_02406.png\n",
      "inferframe_02628.png\n",
      "inferframe_03437.png\n",
      "inferframe_02733.png\n"
     ]
    },
    {
     "name": "stderr",
     "output_type": "stream",
     "text": [
      " 30%|██▉       | 1116/3741 [00:54<02:04, 21.16it/s]"
     ]
    },
    {
     "name": "stdout",
     "output_type": "stream",
     "text": [
      "inferframe_01517.png\n",
      "inferframe_03112.png\n",
      "inferframe_02006.png\n",
      "inferframe_01386.png\n",
      "inferframe_03199.png\n"
     ]
    },
    {
     "name": "stderr",
     "output_type": "stream",
     "text": [
      " 30%|██▉       | 1119/3741 [00:54<02:06, 20.80it/s]"
     ]
    },
    {
     "name": "stdout",
     "output_type": "stream",
     "text": [
      "inferframe_03423.png\n",
      "inferframe_01118.png\n",
      "inferframe_02552.png\n",
      "inferframe_00415.png\n",
      "inferframe_00428.png\n"
     ]
    },
    {
     "name": "stderr",
     "output_type": "stream",
     "text": [
      " 30%|███       | 1125/3741 [00:55<01:57, 22.18it/s]"
     ]
    },
    {
     "name": "stdout",
     "output_type": "stream",
     "text": [
      "inferframe_00257.png\n",
      "inferframe_01409.png\n",
      "inferframe_00137.png\n",
      "inferframe_02996.png\n",
      "inferframe_03391.png\n"
     ]
    },
    {
     "name": "stderr",
     "output_type": "stream",
     "text": [
      " 30%|███       | 1131/3741 [00:55<02:02, 21.29it/s]"
     ]
    },
    {
     "name": "stdout",
     "output_type": "stream",
     "text": [
      "inferframe_00771.png\n",
      "inferframe_00507.png\n",
      "inferframe_03645.png\n",
      "inferframe_02898.png\n",
      "inferframe_01718.png\n"
     ]
    },
    {
     "name": "stderr",
     "output_type": "stream",
     "text": [
      " 30%|███       | 1134/3741 [00:55<02:19, 18.65it/s]"
     ]
    },
    {
     "name": "stdout",
     "output_type": "stream",
     "text": [
      "inferframe_01349.png\n",
      "inferframe_00017.png\n",
      "inferframe_00679.png\n",
      "inferframe_00405.png\n"
     ]
    },
    {
     "name": "stderr",
     "output_type": "stream",
     "text": [
      " 30%|███       | 1139/3741 [00:55<02:15, 19.21it/s]"
     ]
    },
    {
     "name": "stdout",
     "output_type": "stream",
     "text": [
      "inferframe_00394.png\n",
      "inferframe_02661.png\n",
      "inferframe_03496.png\n",
      "inferframe_00211.png\n"
     ]
    },
    {
     "name": "stderr",
     "output_type": "stream",
     "text": [
      " 31%|███       | 1143/3741 [00:55<02:16, 19.01it/s]"
     ]
    },
    {
     "name": "stdout",
     "output_type": "stream",
     "text": [
      "inferframe_02445.png\n",
      "inferframe_02221.png\n",
      "inferframe_02983.png\n",
      "inferframe_00236.png\n",
      "inferframe_03295.png\n"
     ]
    },
    {
     "name": "stderr",
     "output_type": "stream",
     "text": [
      " 31%|███       | 1147/3741 [00:56<02:19, 18.57it/s]"
     ]
    },
    {
     "name": "stdout",
     "output_type": "stream",
     "text": [
      "inferframe_00009.png\n",
      "inferframe_03578.png\n",
      "inferframe_00859.png\n",
      "inferframe_02488.png\n"
     ]
    },
    {
     "name": "stderr",
     "output_type": "stream",
     "text": [
      " 31%|███       | 1152/3741 [00:56<02:13, 19.42it/s]"
     ]
    },
    {
     "name": "stdout",
     "output_type": "stream",
     "text": [
      "inferframe_01742.png\n",
      "inferframe_03554.png\n",
      "inferframe_02609.png\n",
      "inferframe_00803.png\n"
     ]
    },
    {
     "name": "stderr",
     "output_type": "stream",
     "text": [
      " 31%|███       | 1155/3741 [00:56<02:10, 19.87it/s]"
     ]
    },
    {
     "name": "stdout",
     "output_type": "stream",
     "text": [
      "inferframe_02472.png\n",
      "inferframe_00886.png\n",
      "inferframe_02528.png\n",
      "inferframe_01270.png\n",
      "inferframe_00216.png\n"
     ]
    },
    {
     "name": "stderr",
     "output_type": "stream",
     "text": [
      " 31%|███       | 1160/3741 [00:56<02:12, 19.45it/s]"
     ]
    },
    {
     "name": "stdout",
     "output_type": "stream",
     "text": [
      "inferframe_03367.png\n",
      "inferframe_01930.png\n",
      "inferframe_00179.png\n",
      "inferframe_00730.png\n",
      "inferframe_02696.png\n"
     ]
    },
    {
     "name": "stderr",
     "output_type": "stream",
     "text": [
      " 31%|███       | 1166/3741 [00:57<02:05, 20.58it/s]"
     ]
    },
    {
     "name": "stdout",
     "output_type": "stream",
     "text": [
      "inferframe_02022.png\n",
      "inferframe_01222.png\n",
      "inferframe_02407.png\n",
      "inferframe_01149.png\n",
      "inferframe_00376.png\n"
     ]
    },
    {
     "name": "stderr",
     "output_type": "stream",
     "text": [
      " 31%|███       | 1169/3741 [00:57<02:02, 21.05it/s]"
     ]
    },
    {
     "name": "stdout",
     "output_type": "stream",
     "text": [
      "inferframe_00235.png\n",
      "inferframe_02724.png\n",
      "inferframe_02025.png\n",
      "inferframe_03282.png\n"
     ]
    },
    {
     "name": "stderr",
     "output_type": "stream",
     "text": [
      " 31%|███▏      | 1175/3741 [00:57<02:03, 20.82it/s]"
     ]
    },
    {
     "name": "stdout",
     "output_type": "stream",
     "text": [
      "inferframe_02216.png\n",
      "inferframe_01584.png\n",
      "inferframe_02059.png\n",
      "inferframe_03145.png\n",
      "inferframe_03507.png\n"
     ]
    },
    {
     "name": "stderr",
     "output_type": "stream",
     "text": [
      " 32%|███▏      | 1181/3741 [00:57<02:02, 20.89it/s]"
     ]
    },
    {
     "name": "stdout",
     "output_type": "stream",
     "text": [
      "inferframe_02402.png\n",
      "inferframe_02404.png\n",
      "inferframe_00109.png\n",
      "inferframe_01474.png\n",
      "inferframe_02599.png\n"
     ]
    },
    {
     "name": "stderr",
     "output_type": "stream",
     "text": [
      " 32%|███▏      | 1184/3741 [00:57<01:59, 21.31it/s]"
     ]
    },
    {
     "name": "stdout",
     "output_type": "stream",
     "text": [
      "inferframe_00271.png\n",
      "inferframe_00292.png\n",
      "inferframe_03503.png\n",
      "inferframe_03681.png\n",
      "inferframe_03019.png\n"
     ]
    },
    {
     "name": "stderr",
     "output_type": "stream",
     "text": [
      " 32%|███▏      | 1190/3741 [00:58<01:57, 21.70it/s]"
     ]
    },
    {
     "name": "stdout",
     "output_type": "stream",
     "text": [
      "inferframe_01511.png\n",
      "inferframe_01535.png\n",
      "inferframe_02784.png\n",
      "inferframe_03148.png\n",
      "inferframe_03700.png\n"
     ]
    },
    {
     "name": "stderr",
     "output_type": "stream",
     "text": [
      " 32%|███▏      | 1196/3741 [00:58<02:00, 21.05it/s]"
     ]
    },
    {
     "name": "stdout",
     "output_type": "stream",
     "text": [
      "inferframe_03096.png\n",
      "inferframe_01403.png\n",
      "inferframe_00317.png\n",
      "inferframe_02284.png\n",
      "inferframe_00324.png\n"
     ]
    },
    {
     "name": "stderr",
     "output_type": "stream",
     "text": [
      " 32%|███▏      | 1199/3741 [00:58<01:59, 21.19it/s]"
     ]
    },
    {
     "name": "stdout",
     "output_type": "stream",
     "text": [
      "inferframe_03474.png\n",
      "inferframe_00176.png\n",
      "inferframe_03137.png\n",
      "inferframe_01449.png\n",
      "inferframe_00042.png\n"
     ]
    },
    {
     "name": "stderr",
     "output_type": "stream",
     "text": [
      " 32%|███▏      | 1205/3741 [00:58<02:03, 20.53it/s]"
     ]
    },
    {
     "name": "stdout",
     "output_type": "stream",
     "text": [
      "inferframe_03303.png\n",
      "inferframe_02656.png\n",
      "inferframe_01113.png\n",
      "inferframe_02744.png\n",
      "inferframe_01427.png\n"
     ]
    },
    {
     "name": "stderr",
     "output_type": "stream",
     "text": [
      " 32%|███▏      | 1211/3741 [00:59<02:05, 20.18it/s]"
     ]
    },
    {
     "name": "stdout",
     "output_type": "stream",
     "text": [
      "inferframe_03453.png\n",
      "inferframe_00217.png\n",
      "inferframe_01688.png\n",
      "inferframe_01445.png\n"
     ]
    },
    {
     "name": "stderr",
     "output_type": "stream",
     "text": [
      " 32%|███▏      | 1214/3741 [00:59<02:08, 19.61it/s]"
     ]
    },
    {
     "name": "stdout",
     "output_type": "stream",
     "text": [
      "inferframe_01773.png\n",
      "inferframe_00990.png\n",
      "inferframe_01910.png\n",
      "inferframe_01293.png\n"
     ]
    },
    {
     "name": "stderr",
     "output_type": "stream",
     "text": [
      " 33%|███▎      | 1219/3741 [00:59<02:05, 20.13it/s]"
     ]
    },
    {
     "name": "stdout",
     "output_type": "stream",
     "text": [
      "inferframe_00096.png\n",
      "inferframe_00515.png\n",
      "inferframe_02265.png\n",
      "inferframe_01470.png\n",
      "inferframe_03739.png\n"
     ]
    },
    {
     "name": "stderr",
     "output_type": "stream",
     "text": [
      " 33%|███▎      | 1222/3741 [00:59<02:03, 20.39it/s]"
     ]
    },
    {
     "name": "stdout",
     "output_type": "stream",
     "text": [
      "inferframe_02130.png\n",
      "inferframe_02802.png\n",
      "inferframe_01257.png\n",
      "inferframe_02504.png\n",
      "inferframe_01757.png\n"
     ]
    },
    {
     "name": "stderr",
     "output_type": "stream",
     "text": [
      " 33%|███▎      | 1228/3741 [01:00<02:03, 20.43it/s]"
     ]
    },
    {
     "name": "stdout",
     "output_type": "stream",
     "text": [
      "inferframe_01614.png\n",
      "inferframe_02829.png\n",
      "inferframe_01334.png\n",
      "inferframe_01223.png\n",
      "inferframe_02606.png\n"
     ]
    },
    {
     "name": "stderr",
     "output_type": "stream",
     "text": [
      " 33%|███▎      | 1234/3741 [01:00<02:01, 20.68it/s]"
     ]
    },
    {
     "name": "stdout",
     "output_type": "stream",
     "text": [
      "inferframe_00013.png\n",
      "inferframe_02282.png\n",
      "inferframe_00298.png\n",
      "inferframe_00254.png\n",
      "inferframe_03178.png\n"
     ]
    },
    {
     "name": "stderr",
     "output_type": "stream",
     "text": [
      " 33%|███▎      | 1237/3741 [01:00<02:00, 20.76it/s]"
     ]
    },
    {
     "name": "stdout",
     "output_type": "stream",
     "text": [
      "inferframe_02705.png\n",
      "inferframe_00190.png\n",
      "inferframe_02474.png\n",
      "inferframe_00632.png\n",
      "inferframe_03151.png\n"
     ]
    },
    {
     "name": "stderr",
     "output_type": "stream",
     "text": [
      " 33%|███▎      | 1243/3741 [01:00<02:04, 20.02it/s]"
     ]
    },
    {
     "name": "stdout",
     "output_type": "stream",
     "text": [
      "inferframe_03014.png\n",
      "inferframe_02233.png\n",
      "inferframe_01238.png\n",
      "inferframe_03245.png\n"
     ]
    },
    {
     "name": "stderr",
     "output_type": "stream",
     "text": [
      " 33%|███▎      | 1246/3741 [01:01<02:03, 20.22it/s]"
     ]
    },
    {
     "name": "stdout",
     "output_type": "stream",
     "text": [
      "inferframe_03424.png\n",
      "inferframe_00301.png\n",
      "inferframe_01213.png\n",
      "inferframe_02792.png\n",
      "inferframe_01058.png\n"
     ]
    },
    {
     "name": "stderr",
     "output_type": "stream",
     "text": [
      " 33%|███▎      | 1252/3741 [01:01<02:08, 19.37it/s]"
     ]
    },
    {
     "name": "stdout",
     "output_type": "stream",
     "text": [
      "inferframe_00657.png\n",
      "inferframe_00583.png\n",
      "inferframe_03527.png\n",
      "inferframe_02206.png\n"
     ]
    },
    {
     "name": "stderr",
     "output_type": "stream",
     "text": [
      " 34%|███▎      | 1255/3741 [01:01<02:04, 19.97it/s]"
     ]
    },
    {
     "name": "stdout",
     "output_type": "stream",
     "text": [
      "inferframe_03465.png\n",
      "inferframe_02174.png\n",
      "inferframe_00694.png\n",
      "inferframe_00734.png\n"
     ]
    },
    {
     "name": "stderr",
     "output_type": "stream",
     "text": [
      " 34%|███▎      | 1261/3741 [01:01<02:01, 20.40it/s]"
     ]
    },
    {
     "name": "stdout",
     "output_type": "stream",
     "text": [
      "inferframe_02684.png\n",
      "inferframe_02081.png\n",
      "inferframe_02842.png\n",
      "inferframe_01010.png\n",
      "inferframe_00184.png\n"
     ]
    },
    {
     "name": "stderr",
     "output_type": "stream",
     "text": [
      " 34%|███▍      | 1264/3741 [01:01<02:01, 20.34it/s]"
     ]
    },
    {
     "name": "stdout",
     "output_type": "stream",
     "text": [
      "inferframe_00989.png\n",
      "inferframe_00890.png\n",
      "inferframe_02922.png\n",
      "inferframe_00469.png\n"
     ]
    },
    {
     "name": "stderr",
     "output_type": "stream",
     "text": [
      " 34%|███▍      | 1270/3741 [01:02<02:00, 20.44it/s]"
     ]
    },
    {
     "name": "stdout",
     "output_type": "stream",
     "text": [
      "inferframe_01071.png\n",
      "inferframe_00560.png\n",
      "inferframe_01963.png\n",
      "inferframe_03069.png\n",
      "inferframe_01088.png\n"
     ]
    },
    {
     "name": "stderr",
     "output_type": "stream",
     "text": [
      " 34%|███▍      | 1273/3741 [01:02<02:02, 20.13it/s]"
     ]
    },
    {
     "name": "stdout",
     "output_type": "stream",
     "text": [
      "inferframe_03614.png\n",
      "inferframe_01433.png\n",
      "inferframe_01656.png\n",
      "inferframe_03392.png\n",
      "inferframe_02110.png\n"
     ]
    },
    {
     "name": "stderr",
     "output_type": "stream",
     "text": [
      " 34%|███▍      | 1279/3741 [01:02<01:56, 21.14it/s]"
     ]
    },
    {
     "name": "stdout",
     "output_type": "stream",
     "text": [
      "inferframe_02431.png\n",
      "inferframe_01559.png\n",
      "inferframe_01278.png\n",
      "inferframe_01319.png\n",
      "inferframe_02877.png\n"
     ]
    },
    {
     "name": "stderr",
     "output_type": "stream",
     "text": [
      " 34%|███▍      | 1282/3741 [01:02<01:58, 20.73it/s]"
     ]
    },
    {
     "name": "stdout",
     "output_type": "stream",
     "text": [
      "inferframe_03206.png\n",
      "inferframe_00971.png\n",
      "inferframe_00228.png\n",
      "inferframe_03251.png\n"
     ]
    },
    {
     "name": "stderr",
     "output_type": "stream",
     "text": [
      " 34%|███▍      | 1288/3741 [01:03<02:01, 20.14it/s]"
     ]
    },
    {
     "name": "stdout",
     "output_type": "stream",
     "text": [
      "inferframe_01911.png\n",
      "inferframe_02639.png\n",
      "inferframe_03548.png\n",
      "inferframe_00751.png\n",
      "inferframe_01706.png\n"
     ]
    },
    {
     "name": "stderr",
     "output_type": "stream",
     "text": [
      " 35%|███▍      | 1294/3741 [01:03<02:02, 20.04it/s]"
     ]
    },
    {
     "name": "stdout",
     "output_type": "stream",
     "text": [
      "inferframe_02712.png\n",
      "inferframe_03160.png\n",
      "inferframe_03427.png\n",
      "inferframe_03356.png\n",
      "inferframe_02192.png\n"
     ]
    },
    {
     "name": "stderr",
     "output_type": "stream",
     "text": [
      " 35%|███▍      | 1297/3741 [01:03<01:59, 20.41it/s]"
     ]
    },
    {
     "name": "stdout",
     "output_type": "stream",
     "text": [
      "inferframe_02530.png\n",
      "inferframe_03012.png\n",
      "inferframe_02503.png\n",
      "inferframe_03619.png\n",
      "inferframe_00993.png\n"
     ]
    },
    {
     "name": "stderr",
     "output_type": "stream",
     "text": [
      " 35%|███▍      | 1303/3741 [01:03<01:56, 20.88it/s]"
     ]
    },
    {
     "name": "stdout",
     "output_type": "stream",
     "text": [
      "inferframe_03265.png\n",
      "inferframe_03555.png\n",
      "inferframe_00246.png\n",
      "inferframe_00186.png\n",
      "inferframe_01131.png\n"
     ]
    },
    {
     "name": "stderr",
     "output_type": "stream",
     "text": [
      " 35%|███▍      | 1306/3741 [01:03<01:56, 20.98it/s]"
     ]
    },
    {
     "name": "stdout",
     "output_type": "stream",
     "text": [
      "inferframe_01089.png\n",
      "inferframe_00705.png\n",
      "inferframe_01033.png\n",
      "inferframe_01136.png\n"
     ]
    },
    {
     "name": "stderr",
     "output_type": "stream",
     "text": [
      " 35%|███▌      | 1312/3741 [01:04<02:03, 19.61it/s]"
     ]
    },
    {
     "name": "stdout",
     "output_type": "stream",
     "text": [
      "inferframe_01250.png\n",
      "inferframe_03579.png\n",
      "inferframe_01936.png\n",
      "inferframe_03733.png\n"
     ]
    },
    {
     "name": "stderr",
     "output_type": "stream",
     "text": [
      " 35%|███▌      | 1315/3741 [01:04<02:02, 19.85it/s]"
     ]
    },
    {
     "name": "stdout",
     "output_type": "stream",
     "text": [
      "inferframe_02516.png\n",
      "inferframe_00626.png\n",
      "inferframe_02213.png\n",
      "inferframe_00398.png\n",
      "inferframe_02800.png\n"
     ]
    },
    {
     "name": "stderr",
     "output_type": "stream",
     "text": [
      " 35%|███▌      | 1321/3741 [01:04<02:01, 19.97it/s]"
     ]
    },
    {
     "name": "stdout",
     "output_type": "stream",
     "text": [
      "inferframe_01210.png\n",
      "inferframe_00939.png\n",
      "inferframe_01192.png\n",
      "inferframe_01608.png\n"
     ]
    },
    {
     "name": "stderr",
     "output_type": "stream",
     "text": [
      " 35%|███▌      | 1324/3741 [01:04<02:01, 19.86it/s]"
     ]
    },
    {
     "name": "stdout",
     "output_type": "stream",
     "text": [
      "inferframe_01234.png\n",
      "inferframe_03169.png\n",
      "inferframe_01252.png\n",
      "inferframe_01981.png\n"
     ]
    },
    {
     "name": "stderr",
     "output_type": "stream",
     "text": [
      " 36%|███▌      | 1330/3741 [01:05<01:58, 20.38it/s]"
     ]
    },
    {
     "name": "stdout",
     "output_type": "stream",
     "text": [
      "inferframe_02780.png\n",
      "inferframe_03211.png\n",
      "inferframe_01060.png\n",
      "inferframe_01456.png\n",
      "inferframe_02077.png\n"
     ]
    },
    {
     "name": "stderr",
     "output_type": "stream",
     "text": [
      " 36%|███▌      | 1333/3741 [01:05<01:56, 20.75it/s]"
     ]
    },
    {
     "name": "stdout",
     "output_type": "stream",
     "text": [
      "inferframe_03164.png\n",
      "inferframe_00484.png\n",
      "inferframe_01737.png\n",
      "inferframe_03584.png\n",
      "inferframe_01357.png\n"
     ]
    },
    {
     "name": "stderr",
     "output_type": "stream",
     "text": [
      " 36%|███▌      | 1339/3741 [01:05<01:55, 20.79it/s]"
     ]
    },
    {
     "name": "stdout",
     "output_type": "stream",
     "text": [
      "inferframe_00964.png\n",
      "inferframe_02859.png\n",
      "inferframe_02153.png\n",
      "inferframe_01361.png\n",
      "inferframe_03504.png\n"
     ]
    },
    {
     "name": "stderr",
     "output_type": "stream",
     "text": [
      " 36%|███▌      | 1342/3741 [01:05<01:55, 20.78it/s]"
     ]
    },
    {
     "name": "stdout",
     "output_type": "stream",
     "text": [
      "inferframe_00078.png\n",
      "inferframe_02001.png\n",
      "inferframe_03266.png\n",
      "inferframe_00872.png\n"
     ]
    },
    {
     "name": "stderr",
     "output_type": "stream",
     "text": [
      " 36%|███▌      | 1348/3741 [01:06<01:54, 20.87it/s]"
     ]
    },
    {
     "name": "stdout",
     "output_type": "stream",
     "text": [
      "inferframe_00524.png\n",
      "inferframe_02749.png\n",
      "inferframe_01428.png\n",
      "inferframe_00591.png\n",
      "inferframe_02225.png\n"
     ]
    },
    {
     "name": "stderr",
     "output_type": "stream",
     "text": [
      " 36%|███▌      | 1354/3741 [01:06<01:54, 20.77it/s]"
     ]
    },
    {
     "name": "stdout",
     "output_type": "stream",
     "text": [
      "inferframe_03718.png\n",
      "inferframe_03607.png\n",
      "inferframe_00863.png\n",
      "inferframe_00310.png\n"
     ]
    },
    {
     "name": "stderr",
     "output_type": "stream",
     "text": [
      " 36%|███▋      | 1357/3741 [01:06<01:52, 21.11it/s]"
     ]
    },
    {
     "name": "stdout",
     "output_type": "stream",
     "text": [
      "inferframe_00267.png\n",
      "inferframe_01747.png\n",
      "inferframe_00091.png\n",
      "inferframe_02948.png\n",
      "inferframe_00686.png\n"
     ]
    },
    {
     "name": "stderr",
     "output_type": "stream",
     "text": [
      " 36%|███▋      | 1360/3741 [01:06<01:59, 19.97it/s]"
     ]
    },
    {
     "name": "stdout",
     "output_type": "stream",
     "text": [
      "inferframe_02396.png\n",
      "inferframe_02413.png\n",
      "inferframe_02939.png\n",
      "inferframe_00669.png\n"
     ]
    },
    {
     "name": "stderr",
     "output_type": "stream",
     "text": [
      " 36%|███▋      | 1365/3741 [01:06<02:03, 19.24it/s]"
     ]
    },
    {
     "name": "stdout",
     "output_type": "stream",
     "text": [
      "inferframe_02966.png\n",
      "inferframe_02217.png\n",
      "inferframe_03026.png\n",
      "inferframe_03230.png\n"
     ]
    },
    {
     "name": "stderr",
     "output_type": "stream",
     "text": [
      " 37%|███▋      | 1369/3741 [01:07<02:03, 19.25it/s]"
     ]
    },
    {
     "name": "stdout",
     "output_type": "stream",
     "text": [
      "inferframe_01815.png\n",
      "inferframe_00336.png\n",
      "inferframe_00213.png\n",
      "inferframe_02438.png\n"
     ]
    },
    {
     "name": "stderr",
     "output_type": "stream",
     "text": [
      " 37%|███▋      | 1373/3741 [01:07<02:04, 18.95it/s]"
     ]
    },
    {
     "name": "stdout",
     "output_type": "stream",
     "text": [
      "inferframe_03109.png\n",
      "inferframe_03192.png\n",
      "inferframe_02861.png\n",
      "inferframe_00198.png\n"
     ]
    },
    {
     "name": "stderr",
     "output_type": "stream",
     "text": [
      " 37%|███▋      | 1379/3741 [01:07<01:57, 20.17it/s]"
     ]
    },
    {
     "name": "stdout",
     "output_type": "stream",
     "text": [
      "inferframe_02841.png\n",
      "inferframe_02581.png\n",
      "inferframe_00180.png\n",
      "inferframe_01983.png\n",
      "inferframe_02791.png\n"
     ]
    },
    {
     "name": "stderr",
     "output_type": "stream",
     "text": [
      " 37%|███▋      | 1382/3741 [01:07<01:57, 20.11it/s]"
     ]
    },
    {
     "name": "stdout",
     "output_type": "stream",
     "text": [
      "inferframe_03572.png\n",
      "inferframe_00029.png\n",
      "inferframe_02819.png\n",
      "inferframe_01794.png\n",
      "inferframe_00695.png\n"
     ]
    },
    {
     "name": "stderr",
     "output_type": "stream",
     "text": [
      " 37%|███▋      | 1388/3741 [01:08<01:57, 19.99it/s]"
     ]
    },
    {
     "name": "stdout",
     "output_type": "stream",
     "text": [
      "inferframe_02440.png\n",
      "inferframe_00197.png\n",
      "inferframe_03352.png\n",
      "inferframe_01442.png\n",
      "inferframe_00561.png\n"
     ]
    },
    {
     "name": "stderr",
     "output_type": "stream",
     "text": [
      " 37%|███▋      | 1391/3741 [01:08<01:57, 20.01it/s]"
     ]
    },
    {
     "name": "stdout",
     "output_type": "stream",
     "text": [
      "inferframe_03319.png\n",
      "inferframe_03269.png\n",
      "inferframe_00368.png\n",
      "inferframe_00780.png\n"
     ]
    },
    {
     "name": "stderr",
     "output_type": "stream",
     "text": [
      " 37%|███▋      | 1397/3741 [01:08<01:57, 19.91it/s]"
     ]
    },
    {
     "name": "stdout",
     "output_type": "stream",
     "text": [
      "inferframe_02567.png\n",
      "inferframe_01235.png\n",
      "inferframe_00866.png\n",
      "inferframe_01019.png\n"
     ]
    },
    {
     "name": "stderr",
     "output_type": "stream",
     "text": [
      " 37%|███▋      | 1401/3741 [01:08<01:58, 19.78it/s]"
     ]
    },
    {
     "name": "stdout",
     "output_type": "stream",
     "text": [
      "inferframe_01834.png\n",
      "inferframe_02670.png\n",
      "inferframe_03322.png\n",
      "inferframe_01546.png\n"
     ]
    },
    {
     "name": "stderr",
     "output_type": "stream",
     "text": [
      " 38%|███▊      | 1405/3741 [01:08<01:59, 19.59it/s]"
     ]
    },
    {
     "name": "stdout",
     "output_type": "stream",
     "text": [
      "inferframe_03727.png\n",
      "inferframe_00574.png\n",
      "inferframe_00391.png\n",
      "inferframe_02142.png\n"
     ]
    },
    {
     "name": "stderr",
     "output_type": "stream",
     "text": [
      " 38%|███▊      | 1408/3741 [01:09<01:53, 20.50it/s]"
     ]
    },
    {
     "name": "stdout",
     "output_type": "stream",
     "text": [
      "inferframe_02177.png\n",
      "inferframe_03587.png\n",
      "inferframe_01897.png\n",
      "inferframe_01789.png\n",
      "inferframe_00063.png\n"
     ]
    },
    {
     "name": "stderr",
     "output_type": "stream",
     "text": [
      " 38%|███▊      | 1413/3741 [01:09<01:57, 19.78it/s]"
     ]
    },
    {
     "name": "stdout",
     "output_type": "stream",
     "text": [
      "inferframe_00393.png\n",
      "inferframe_02989.png\n",
      "inferframe_03032.png\n",
      "inferframe_02319.png\n"
     ]
    },
    {
     "name": "stderr",
     "output_type": "stream",
     "text": [
      " 38%|███▊      | 1418/3741 [01:09<01:55, 20.15it/s]"
     ]
    },
    {
     "name": "stdout",
     "output_type": "stream",
     "text": [
      "inferframe_02393.png\n",
      "inferframe_00272.png\n",
      "inferframe_00784.png\n",
      "inferframe_02291.png\n",
      "inferframe_00450.png\n"
     ]
    },
    {
     "name": "stderr",
     "output_type": "stream",
     "text": [
      " 38%|███▊      | 1424/3741 [01:09<01:53, 20.45it/s]"
     ]
    },
    {
     "name": "stdout",
     "output_type": "stream",
     "text": [
      "inferframe_03573.png\n",
      "inferframe_00581.png\n",
      "inferframe_00074.png\n",
      "inferframe_03493.png\n",
      "inferframe_03538.png\n"
     ]
    },
    {
     "name": "stderr",
     "output_type": "stream",
     "text": [
      " 38%|███▊      | 1427/3741 [01:10<01:53, 20.34it/s]"
     ]
    },
    {
     "name": "stdout",
     "output_type": "stream",
     "text": [
      "inferframe_00905.png\n",
      "inferframe_02655.png\n",
      "inferframe_01155.png\n",
      "inferframe_01287.png\n"
     ]
    },
    {
     "name": "stderr",
     "output_type": "stream",
     "text": [
      " 38%|███▊      | 1433/3741 [01:10<01:53, 20.41it/s]"
     ]
    },
    {
     "name": "stdout",
     "output_type": "stream",
     "text": [
      "inferframe_02758.png\n",
      "inferframe_02182.png\n",
      "inferframe_01044.png\n",
      "inferframe_03618.png\n",
      "inferframe_02677.png\n"
     ]
    },
    {
     "name": "stderr",
     "output_type": "stream",
     "text": [
      " 38%|███▊      | 1436/3741 [01:10<01:52, 20.56it/s]"
     ]
    },
    {
     "name": "stdout",
     "output_type": "stream",
     "text": [
      "inferframe_01370.png\n",
      "inferframe_01954.png\n",
      "inferframe_02927.png\n",
      "inferframe_01200.png\n",
      "inferframe_02943.png\n"
     ]
    },
    {
     "name": "stderr",
     "output_type": "stream",
     "text": [
      " 39%|███▊      | 1442/3741 [01:10<01:54, 20.00it/s]"
     ]
    },
    {
     "name": "stdout",
     "output_type": "stream",
     "text": [
      "inferframe_00882.png\n",
      "inferframe_00064.png\n",
      "inferframe_01078.png\n",
      "inferframe_00927.png\n"
     ]
    },
    {
     "name": "stderr",
     "output_type": "stream",
     "text": [
      " 39%|███▊      | 1445/3741 [01:10<01:51, 20.52it/s]"
     ]
    },
    {
     "name": "stdout",
     "output_type": "stream",
     "text": [
      "inferframe_00467.png\n",
      "inferframe_02781.png\n",
      "inferframe_00895.png\n",
      "inferframe_00754.png\n",
      "inferframe_02133.png\n"
     ]
    },
    {
     "name": "stderr",
     "output_type": "stream",
     "text": [
      " 39%|███▉      | 1451/3741 [01:11<01:53, 20.23it/s]"
     ]
    },
    {
     "name": "stdout",
     "output_type": "stream",
     "text": [
      "inferframe_01545.png\n",
      "inferframe_03334.png\n",
      "inferframe_00395.png\n",
      "inferframe_00015.png\n"
     ]
    },
    {
     "name": "stderr",
     "output_type": "stream",
     "text": [
      " 39%|███▉      | 1454/3741 [01:11<01:53, 20.22it/s]"
     ]
    },
    {
     "name": "stdout",
     "output_type": "stream",
     "text": [
      "inferframe_01343.png\n",
      "inferframe_02633.png\n",
      "inferframe_02971.png\n",
      "inferframe_02230.png\n",
      "inferframe_02336.png\n"
     ]
    },
    {
     "name": "stderr",
     "output_type": "stream",
     "text": [
      " 39%|███▉      | 1460/3741 [01:11<01:58, 19.27it/s]"
     ]
    },
    {
     "name": "stdout",
     "output_type": "stream",
     "text": [
      "inferframe_01183.png\n",
      "inferframe_02777.png\n",
      "inferframe_01933.png\n",
      "inferframe_00442.png\n"
     ]
    },
    {
     "name": "stderr",
     "output_type": "stream",
     "text": [
      " 39%|███▉      | 1463/3741 [01:11<01:54, 19.94it/s]"
     ]
    },
    {
     "name": "stdout",
     "output_type": "stream",
     "text": [
      "inferframe_01139.png\n",
      "inferframe_03325.png\n",
      "inferframe_02872.png\n",
      "inferframe_01626.png\n",
      "inferframe_02432.png\n"
     ]
    },
    {
     "name": "stderr",
     "output_type": "stream",
     "text": [
      " 39%|███▉      | 1469/3741 [01:12<01:51, 20.36it/s]"
     ]
    },
    {
     "name": "stdout",
     "output_type": "stream",
     "text": [
      "inferframe_02152.png\n",
      "inferframe_00735.png\n",
      "inferframe_03715.png\n",
      "inferframe_01609.png\n",
      "inferframe_00584.png\n"
     ]
    },
    {
     "name": "stderr",
     "output_type": "stream",
     "text": [
      " 39%|███▉      | 1475/3741 [01:12<01:48, 20.82it/s]"
     ]
    },
    {
     "name": "stdout",
     "output_type": "stream",
     "text": [
      "inferframe_03541.png\n",
      "inferframe_03492.png\n",
      "inferframe_00173.png\n",
      "inferframe_00587.png\n",
      "inferframe_02073.png\n"
     ]
    },
    {
     "name": "stderr",
     "output_type": "stream",
     "text": [
      " 40%|███▉      | 1478/3741 [01:12<01:50, 20.41it/s]"
     ]
    },
    {
     "name": "stdout",
     "output_type": "stream",
     "text": [
      "inferframe_01945.png\n",
      "inferframe_01771.png\n",
      "inferframe_01342.png\n",
      "inferframe_00422.png\n"
     ]
    },
    {
     "name": "stderr",
     "output_type": "stream",
     "text": [
      " 40%|███▉      | 1484/3741 [01:12<01:51, 20.32it/s]"
     ]
    },
    {
     "name": "stdout",
     "output_type": "stream",
     "text": [
      "inferframe_00508.png\n",
      "inferframe_00995.png\n",
      "inferframe_03150.png\n",
      "inferframe_03108.png\n",
      "inferframe_03644.png\n"
     ]
    },
    {
     "name": "stderr",
     "output_type": "stream",
     "text": [
      " 40%|███▉      | 1487/3741 [01:12<01:49, 20.51it/s]"
     ]
    },
    {
     "name": "stdout",
     "output_type": "stream",
     "text": [
      "inferframe_03196.png\n",
      "inferframe_01320.png\n",
      "inferframe_01542.png\n",
      "inferframe_03547.png\n",
      "inferframe_00953.png\n"
     ]
    },
    {
     "name": "stderr",
     "output_type": "stream",
     "text": [
      " 40%|███▉      | 1493/3741 [01:13<01:50, 20.40it/s]"
     ]
    },
    {
     "name": "stdout",
     "output_type": "stream",
     "text": [
      "inferframe_02304.png\n",
      "inferframe_02354.png\n",
      "inferframe_01758.png\n",
      "inferframe_00642.png\n",
      "inferframe_00167.png\n"
     ]
    },
    {
     "name": "stderr",
     "output_type": "stream",
     "text": [
      " 40%|████      | 1499/3741 [01:13<01:43, 21.66it/s]"
     ]
    },
    {
     "name": "stdout",
     "output_type": "stream",
     "text": [
      "inferframe_01098.png\n",
      "inferframe_02053.png\n",
      "inferframe_01687.png\n",
      "inferframe_00443.png\n",
      "inferframe_00157.png\n"
     ]
    },
    {
     "name": "stderr",
     "output_type": "stream",
     "text": [
      " 40%|████      | 1502/3741 [01:13<01:43, 21.54it/s]"
     ]
    },
    {
     "name": "stdout",
     "output_type": "stream",
     "text": [
      "inferframe_02820.png\n",
      "inferframe_02369.png\n",
      "inferframe_01928.png\n",
      "inferframe_00223.png\n"
     ]
    },
    {
     "name": "stderr",
     "output_type": "stream",
     "text": [
      " 40%|████      | 1508/3741 [01:13<01:48, 20.63it/s]"
     ]
    },
    {
     "name": "stdout",
     "output_type": "stream",
     "text": [
      "inferframe_01274.png\n",
      "inferframe_02442.png\n",
      "inferframe_03007.png\n",
      "inferframe_00039.png\n",
      "inferframe_01487.png\n"
     ]
    },
    {
     "name": "stderr",
     "output_type": "stream",
     "text": [
      " 40%|████      | 1511/3741 [01:14<01:48, 20.46it/s]"
     ]
    },
    {
     "name": "stdout",
     "output_type": "stream",
     "text": [
      "inferframe_01004.png\n",
      "inferframe_01685.png\n",
      "inferframe_00338.png\n",
      "inferframe_03027.png\n",
      "inferframe_00558.png\n"
     ]
    },
    {
     "name": "stderr",
     "output_type": "stream",
     "text": [
      " 41%|████      | 1517/3741 [01:14<01:47, 20.66it/s]"
     ]
    },
    {
     "name": "stdout",
     "output_type": "stream",
     "text": [
      "inferframe_02951.png\n",
      "inferframe_03274.png\n",
      "inferframe_02080.png\n",
      "inferframe_01592.png\n",
      "inferframe_02500.png\n"
     ]
    },
    {
     "name": "stderr",
     "output_type": "stream",
     "text": [
      " 41%|████      | 1523/3741 [01:14<01:42, 21.67it/s]"
     ]
    },
    {
     "name": "stdout",
     "output_type": "stream",
     "text": [
      "inferframe_02311.png\n",
      "inferframe_03652.png\n",
      "inferframe_01513.png\n",
      "inferframe_03082.png\n",
      "inferframe_01791.png\n"
     ]
    },
    {
     "name": "stderr",
     "output_type": "stream",
     "text": [
      " 41%|████      | 1526/3741 [01:14<01:41, 21.84it/s]"
     ]
    },
    {
     "name": "stdout",
     "output_type": "stream",
     "text": [
      "inferframe_00478.png\n",
      "inferframe_01150.png\n",
      "inferframe_02579.png\n",
      "inferframe_03073.png\n",
      "inferframe_00158.png\n"
     ]
    },
    {
     "name": "stderr",
     "output_type": "stream",
     "text": [
      " 41%|████      | 1532/3741 [01:15<01:43, 21.26it/s]"
     ]
    },
    {
     "name": "stdout",
     "output_type": "stream",
     "text": [
      "inferframe_03344.png\n",
      "inferframe_03660.png\n",
      "inferframe_01323.png\n",
      "inferframe_02741.png\n",
      "inferframe_03183.png\n"
     ]
    },
    {
     "name": "stderr",
     "output_type": "stream",
     "text": [
      " 41%|████      | 1538/3741 [01:15<01:44, 21.08it/s]"
     ]
    },
    {
     "name": "stdout",
     "output_type": "stream",
     "text": [
      "inferframe_02688.png\n",
      "inferframe_01307.png\n",
      "inferframe_02118.png\n",
      "inferframe_03161.png\n",
      "inferframe_01106.png\n"
     ]
    },
    {
     "name": "stderr",
     "output_type": "stream",
     "text": [
      " 41%|████      | 1541/3741 [01:15<01:43, 21.25it/s]"
     ]
    },
    {
     "name": "stdout",
     "output_type": "stream",
     "text": [
      "inferframe_02987.png\n",
      "inferframe_02544.png\n",
      "inferframe_02979.png\n",
      "inferframe_01255.png\n"
     ]
    },
    {
     "name": "stderr",
     "output_type": "stream",
     "text": [
      " 41%|████▏     | 1547/3741 [01:15<01:44, 20.98it/s]"
     ]
    },
    {
     "name": "stdout",
     "output_type": "stream",
     "text": [
      "inferframe_01605.png\n",
      "inferframe_00116.png\n",
      "inferframe_01972.png\n",
      "inferframe_01164.png\n",
      "inferframe_01454.png\n"
     ]
    },
    {
     "name": "stderr",
     "output_type": "stream",
     "text": [
      " 41%|████▏     | 1550/3741 [01:15<01:43, 21.15it/s]"
     ]
    },
    {
     "name": "stdout",
     "output_type": "stream",
     "text": [
      "inferframe_00572.png\n",
      "inferframe_01689.png\n",
      "inferframe_01486.png\n",
      "inferframe_01523.png\n",
      "inferframe_01572.png\n"
     ]
    },
    {
     "name": "stderr",
     "output_type": "stream",
     "text": [
      " 42%|████▏     | 1556/3741 [01:16<01:44, 20.91it/s]"
     ]
    },
    {
     "name": "stdout",
     "output_type": "stream",
     "text": [
      "inferframe_02876.png\n",
      "inferframe_01956.png\n",
      "inferframe_02941.png\n",
      "inferframe_00306.png\n",
      "inferframe_02158.png\n"
     ]
    },
    {
     "name": "stderr",
     "output_type": "stream",
     "text": [
      " 42%|████▏     | 1562/3741 [01:16<01:42, 21.35it/s]"
     ]
    },
    {
     "name": "stdout",
     "output_type": "stream",
     "text": [
      "inferframe_00341.png\n",
      "inferframe_00512.png\n",
      "inferframe_01000.png\n",
      "inferframe_00557.png\n",
      "inferframe_02380.png\n"
     ]
    },
    {
     "name": "stderr",
     "output_type": "stream",
     "text": [
      " 42%|████▏     | 1565/3741 [01:16<01:42, 21.15it/s]"
     ]
    },
    {
     "name": "stdout",
     "output_type": "stream",
     "text": [
      "inferframe_02062.png\n",
      "inferframe_02596.png\n",
      "inferframe_02673.png\n",
      "inferframe_00830.png\n",
      "inferframe_03698.png\n"
     ]
    },
    {
     "name": "stderr",
     "output_type": "stream",
     "text": [
      " 42%|████▏     | 1571/3741 [01:16<01:43, 21.03it/s]"
     ]
    },
    {
     "name": "stdout",
     "output_type": "stream",
     "text": [
      "inferframe_01805.png\n",
      "inferframe_03630.png\n",
      "inferframe_02222.png\n",
      "inferframe_03683.png\n",
      "inferframe_01816.png\n"
     ]
    },
    {
     "name": "stderr",
     "output_type": "stream",
     "text": [
      " 42%|████▏     | 1574/3741 [01:17<01:42, 21.15it/s]"
     ]
    },
    {
     "name": "stdout",
     "output_type": "stream",
     "text": [
      "inferframe_02009.png\n",
      "inferframe_00644.png\n",
      "inferframe_01781.png\n",
      "inferframe_03337.png\n"
     ]
    },
    {
     "name": "stderr",
     "output_type": "stream",
     "text": [
      " 42%|████▏     | 1580/3741 [01:17<01:46, 20.35it/s]"
     ]
    },
    {
     "name": "stdout",
     "output_type": "stream",
     "text": [
      "inferframe_02715.png\n",
      "inferframe_01695.png\n",
      "inferframe_00374.png\n",
      "inferframe_01946.png\n",
      "inferframe_03458.png\n"
     ]
    },
    {
     "name": "stderr",
     "output_type": "stream",
     "text": [
      " 42%|████▏     | 1586/3741 [01:17<01:41, 21.17it/s]"
     ]
    },
    {
     "name": "stdout",
     "output_type": "stream",
     "text": [
      "inferframe_00464.png\n",
      "inferframe_02439.png\n",
      "inferframe_00922.png\n",
      "inferframe_01826.png\n",
      "inferframe_01819.png\n"
     ]
    },
    {
     "name": "stderr",
     "output_type": "stream",
     "text": [
      " 42%|████▏     | 1589/3741 [01:17<01:42, 20.91it/s]"
     ]
    },
    {
     "name": "stdout",
     "output_type": "stream",
     "text": [
      "inferframe_01923.png\n",
      "inferframe_03448.png\n",
      "inferframe_03171.png\n",
      "inferframe_01054.png\n",
      "inferframe_00900.png\n"
     ]
    },
    {
     "name": "stderr",
     "output_type": "stream",
     "text": [
      " 43%|████▎     | 1595/3741 [01:18<01:47, 19.96it/s]"
     ]
    },
    {
     "name": "stdout",
     "output_type": "stream",
     "text": [
      "inferframe_02299.png\n",
      "inferframe_01462.png\n",
      "inferframe_00008.png\n",
      "inferframe_01732.png\n"
     ]
    },
    {
     "name": "stderr",
     "output_type": "stream",
     "text": [
      " 43%|████▎     | 1598/3741 [01:18<01:45, 20.24it/s]"
     ]
    },
    {
     "name": "stdout",
     "output_type": "stream",
     "text": [
      "inferframe_01620.png\n",
      "inferframe_02015.png\n",
      "inferframe_00787.png\n",
      "inferframe_00881.png\n",
      "inferframe_01405.png\n"
     ]
    },
    {
     "name": "stderr",
     "output_type": "stream",
     "text": [
      " 43%|████▎     | 1604/3741 [01:18<01:47, 19.91it/s]"
     ]
    },
    {
     "name": "stdout",
     "output_type": "stream",
     "text": [
      "inferframe_01084.png\n",
      "inferframe_02613.png\n",
      "inferframe_00888.png\n",
      "inferframe_02765.png\n"
     ]
    },
    {
     "name": "stderr",
     "output_type": "stream",
     "text": [
      " 43%|████▎     | 1607/3741 [01:18<01:45, 20.14it/s]"
     ]
    },
    {
     "name": "stdout",
     "output_type": "stream",
     "text": [
      "inferframe_02738.png\n",
      "inferframe_00793.png\n",
      "inferframe_03084.png\n",
      "inferframe_00952.png\n",
      "inferframe_02883.png\n"
     ]
    },
    {
     "name": "stderr",
     "output_type": "stream",
     "text": [
      " 43%|████▎     | 1613/3741 [01:19<01:46, 20.00it/s]"
     ]
    },
    {
     "name": "stdout",
     "output_type": "stream",
     "text": [
      "inferframe_02027.png\n",
      "inferframe_03478.png\n",
      "inferframe_00611.png\n",
      "inferframe_01385.png\n",
      "inferframe_03475.png\n"
     ]
    },
    {
     "name": "stderr",
     "output_type": "stream",
     "text": [
      " 43%|████▎     | 1619/3741 [01:19<01:41, 20.82it/s]"
     ]
    },
    {
     "name": "stdout",
     "output_type": "stream",
     "text": [
      "inferframe_02509.png\n",
      "inferframe_02298.png\n",
      "inferframe_02028.png\n",
      "inferframe_00360.png\n",
      "inferframe_01243.png\n"
     ]
    },
    {
     "name": "stderr",
     "output_type": "stream",
     "text": [
      " 43%|████▎     | 1622/3741 [01:19<01:46, 19.97it/s]"
     ]
    },
    {
     "name": "stdout",
     "output_type": "stream",
     "text": [
      "inferframe_01907.png\n",
      "inferframe_03333.png\n",
      "inferframe_00838.png\n",
      "inferframe_03589.png\n"
     ]
    },
    {
     "name": "stderr",
     "output_type": "stream",
     "text": [
      " 43%|████▎     | 1625/3741 [01:19<01:45, 19.97it/s]"
     ]
    },
    {
     "name": "stdout",
     "output_type": "stream",
     "text": [
      "inferframe_00234.png\n",
      "inferframe_02889.png\n",
      "inferframe_02982.png\n",
      "inferframe_02334.png\n"
     ]
    },
    {
     "name": "stderr",
     "output_type": "stream",
     "text": [
      " 44%|████▎     | 1630/3741 [01:19<01:51, 18.97it/s]"
     ]
    },
    {
     "name": "stdout",
     "output_type": "stream",
     "text": [
      "inferframe_02197.png\n",
      "inferframe_00699.png\n",
      "inferframe_02286.png\n",
      "inferframe_00974.png\n"
     ]
    },
    {
     "name": "stderr",
     "output_type": "stream",
     "text": [
      " 44%|████▎     | 1634/3741 [01:20<01:49, 19.28it/s]"
     ]
    },
    {
     "name": "stdout",
     "output_type": "stream",
     "text": [
      "inferframe_03500.png\n",
      "inferframe_01331.png\n",
      "inferframe_01484.png\n",
      "inferframe_01429.png\n"
     ]
    },
    {
     "name": "stderr",
     "output_type": "stream",
     "text": [
      " 44%|████▍     | 1638/3741 [01:20<01:51, 18.82it/s]"
     ]
    },
    {
     "name": "stdout",
     "output_type": "stream",
     "text": [
      "inferframe_01925.png\n",
      "inferframe_02387.png\n",
      "inferframe_00007.png\n",
      "inferframe_01390.png\n"
     ]
    },
    {
     "name": "stderr",
     "output_type": "stream",
     "text": [
      " 44%|████▍     | 1643/3741 [01:20<01:52, 18.69it/s]"
     ]
    },
    {
     "name": "stdout",
     "output_type": "stream",
     "text": [
      "inferframe_03590.png\n",
      "inferframe_03525.png\n",
      "inferframe_01285.png\n",
      "inferframe_01473.png\n",
      "inferframe_02397.png\n"
     ]
    },
    {
     "name": "stderr",
     "output_type": "stream",
     "text": [
      " 44%|████▍     | 1648/3741 [01:20<01:48, 19.38it/s]"
     ]
    },
    {
     "name": "stdout",
     "output_type": "stream",
     "text": [
      "inferframe_00533.png\n",
      "inferframe_00689.png\n",
      "inferframe_01458.png\n",
      "inferframe_01171.png\n"
     ]
    },
    {
     "name": "stderr",
     "output_type": "stream",
     "text": [
      " 44%|████▍     | 1651/3741 [01:20<01:46, 19.55it/s]"
     ]
    },
    {
     "name": "stdout",
     "output_type": "stream",
     "text": [
      "inferframe_00748.png\n",
      "inferframe_00765.png\n",
      "inferframe_03446.png\n",
      "inferframe_02806.png\n",
      "inferframe_02175.png\n"
     ]
    },
    {
     "name": "stderr",
     "output_type": "stream",
     "text": [
      " 44%|████▍     | 1657/3741 [01:21<01:42, 20.41it/s]"
     ]
    },
    {
     "name": "stdout",
     "output_type": "stream",
     "text": [
      "inferframe_00118.png\n",
      "inferframe_03406.png\n",
      "inferframe_00493.png\n",
      "inferframe_00704.png\n"
     ]
    },
    {
     "name": "stderr",
     "output_type": "stream",
     "text": [
      " 44%|████▍     | 1660/3741 [01:21<01:44, 19.85it/s]"
     ]
    },
    {
     "name": "stdout",
     "output_type": "stream",
     "text": [
      "inferframe_03190.png\n",
      "inferframe_02205.png\n",
      "inferframe_00362.png\n",
      "inferframe_02232.png\n",
      "inferframe_02037.png\n"
     ]
    },
    {
     "name": "stderr",
     "output_type": "stream",
     "text": [
      " 45%|████▍     | 1666/3741 [01:21<01:44, 19.90it/s]"
     ]
    },
    {
     "name": "stdout",
     "output_type": "stream",
     "text": [
      "inferframe_01300.png\n",
      "inferframe_03332.png\n",
      "inferframe_01802.png\n",
      "inferframe_02443.png\n"
     ]
    },
    {
     "name": "stderr",
     "output_type": "stream",
     "text": [
      " 45%|████▍     | 1668/3741 [01:21<01:44, 19.90it/s]"
     ]
    },
    {
     "name": "stdout",
     "output_type": "stream",
     "text": [
      "inferframe_00851.png\n",
      "inferframe_02060.png\n",
      "inferframe_00088.png\n",
      "inferframe_00713.png\n"
     ]
    },
    {
     "name": "stderr",
     "output_type": "stream",
     "text": [
      " 45%|████▍     | 1674/3741 [01:22<01:44, 19.87it/s]"
     ]
    },
    {
     "name": "stdout",
     "output_type": "stream",
     "text": [
      "inferframe_02223.png\n",
      "inferframe_03569.png\n",
      "inferframe_01540.png\n",
      "inferframe_02482.png\n",
      "inferframe_02157.png\n"
     ]
    },
    {
     "name": "stderr",
     "output_type": "stream",
     "text": [
      " 45%|████▍     | 1680/3741 [01:22<01:39, 20.77it/s]"
     ]
    },
    {
     "name": "stdout",
     "output_type": "stream",
     "text": [
      "inferframe_00239.png\n",
      "inferframe_01225.png\n",
      "inferframe_00054.png\n",
      "inferframe_03580.png\n",
      "inferframe_02788.png\n"
     ]
    },
    {
     "name": "stderr",
     "output_type": "stream",
     "text": [
      " 45%|████▍     | 1683/3741 [01:22<01:40, 20.41it/s]"
     ]
    },
    {
     "name": "stdout",
     "output_type": "stream",
     "text": [
      "inferframe_02031.png\n",
      "inferframe_01900.png\n",
      "inferframe_01377.png\n",
      "inferframe_03172.png\n"
     ]
    },
    {
     "name": "stderr",
     "output_type": "stream",
     "text": [
      " 45%|████▌     | 1689/3741 [01:22<01:40, 20.32it/s]"
     ]
    },
    {
     "name": "stdout",
     "output_type": "stream",
     "text": [
      "inferframe_02764.png\n",
      "inferframe_01494.png\n",
      "inferframe_03165.png\n",
      "inferframe_01961.png\n",
      "inferframe_02091.png\n"
     ]
    },
    {
     "name": "stderr",
     "output_type": "stream",
     "text": [
      " 45%|████▌     | 1692/3741 [01:22<01:38, 20.70it/s]"
     ]
    },
    {
     "name": "stdout",
     "output_type": "stream",
     "text": [
      "inferframe_03441.png\n",
      "inferframe_03100.png\n",
      "inferframe_03267.png\n",
      "inferframe_03200.png\n",
      "inferframe_03308.png\n"
     ]
    },
    {
     "name": "stderr",
     "output_type": "stream",
     "text": [
      " 45%|████▌     | 1698/3741 [01:23<01:43, 19.77it/s]"
     ]
    },
    {
     "name": "stdout",
     "output_type": "stream",
     "text": [
      "inferframe_00633.png\n",
      "inferframe_00218.png\n",
      "inferframe_03426.png\n",
      "inferframe_03093.png\n"
     ]
    },
    {
     "name": "stderr",
     "output_type": "stream",
     "text": [
      " 45%|████▌     | 1702/3741 [01:23<01:43, 19.72it/s]"
     ]
    },
    {
     "name": "stdout",
     "output_type": "stream",
     "text": [
      "inferframe_01798.png\n",
      "inferframe_02178.png\n",
      "inferframe_01240.png\n",
      "inferframe_02833.png\n",
      "inferframe_03270.png\n"
     ]
    },
    {
     "name": "stderr",
     "output_type": "stream",
     "text": [
      " 46%|████▌     | 1707/3741 [01:23<01:40, 20.25it/s]"
     ]
    },
    {
     "name": "stdout",
     "output_type": "stream",
     "text": [
      "inferframe_00364.png\n",
      "inferframe_01810.png\n",
      "inferframe_02574.png\n",
      "inferframe_03329.png\n",
      "inferframe_00589.png\n"
     ]
    },
    {
     "name": "stderr",
     "output_type": "stream",
     "text": [
      " 46%|████▌     | 1713/3741 [01:24<01:35, 21.15it/s]"
     ]
    },
    {
     "name": "stdout",
     "output_type": "stream",
     "text": [
      "inferframe_02226.png\n",
      "inferframe_02634.png\n",
      "inferframe_02494.png\n",
      "inferframe_01120.png\n",
      "inferframe_01397.png\n"
     ]
    },
    {
     "name": "stderr",
     "output_type": "stream",
     "text": [
      " 46%|████▌     | 1716/3741 [01:24<01:39, 20.30it/s]"
     ]
    },
    {
     "name": "stdout",
     "output_type": "stream",
     "text": [
      "inferframe_01849.png\n",
      "inferframe_00844.png\n",
      "inferframe_01156.png\n",
      "inferframe_03484.png\n"
     ]
    },
    {
     "name": "stderr",
     "output_type": "stream",
     "text": [
      " 46%|████▌     | 1722/3741 [01:24<01:37, 20.70it/s]"
     ]
    },
    {
     "name": "stdout",
     "output_type": "stream",
     "text": [
      "inferframe_02385.png\n",
      "inferframe_02884.png\n",
      "inferframe_01128.png\n",
      "inferframe_00891.png\n",
      "inferframe_02713.png\n"
     ]
    },
    {
     "name": "stderr",
     "output_type": "stream",
     "text": [
      " 46%|████▌     | 1725/3741 [01:24<01:37, 20.64it/s]"
     ]
    },
    {
     "name": "stdout",
     "output_type": "stream",
     "text": [
      "inferframe_03674.png\n",
      "inferframe_03128.png\n",
      "inferframe_02453.png\n",
      "inferframe_00701.png\n",
      "inferframe_03540.png\n"
     ]
    },
    {
     "name": "stderr",
     "output_type": "stream",
     "text": [
      " 46%|████▋     | 1731/3741 [01:24<01:35, 21.12it/s]"
     ]
    },
    {
     "name": "stdout",
     "output_type": "stream",
     "text": [
      "inferframe_02473.png\n",
      "inferframe_00795.png\n",
      "inferframe_01797.png\n",
      "inferframe_00320.png\n",
      "inferframe_01053.png\n"
     ]
    },
    {
     "name": "stderr",
     "output_type": "stream",
     "text": [
      " 46%|████▋     | 1737/3741 [01:25<01:33, 21.52it/s]"
     ]
    },
    {
     "name": "stdout",
     "output_type": "stream",
     "text": [
      "inferframe_01260.png\n",
      "inferframe_01035.png\n",
      "inferframe_02436.png\n",
      "inferframe_02563.png\n",
      "inferframe_02729.png\n"
     ]
    },
    {
     "name": "stderr",
     "output_type": "stream",
     "text": [
      " 47%|████▋     | 1740/3741 [01:25<01:31, 21.96it/s]"
     ]
    },
    {
     "name": "stdout",
     "output_type": "stream",
     "text": [
      "inferframe_01566.png\n",
      "inferframe_01388.png\n",
      "inferframe_02126.png\n",
      "inferframe_02212.png\n",
      "inferframe_03031.png\n"
     ]
    },
    {
     "name": "stderr",
     "output_type": "stream",
     "text": [
      " 47%|████▋     | 1746/3741 [01:25<01:30, 22.01it/s]"
     ]
    },
    {
     "name": "stdout",
     "output_type": "stream",
     "text": [
      "inferframe_02115.png\n",
      "inferframe_02219.png\n",
      "inferframe_00359.png\n",
      "inferframe_01904.png\n",
      "inferframe_03428.png\n"
     ]
    },
    {
     "name": "stderr",
     "output_type": "stream",
     "text": [
      " 47%|████▋     | 1752/3741 [01:25<01:32, 21.56it/s]"
     ]
    },
    {
     "name": "stdout",
     "output_type": "stream",
     "text": [
      "inferframe_01314.png\n",
      "inferframe_01414.png\n",
      "inferframe_00867.png\n",
      "inferframe_03466.png\n",
      "inferframe_00932.png\n"
     ]
    },
    {
     "name": "stderr",
     "output_type": "stream",
     "text": [
      " 47%|████▋     | 1755/3741 [01:26<01:33, 21.15it/s]"
     ]
    },
    {
     "name": "stdout",
     "output_type": "stream",
     "text": [
      "inferframe_02539.png\n",
      "inferframe_03433.png\n",
      "inferframe_00828.png\n",
      "inferframe_00732.png\n",
      "inferframe_02228.png\n"
     ]
    },
    {
     "name": "stderr",
     "output_type": "stream",
     "text": [
      " 47%|████▋     | 1761/3741 [01:26<01:31, 21.64it/s]"
     ]
    },
    {
     "name": "stdout",
     "output_type": "stream",
     "text": [
      "inferframe_01129.png\n",
      "inferframe_02703.png\n",
      "inferframe_00769.png\n",
      "inferframe_02090.png\n",
      "inferframe_01244.png\n"
     ]
    },
    {
     "name": "stderr",
     "output_type": "stream",
     "text": [
      " 47%|████▋     | 1767/3741 [01:26<01:32, 21.40it/s]"
     ]
    },
    {
     "name": "stdout",
     "output_type": "stream",
     "text": [
      "inferframe_01500.png\n",
      "inferframe_03670.png\n",
      "inferframe_00915.png\n",
      "inferframe_03659.png\n",
      "inferframe_01364.png\n"
     ]
    },
    {
     "name": "stderr",
     "output_type": "stream",
     "text": [
      " 47%|████▋     | 1770/3741 [01:26<01:37, 20.13it/s]"
     ]
    },
    {
     "name": "stdout",
     "output_type": "stream",
     "text": [
      "inferframe_01176.png\n",
      "inferframe_02746.png\n",
      "inferframe_02196.png\n",
      "inferframe_01898.png\n"
     ]
    },
    {
     "name": "stderr",
     "output_type": "stream",
     "text": [
      " 47%|████▋     | 1776/3741 [01:27<01:36, 20.27it/s]"
     ]
    },
    {
     "name": "stdout",
     "output_type": "stream",
     "text": [
      "inferframe_03387.png\n",
      "inferframe_00312.png\n",
      "inferframe_01549.png\n",
      "inferframe_00753.png\n",
      "inferframe_03640.png\n"
     ]
    },
    {
     "name": "stderr",
     "output_type": "stream",
     "text": [
      " 48%|████▊     | 1779/3741 [01:27<01:35, 20.51it/s]"
     ]
    },
    {
     "name": "stdout",
     "output_type": "stream",
     "text": [
      "inferframe_02717.png\n",
      "inferframe_01929.png\n",
      "inferframe_01360.png\n",
      "inferframe_00617.png\n",
      "inferframe_00960.png\n"
     ]
    },
    {
     "name": "stderr",
     "output_type": "stream",
     "text": [
      " 48%|████▊     | 1785/3741 [01:27<01:36, 20.26it/s]"
     ]
    },
    {
     "name": "stdout",
     "output_type": "stream",
     "text": [
      "inferframe_00908.png\n",
      "inferframe_00371.png\n",
      "inferframe_01432.png\n",
      "inferframe_00547.png\n",
      "inferframe_00517.png\n"
     ]
    },
    {
     "name": "stderr",
     "output_type": "stream",
     "text": [
      " 48%|████▊     | 1788/3741 [01:27<01:32, 21.06it/s]"
     ]
    },
    {
     "name": "stdout",
     "output_type": "stream",
     "text": [
      "inferframe_01644.png\n",
      "inferframe_00668.png\n",
      "inferframe_02672.png\n",
      "inferframe_00509.png\n"
     ]
    },
    {
     "name": "stderr",
     "output_type": "stream",
     "text": [
      " 48%|████▊     | 1794/3741 [01:27<01:37, 19.99it/s]"
     ]
    },
    {
     "name": "stdout",
     "output_type": "stream",
     "text": [
      "inferframe_03184.png\n",
      "inferframe_00816.png\n",
      "inferframe_03359.png\n",
      "inferframe_00460.png\n",
      "inferframe_00457.png\n"
     ]
    },
    {
     "name": "stderr",
     "output_type": "stream",
     "text": [
      " 48%|████▊     | 1800/3741 [01:28<01:33, 20.84it/s]"
     ]
    },
    {
     "name": "stdout",
     "output_type": "stream",
     "text": [
      "inferframe_00529.png\n",
      "inferframe_02583.png\n",
      "inferframe_02626.png\n",
      "inferframe_02019.png\n",
      "inferframe_01501.png\n"
     ]
    },
    {
     "name": "stderr",
     "output_type": "stream",
     "text": [
      " 48%|████▊     | 1803/3741 [01:28<01:36, 20.15it/s]"
     ]
    },
    {
     "name": "stdout",
     "output_type": "stream",
     "text": [
      "inferframe_00627.png\n",
      "inferframe_03462.png\n",
      "inferframe_02593.png\n",
      "inferframe_03305.png\n"
     ]
    },
    {
     "name": "stderr",
     "output_type": "stream",
     "text": [
      " 48%|████▊     | 1809/3741 [01:28<01:36, 19.97it/s]"
     ]
    },
    {
     "name": "stdout",
     "output_type": "stream",
     "text": [
      "inferframe_01991.png\n",
      "inferframe_01648.png\n",
      "inferframe_01031.png\n",
      "inferframe_01028.png\n",
      "inferframe_02211.png\n"
     ]
    },
    {
     "name": "stderr",
     "output_type": "stream",
     "text": [
      " 48%|████▊     | 1812/3741 [01:28<01:34, 20.36it/s]"
     ]
    },
    {
     "name": "stdout",
     "output_type": "stream",
     "text": [
      "inferframe_00601.png\n",
      "inferframe_03315.png\n",
      "inferframe_01145.png\n",
      "inferframe_00069.png\n",
      "inferframe_02869.png\n"
     ]
    },
    {
     "name": "stderr",
     "output_type": "stream",
     "text": [
      " 49%|████▊     | 1818/3741 [01:29<01:35, 20.23it/s]"
     ]
    },
    {
     "name": "stdout",
     "output_type": "stream",
     "text": [
      "inferframe_01681.png\n",
      "inferframe_02033.png\n",
      "inferframe_02269.png\n",
      "inferframe_00622.png\n"
     ]
    },
    {
     "name": "stderr",
     "output_type": "stream",
     "text": [
      " 49%|████▊     | 1821/3741 [01:29<01:34, 20.30it/s]"
     ]
    },
    {
     "name": "stdout",
     "output_type": "stream",
     "text": [
      "inferframe_00494.png\n",
      "inferframe_01537.png\n",
      "inferframe_00076.png\n",
      "inferframe_00002.png\n"
     ]
    },
    {
     "name": "stderr",
     "output_type": "stream",
     "text": [
      " 49%|████▉     | 1827/3741 [01:29<01:39, 19.18it/s]"
     ]
    },
    {
     "name": "stdout",
     "output_type": "stream",
     "text": [
      "inferframe_02855.png\n",
      "inferframe_01651.png\n",
      "inferframe_03575.png\n",
      "inferframe_02240.png\n",
      "inferframe_01154.png\n"
     ]
    },
    {
     "name": "stderr",
     "output_type": "stream",
     "text": [
      " 49%|████▉     | 1831/3741 [01:29<01:43, 18.54it/s]"
     ]
    },
    {
     "name": "stdout",
     "output_type": "stream",
     "text": [
      "inferframe_03099.png\n",
      "inferframe_00678.png\n",
      "inferframe_01853.png\n",
      "inferframe_03495.png\n"
     ]
    },
    {
     "name": "stderr",
     "output_type": "stream",
     "text": [
      " 49%|████▉     | 1836/3741 [01:30<01:38, 19.39it/s]"
     ]
    },
    {
     "name": "stdout",
     "output_type": "stream",
     "text": [
      "inferframe_02312.png\n",
      "inferframe_02852.png\n",
      "inferframe_03276.png\n",
      "inferframe_01988.png\n",
      "inferframe_01298.png\n"
     ]
    },
    {
     "name": "stderr",
     "output_type": "stream",
     "text": [
      " 49%|████▉     | 1841/3741 [01:30<01:34, 20.09it/s]"
     ]
    },
    {
     "name": "stdout",
     "output_type": "stream",
     "text": [
      "inferframe_02844.png\n",
      "inferframe_02398.png\n",
      "inferframe_00479.png\n",
      "inferframe_02904.png\n",
      "inferframe_02137.png\n"
     ]
    },
    {
     "name": "stderr",
     "output_type": "stream",
     "text": [
      " 49%|████▉     | 1844/3741 [01:30<01:33, 20.27it/s]"
     ]
    },
    {
     "name": "stdout",
     "output_type": "stream",
     "text": [
      "inferframe_03060.png\n",
      "inferframe_03030.png\n",
      "inferframe_03542.png\n",
      "inferframe_00308.png\n",
      "inferframe_02651.png\n"
     ]
    },
    {
     "name": "stderr",
     "output_type": "stream",
     "text": [
      " 49%|████▉     | 1850/3741 [01:30<01:28, 21.40it/s]"
     ]
    },
    {
     "name": "stdout",
     "output_type": "stream",
     "text": [
      "inferframe_02562.png\n",
      "inferframe_00475.png\n",
      "inferframe_02017.png\n",
      "inferframe_00282.png\n",
      "inferframe_03377.png\n"
     ]
    },
    {
     "name": "stderr",
     "output_type": "stream",
     "text": [
      " 50%|████▉     | 1853/3741 [01:30<01:29, 21.20it/s]"
     ]
    },
    {
     "name": "stdout",
     "output_type": "stream",
     "text": [
      "inferframe_00791.png\n",
      "inferframe_02123.png\n",
      "inferframe_00777.png\n",
      "inferframe_03280.png\n"
     ]
    },
    {
     "name": "stderr",
     "output_type": "stream",
     "text": [
      " 50%|████▉     | 1859/3741 [01:31<01:32, 20.33it/s]"
     ]
    },
    {
     "name": "stdout",
     "output_type": "stream",
     "text": [
      "inferframe_01941.png\n",
      "inferframe_02481.png\n",
      "inferframe_01974.png\n",
      "inferframe_01885.png\n"
     ]
    },
    {
     "name": "stderr",
     "output_type": "stream",
     "text": [
      " 50%|████▉     | 1862/3741 [01:31<01:34, 19.88it/s]"
     ]
    },
    {
     "name": "stdout",
     "output_type": "stream",
     "text": [
      "inferframe_03298.png\n",
      "inferframe_02675.png\n",
      "inferframe_02704.png\n",
      "inferframe_02757.png\n"
     ]
    },
    {
     "name": "stderr",
     "output_type": "stream",
     "text": [
      " 50%|████▉     | 1866/3741 [01:31<01:37, 19.21it/s]"
     ]
    },
    {
     "name": "stdout",
     "output_type": "stream",
     "text": [
      "inferframe_01881.png\n",
      "inferframe_02592.png\n",
      "inferframe_02870.png\n",
      "inferframe_03134.png\n"
     ]
    },
    {
     "name": "stderr",
     "output_type": "stream",
     "text": [
      " 50%|████▉     | 1869/3741 [01:31<01:36, 19.48it/s]"
     ]
    },
    {
     "name": "stdout",
     "output_type": "stream",
     "text": [
      "inferframe_02034.png\n",
      "inferframe_01741.png\n",
      "inferframe_01602.png\n",
      "inferframe_01873.png\n"
     ]
    },
    {
     "name": "stderr",
     "output_type": "stream",
     "text": [
      " 50%|█████     | 1874/3741 [01:31<01:36, 19.45it/s]"
     ]
    },
    {
     "name": "stdout",
     "output_type": "stream",
     "text": [
      "inferframe_02119.png\n",
      "inferframe_01181.png\n",
      "inferframe_02854.png\n",
      "inferframe_02848.png\n"
     ]
    },
    {
     "name": "stderr",
     "output_type": "stream",
     "text": [
      " 50%|█████     | 1877/3741 [01:32<01:35, 19.59it/s]"
     ]
    },
    {
     "name": "stdout",
     "output_type": "stream",
     "text": [
      "inferframe_00936.png\n",
      "inferframe_02543.png\n",
      "inferframe_00618.png\n",
      "inferframe_01725.png\n"
     ]
    },
    {
     "name": "stderr",
     "output_type": "stream",
     "text": [
      " 50%|█████     | 1882/3741 [01:32<01:38, 18.87it/s]"
     ]
    },
    {
     "name": "stdout",
     "output_type": "stream",
     "text": [
      "inferframe_01777.png\n",
      "inferframe_00656.png\n",
      "inferframe_01869.png\n",
      "inferframe_02710.png\n"
     ]
    },
    {
     "name": "stderr",
     "output_type": "stream",
     "text": [
      " 50%|█████     | 1887/3741 [01:32<01:34, 19.56it/s]"
     ]
    },
    {
     "name": "stdout",
     "output_type": "stream",
     "text": [
      "inferframe_01265.png\n",
      "inferframe_00527.png\n",
      "inferframe_03003.png\n",
      "inferframe_01395.png\n",
      "inferframe_01909.png\n"
     ]
    },
    {
     "name": "stderr",
     "output_type": "stream",
     "text": [
      " 51%|█████     | 1892/3741 [01:32<01:32, 19.94it/s]"
     ]
    },
    {
     "name": "stdout",
     "output_type": "stream",
     "text": [
      "inferframe_03533.png\n",
      "inferframe_02805.png\n",
      "inferframe_01165.png\n",
      "inferframe_01083.png\n",
      "inferframe_03606.png\n"
     ]
    },
    {
     "name": "stderr",
     "output_type": "stream",
     "text": [
      " 51%|█████     | 1897/3741 [01:33<01:33, 19.70it/s]"
     ]
    },
    {
     "name": "stdout",
     "output_type": "stream",
     "text": [
      "inferframe_02986.png\n",
      "inferframe_03385.png\n",
      "inferframe_01637.png\n",
      "inferframe_00542.png\n"
     ]
    },
    {
     "name": "stderr",
     "output_type": "stream",
     "text": [
      " 51%|█████     | 1899/3741 [01:33<01:34, 19.55it/s]"
     ]
    },
    {
     "name": "stdout",
     "output_type": "stream",
     "text": [
      "inferframe_02658.png\n",
      "inferframe_00206.png\n",
      "inferframe_01514.png\n"
     ]
    },
    {
     "name": "stderr",
     "output_type": "stream",
     "text": [
      " 51%|█████     | 1904/3741 [01:33<01:39, 18.52it/s]"
     ]
    },
    {
     "name": "stdout",
     "output_type": "stream",
     "text": [
      "inferframe_00984.png\n",
      "inferframe_01400.png\n",
      "inferframe_01976.png\n",
      "inferframe_03545.png\n",
      "inferframe_00918.png\n"
     ]
    },
    {
     "name": "stderr",
     "output_type": "stream",
     "text": [
      " 51%|█████     | 1910/3741 [01:33<01:31, 19.95it/s]"
     ]
    },
    {
     "name": "stdout",
     "output_type": "stream",
     "text": [
      "inferframe_00057.png\n",
      "inferframe_00473.png\n",
      "inferframe_01455.png\n",
      "inferframe_02190.png\n",
      "inferframe_01185.png\n"
     ]
    },
    {
     "name": "stderr",
     "output_type": "stream",
     "text": [
      " 51%|█████     | 1914/3741 [01:34<01:35, 19.12it/s]"
     ]
    },
    {
     "name": "stdout",
     "output_type": "stream",
     "text": [
      "inferframe_03464.png\n",
      "inferframe_00899.png\n",
      "inferframe_01927.png\n",
      "inferframe_03323.png\n"
     ]
    },
    {
     "name": "stderr",
     "output_type": "stream",
     "text": [
      " 51%|█████     | 1917/3741 [01:34<01:34, 19.40it/s]"
     ]
    },
    {
     "name": "stdout",
     "output_type": "stream",
     "text": [
      "inferframe_00241.png\n",
      "inferframe_03362.png\n",
      "inferframe_01926.png\n",
      "inferframe_00274.png\n",
      "inferframe_03283.png\n"
     ]
    },
    {
     "name": "stderr",
     "output_type": "stream",
     "text": [
      " 51%|█████▏    | 1923/3741 [01:34<01:28, 20.45it/s]"
     ]
    },
    {
     "name": "stdout",
     "output_type": "stream",
     "text": [
      "inferframe_01418.png\n",
      "inferframe_03455.png\n",
      "inferframe_03162.png\n",
      "inferframe_00326.png\n",
      "inferframe_00220.png\n"
     ]
    },
    {
     "name": "stderr",
     "output_type": "stream",
     "text": [
      " 52%|█████▏    | 1929/3741 [01:34<01:29, 20.23it/s]"
     ]
    },
    {
     "name": "stdout",
     "output_type": "stream",
     "text": [
      "inferframe_01536.png\n",
      "inferframe_00848.png\n",
      "inferframe_02325.png\n",
      "inferframe_00077.png\n",
      "inferframe_00690.png\n"
     ]
    },
    {
     "name": "stderr",
     "output_type": "stream",
     "text": [
      " 52%|█████▏    | 1932/3741 [01:34<01:30, 19.97it/s]"
     ]
    },
    {
     "name": "stdout",
     "output_type": "stream",
     "text": [
      "inferframe_00086.png\n",
      "inferframe_00090.png\n",
      "inferframe_03374.png\n",
      "inferframe_03189.png\n",
      "inferframe_02301.png\n"
     ]
    },
    {
     "name": "stderr",
     "output_type": "stream",
     "text": [
      " 52%|█████▏    | 1938/3741 [01:35<01:27, 20.67it/s]"
     ]
    },
    {
     "name": "stdout",
     "output_type": "stream",
     "text": [
      "inferframe_01263.png\n",
      "inferframe_02936.png\n",
      "inferframe_02732.png\n",
      "inferframe_00870.png\n",
      "inferframe_03111.png\n"
     ]
    },
    {
     "name": "stderr",
     "output_type": "stream",
     "text": [
      " 52%|█████▏    | 1944/3741 [01:35<01:22, 21.69it/s]"
     ]
    },
    {
     "name": "stdout",
     "output_type": "stream",
     "text": [
      "inferframe_00424.png\n",
      "inferframe_00252.png\n",
      "inferframe_00868.png\n",
      "inferframe_00724.png\n",
      "inferframe_00170.png\n"
     ]
    },
    {
     "name": "stderr",
     "output_type": "stream",
     "text": [
      " 52%|█████▏    | 1947/3741 [01:35<01:23, 21.47it/s]"
     ]
    },
    {
     "name": "stdout",
     "output_type": "stream",
     "text": [
      "inferframe_00865.png\n",
      "inferframe_00755.png\n",
      "inferframe_02648.png\n",
      "inferframe_02248.png\n",
      "inferframe_03070.png\n"
     ]
    },
    {
     "name": "stderr",
     "output_type": "stream",
     "text": [
      " 52%|█████▏    | 1953/3741 [01:35<01:24, 21.17it/s]"
     ]
    },
    {
     "name": "stdout",
     "output_type": "stream",
     "text": [
      "inferframe_02912.png\n",
      "inferframe_00093.png\n",
      "inferframe_03583.png\n",
      "inferframe_00832.png\n",
      "inferframe_00358.png\n"
     ]
    },
    {
     "name": "stderr",
     "output_type": "stream",
     "text": [
      " 52%|█████▏    | 1956/3741 [01:36<01:26, 20.75it/s]"
     ]
    },
    {
     "name": "stdout",
     "output_type": "stream",
     "text": [
      "inferframe_00945.png\n",
      "inferframe_02947.png\n",
      "inferframe_03534.png\n",
      "inferframe_01847.png\n"
     ]
    },
    {
     "name": "stderr",
     "output_type": "stream",
     "text": [
      " 52%|█████▏    | 1962/3741 [01:36<01:27, 20.43it/s]"
     ]
    },
    {
     "name": "stdout",
     "output_type": "stream",
     "text": [
      "inferframe_00031.png\n",
      "inferframe_00411.png\n",
      "inferframe_03400.png\n",
      "inferframe_01518.png\n",
      "inferframe_01823.png\n"
     ]
    },
    {
     "name": "stderr",
     "output_type": "stream",
     "text": [
      " 53%|█████▎    | 1965/3741 [01:36<01:26, 20.48it/s]"
     ]
    },
    {
     "name": "stdout",
     "output_type": "stream",
     "text": [
      "inferframe_03177.png\n",
      "inferframe_01191.png\n",
      "inferframe_01292.png\n",
      "inferframe_02964.png\n"
     ]
    },
    {
     "name": "stderr",
     "output_type": "stream",
     "text": [
      " 53%|█████▎    | 1970/3741 [01:36<01:30, 19.59it/s]"
     ]
    },
    {
     "name": "stdout",
     "output_type": "stream",
     "text": [
      "inferframe_02779.png\n",
      "inferframe_03588.png\n",
      "inferframe_01653.png\n",
      "inferframe_00841.png\n"
     ]
    },
    {
     "name": "stderr",
     "output_type": "stream",
     "text": [
      " 53%|█████▎    | 1976/3741 [01:37<01:25, 20.53it/s]"
     ]
    },
    {
     "name": "stdout",
     "output_type": "stream",
     "text": [
      "inferframe_00676.png\n",
      "inferframe_02405.png\n",
      "inferframe_00687.png\n",
      "inferframe_03126.png\n",
      "inferframe_03009.png\n"
     ]
    },
    {
     "name": "stderr",
     "output_type": "stream",
     "text": [
      " 53%|█████▎    | 1979/3741 [01:37<01:25, 20.55it/s]"
     ]
    },
    {
     "name": "stdout",
     "output_type": "stream",
     "text": [
      "inferframe_01130.png\n",
      "inferframe_03023.png\n",
      "inferframe_02646.png\n",
      "inferframe_02963.png\n",
      "inferframe_02241.png\n"
     ]
    },
    {
     "name": "stderr",
     "output_type": "stream",
     "text": [
      " 53%|█████▎    | 1985/3741 [01:37<01:24, 20.67it/s]"
     ]
    },
    {
     "name": "stdout",
     "output_type": "stream",
     "text": [
      "inferframe_00416.png\n",
      "inferframe_02317.png\n",
      "inferframe_00800.png\n",
      "inferframe_02350.png\n",
      "inferframe_00357.png\n"
     ]
    },
    {
     "name": "stderr",
     "output_type": "stream",
     "text": [
      " 53%|█████▎    | 1991/3741 [01:37<01:24, 20.76it/s]"
     ]
    },
    {
     "name": "stdout",
     "output_type": "stream",
     "text": [
      "inferframe_01025.png\n",
      "inferframe_03726.png\n",
      "inferframe_00756.png\n",
      "inferframe_03327.png\n",
      "inferframe_03688.png\n"
     ]
    },
    {
     "name": "stderr",
     "output_type": "stream",
     "text": [
      " 53%|█████▎    | 1994/3741 [01:37<01:29, 19.42it/s]"
     ]
    },
    {
     "name": "stdout",
     "output_type": "stream",
     "text": [
      "inferframe_02726.png\n",
      "inferframe_01716.png\n",
      "inferframe_02790.png\n",
      "inferframe_02810.png\n"
     ]
    },
    {
     "name": "stderr",
     "output_type": "stream",
     "text": [
      " 53%|█████▎    | 1999/3741 [01:38<01:27, 20.02it/s]"
     ]
    },
    {
     "name": "stdout",
     "output_type": "stream",
     "text": [
      "inferframe_00733.png\n",
      "inferframe_01372.png\n",
      "inferframe_01399.png\n",
      "inferframe_00976.png\n",
      "inferframe_03179.png\n"
     ]
    },
    {
     "name": "stderr",
     "output_type": "stream",
     "text": [
      " 54%|█████▎    | 2005/3741 [01:38<01:26, 20.06it/s]"
     ]
    },
    {
     "name": "stdout",
     "output_type": "stream",
     "text": [
      "inferframe_01836.png\n",
      "inferframe_02345.png\n",
      "inferframe_01705.png\n",
      "inferframe_02464.png\n",
      "inferframe_03202.png\n"
     ]
    },
    {
     "name": "stderr",
     "output_type": "stream",
     "text": [
      " 54%|█████▎    | 2008/3741 [01:38<01:27, 19.75it/s]"
     ]
    },
    {
     "name": "stdout",
     "output_type": "stream",
     "text": [
      "inferframe_01242.png\n",
      "inferframe_01783.png\n",
      "inferframe_01997.png\n",
      "inferframe_03658.png\n",
      "inferframe_02635.png\n"
     ]
    },
    {
     "name": "stderr",
     "output_type": "stream",
     "text": [
      " 54%|█████▍    | 2014/3741 [01:38<01:23, 20.60it/s]"
     ]
    },
    {
     "name": "stdout",
     "output_type": "stream",
     "text": [
      "inferframe_03316.png\n",
      "inferframe_01308.png\n",
      "inferframe_01662.png\n",
      "inferframe_03146.png\n",
      "inferframe_00951.png\n"
     ]
    },
    {
     "name": "stderr",
     "output_type": "stream",
     "text": [
      " 54%|█████▍    | 2020/3741 [01:39<01:21, 21.24it/s]"
     ]
    },
    {
     "name": "stdout",
     "output_type": "stream",
     "text": [
      "inferframe_00490.png\n",
      "inferframe_03682.png\n",
      "inferframe_03048.png\n",
      "inferframe_03655.png\n",
      "inferframe_01585.png\n"
     ]
    },
    {
     "name": "stderr",
     "output_type": "stream",
     "text": [
      " 54%|█████▍    | 2023/3741 [01:39<01:21, 21.12it/s]"
     ]
    },
    {
     "name": "stdout",
     "output_type": "stream",
     "text": [
      "inferframe_02969.png\n",
      "inferframe_00817.png\n",
      "inferframe_01324.png\n",
      "inferframe_00248.png\n",
      "inferframe_02150.png\n"
     ]
    },
    {
     "name": "stderr",
     "output_type": "stream",
     "text": [
      " 54%|█████▍    | 2029/3741 [01:39<01:22, 20.88it/s]"
     ]
    },
    {
     "name": "stdout",
     "output_type": "stream",
     "text": [
      "inferframe_00330.png\n",
      "inferframe_03713.png\n",
      "inferframe_00677.png\n",
      "inferframe_03491.png\n"
     ]
    },
    {
     "name": "stderr",
     "output_type": "stream",
     "text": [
      " 54%|█████▍    | 2032/3741 [01:39<01:20, 21.27it/s]"
     ]
    },
    {
     "name": "stdout",
     "output_type": "stream",
     "text": [
      "inferframe_02416.png\n",
      "inferframe_01413.png\n",
      "inferframe_01693.png\n",
      "inferframe_00928.png\n",
      "inferframe_02315.png\n"
     ]
    },
    {
     "name": "stderr",
     "output_type": "stream",
     "text": [
      " 54%|█████▍    | 2038/3741 [01:40<01:21, 20.99it/s]"
     ]
    },
    {
     "name": "stdout",
     "output_type": "stream",
     "text": [
      "inferframe_00303.png\n",
      "inferframe_00072.png\n",
      "inferframe_00410.png\n",
      "inferframe_00296.png\n",
      "inferframe_02332.png\n"
     ]
    },
    {
     "name": "stderr",
     "output_type": "stream",
     "text": [
      " 55%|█████▍    | 2044/3741 [01:40<01:22, 20.59it/s]"
     ]
    },
    {
     "name": "stdout",
     "output_type": "stream",
     "text": [
      "inferframe_03549.png\n",
      "inferframe_00578.png\n",
      "inferframe_00991.png\n",
      "inferframe_02085.png\n",
      "inferframe_03225.png\n"
     ]
    },
    {
     "name": "stderr",
     "output_type": "stream",
     "text": [
      " 55%|█████▍    | 2047/3741 [01:40<01:22, 20.56it/s]"
     ]
    },
    {
     "name": "stdout",
     "output_type": "stream",
     "text": [
      "inferframe_02383.png\n",
      "inferframe_02166.png\n",
      "inferframe_02573.png\n",
      "inferframe_00361.png\n",
      "inferframe_01424.png\n"
     ]
    },
    {
     "name": "stderr",
     "output_type": "stream",
     "text": [
      " 55%|█████▍    | 2053/3741 [01:40<01:20, 20.98it/s]"
     ]
    },
    {
     "name": "stdout",
     "output_type": "stream",
     "text": [
      "inferframe_01425.png\n",
      "inferframe_01807.png\n",
      "inferframe_01598.png\n",
      "inferframe_02122.png\n",
      "inferframe_03330.png\n"
     ]
    },
    {
     "name": "stderr",
     "output_type": "stream",
     "text": [
      " 55%|█████▌    | 2059/3741 [01:41<01:20, 20.86it/s]"
     ]
    },
    {
     "name": "stdout",
     "output_type": "stream",
     "text": [
      "inferframe_02977.png\n",
      "inferframe_01691.png\n",
      "inferframe_02422.png\n",
      "inferframe_00289.png\n",
      "inferframe_03712.png\n"
     ]
    },
    {
     "name": "stderr",
     "output_type": "stream",
     "text": [
      " 55%|█████▌    | 2062/3741 [01:41<01:22, 20.31it/s]"
     ]
    },
    {
     "name": "stdout",
     "output_type": "stream",
     "text": [
      "inferframe_01294.png\n",
      "inferframe_00845.png\n",
      "inferframe_02264.png\n",
      "inferframe_02276.png\n",
      "inferframe_01952.png\n"
     ]
    },
    {
     "name": "stderr",
     "output_type": "stream",
     "text": [
      " 55%|█████▌    | 2068/3741 [01:41<01:24, 19.79it/s]"
     ]
    },
    {
     "name": "stdout",
     "output_type": "stream",
     "text": [
      "inferframe_01888.png\n",
      "inferframe_03552.png\n",
      "inferframe_00226.png\n",
      "inferframe_03187.png\n"
     ]
    },
    {
     "name": "stderr",
     "output_type": "stream",
     "text": [
      " 55%|█████▌    | 2073/3741 [01:41<01:21, 20.38it/s]"
     ]
    },
    {
     "name": "stdout",
     "output_type": "stream",
     "text": [
      "inferframe_01503.png\n",
      "inferframe_02888.png\n",
      "inferframe_02491.png\n",
      "inferframe_02707.png\n",
      "inferframe_02463.png\n"
     ]
    },
    {
     "name": "stderr",
     "output_type": "stream",
     "text": [
      " 55%|█████▌    | 2076/3741 [01:41<01:18, 21.11it/s]"
     ]
    },
    {
     "name": "stdout",
     "output_type": "stream",
     "text": [
      "inferframe_00379.png\n",
      "inferframe_00188.png\n",
      "inferframe_02164.png\n",
      "inferframe_03516.png\n",
      "inferframe_02980.png\n"
     ]
    },
    {
     "name": "stderr",
     "output_type": "stream",
     "text": [
      " 56%|█████▌    | 2082/3741 [01:42<01:18, 21.16it/s]"
     ]
    },
    {
     "name": "stdout",
     "output_type": "stream",
     "text": [
      "inferframe_00708.png\n",
      "inferframe_01519.png\n",
      "inferframe_00531.png\n",
      "inferframe_00103.png\n",
      "inferframe_00988.png\n"
     ]
    },
    {
     "name": "stderr",
     "output_type": "stream",
     "text": [
      " 56%|█████▌    | 2088/3741 [01:42<01:15, 22.01it/s]"
     ]
    },
    {
     "name": "stdout",
     "output_type": "stream",
     "text": [
      "inferframe_03338.png\n",
      "inferframe_00112.png\n",
      "inferframe_02763.png\n",
      "inferframe_03676.png\n",
      "inferframe_00092.png\n"
     ]
    },
    {
     "name": "stderr",
     "output_type": "stream",
     "text": [
      " 56%|█████▌    | 2091/3741 [01:42<01:12, 22.67it/s]"
     ]
    },
    {
     "name": "stdout",
     "output_type": "stream",
     "text": [
      "inferframe_00514.png\n",
      "inferframe_02056.png\n",
      "inferframe_00862.png\n",
      "inferframe_03045.png\n",
      "inferframe_03642.png\n"
     ]
    },
    {
     "name": "stderr",
     "output_type": "stream",
     "text": [
      " 56%|█████▌    | 2097/3741 [01:42<01:11, 22.95it/s]"
     ]
    },
    {
     "name": "stdout",
     "output_type": "stream",
     "text": [
      "inferframe_02498.png\n",
      "inferframe_01091.png\n",
      "inferframe_01630.png\n",
      "inferframe_01940.png\n",
      "inferframe_00269.png\n"
     ]
    },
    {
     "name": "stderr",
     "output_type": "stream",
     "text": [
      " 56%|█████▌    | 2103/3741 [01:43<01:13, 22.40it/s]"
     ]
    },
    {
     "name": "stdout",
     "output_type": "stream",
     "text": [
      "inferframe_02671.png\n",
      "inferframe_01153.png\n",
      "inferframe_01224.png\n",
      "inferframe_01615.png\n",
      "inferframe_01159.png\n"
     ]
    },
    {
     "name": "stderr",
     "output_type": "stream",
     "text": [
      " 56%|█████▋    | 2106/3741 [01:43<01:14, 21.97it/s]"
     ]
    },
    {
     "name": "stdout",
     "output_type": "stream",
     "text": [
      "inferframe_03212.png\n",
      "inferframe_02375.png\n",
      "inferframe_03445.png\n",
      "inferframe_01770.png\n",
      "inferframe_01063.png\n"
     ]
    },
    {
     "name": "stderr",
     "output_type": "stream",
     "text": [
      " 56%|█████▋    | 2112/3741 [01:43<01:16, 21.43it/s]"
     ]
    },
    {
     "name": "stdout",
     "output_type": "stream",
     "text": [
      "inferframe_00825.png\n",
      "inferframe_00334.png\n",
      "inferframe_03416.png\n",
      "inferframe_02557.png\n",
      "inferframe_03326.png\n"
     ]
    },
    {
     "name": "stderr",
     "output_type": "stream",
     "text": [
      " 57%|█████▋    | 2118/3741 [01:43<01:13, 22.22it/s]"
     ]
    },
    {
     "name": "stdout",
     "output_type": "stream",
     "text": [
      "inferframe_00436.png\n",
      "inferframe_01799.png\n",
      "inferframe_00265.png\n",
      "inferframe_01591.png\n",
      "inferframe_01800.png\n"
     ]
    },
    {
     "name": "stderr",
     "output_type": "stream",
     "text": [
      " 57%|█████▋    | 2121/3741 [01:43<01:14, 21.69it/s]"
     ]
    },
    {
     "name": "stdout",
     "output_type": "stream",
     "text": [
      "inferframe_02262.png\n",
      "inferframe_02754.png\n",
      "inferframe_03186.png\n",
      "inferframe_02114.png\n",
      "inferframe_02088.png\n"
     ]
    },
    {
     "name": "stderr",
     "output_type": "stream",
     "text": [
      " 57%|█████▋    | 2127/3741 [01:44<01:17, 20.89it/s]"
     ]
    },
    {
     "name": "stdout",
     "output_type": "stream",
     "text": [
      "inferframe_02630.png\n",
      "inferframe_03170.png\n",
      "inferframe_00048.png\n",
      "inferframe_01857.png\n"
     ]
    },
    {
     "name": "stderr",
     "output_type": "stream",
     "text": [
      " 57%|█████▋    | 2130/3741 [01:44<01:17, 20.85it/s]"
     ]
    },
    {
     "name": "stdout",
     "output_type": "stream",
     "text": [
      "inferframe_01018.png\n",
      "inferframe_01219.png\n",
      "inferframe_03646.png\n",
      "inferframe_03144.png\n",
      "inferframe_02526.png\n"
     ]
    },
    {
     "name": "stderr",
     "output_type": "stream",
     "text": [
      " 57%|█████▋    | 2136/3741 [01:44<01:17, 20.83it/s]"
     ]
    },
    {
     "name": "stdout",
     "output_type": "stream",
     "text": [
      "inferframe_01708.png\n",
      "inferframe_02323.png\n",
      "inferframe_01387.png\n",
      "inferframe_01498.png\n"
     ]
    },
    {
     "name": "stderr",
     "output_type": "stream",
     "text": [
      " 57%|█████▋    | 2139/3741 [01:44<01:16, 20.84it/s]"
     ]
    },
    {
     "name": "stdout",
     "output_type": "stream",
     "text": [
      "inferframe_01696.png\n",
      "inferframe_00300.png\n",
      "inferframe_00728.png\n",
      "inferframe_01623.png\n",
      "inferframe_02895.png\n"
     ]
    },
    {
     "name": "stderr",
     "output_type": "stream",
     "text": [
      " 57%|█████▋    | 2145/3741 [01:45<01:16, 20.83it/s]"
     ]
    },
    {
     "name": "stdout",
     "output_type": "stream",
     "text": [
      "inferframe_00539.png\n",
      "inferframe_01365.png\n",
      "inferframe_01339.png\n",
      "inferframe_03417.png\n"
     ]
    },
    {
     "name": "stderr",
     "output_type": "stream",
     "text": [
      " 57%|█████▋    | 2148/3741 [01:45<01:19, 20.11it/s]"
     ]
    },
    {
     "name": "stdout",
     "output_type": "stream",
     "text": [
      "inferframe_01201.png\n",
      "inferframe_03393.png\n",
      "inferframe_00209.png\n",
      "inferframe_02379.png\n"
     ]
    },
    {
     "name": "stderr",
     "output_type": "stream",
     "text": [
      " 58%|█████▊    | 2154/3741 [01:45<01:21, 19.54it/s]"
     ]
    },
    {
     "name": "stdout",
     "output_type": "stream",
     "text": [
      "inferframe_00314.png\n",
      "inferframe_03220.png\n",
      "inferframe_01367.png\n",
      "inferframe_02822.png\n",
      "inferframe_01715.png\n"
     ]
    },
    {
     "name": "stderr",
     "output_type": "stream",
     "text": [
      " 58%|█████▊    | 2159/3741 [01:45<01:22, 19.14it/s]"
     ]
    },
    {
     "name": "stdout",
     "output_type": "stream",
     "text": [
      "inferframe_03586.png\n",
      "inferframe_01193.png\n",
      "inferframe_02120.png\n",
      "inferframe_00350.png\n",
      "inferframe_00711.png\n"
     ]
    },
    {
     "name": "stderr",
     "output_type": "stream",
     "text": [
      " 58%|█████▊    | 2164/3741 [01:46<01:19, 19.96it/s]"
     ]
    },
    {
     "name": "stdout",
     "output_type": "stream",
     "text": [
      "inferframe_01162.png\n",
      "inferframe_02508.png\n",
      "inferframe_00381.png\n",
      "inferframe_02348.png\n",
      "inferframe_02281.png\n"
     ]
    },
    {
     "name": "stderr",
     "output_type": "stream",
     "text": [
      " 58%|█████▊    | 2168/3741 [01:46<01:19, 19.89it/s]"
     ]
    },
    {
     "name": "stdout",
     "output_type": "stream",
     "text": [
      "inferframe_01332.png\n",
      "inferframe_00189.png\n",
      "inferframe_03222.png\n",
      "inferframe_02032.png\n"
     ]
    },
    {
     "name": "stderr",
     "output_type": "stream",
     "text": [
      " 58%|█████▊    | 2171/3741 [01:46<01:17, 20.22it/s]"
     ]
    },
    {
     "name": "stdout",
     "output_type": "stream",
     "text": [
      "inferframe_02209.png\n",
      "inferframe_01831.png\n",
      "inferframe_00907.png\n",
      "inferframe_01635.png\n",
      "inferframe_01281.png\n"
     ]
    },
    {
     "name": "stderr",
     "output_type": "stream",
     "text": [
      " 58%|█████▊    | 2177/3741 [01:46<01:17, 20.27it/s]"
     ]
    },
    {
     "name": "stdout",
     "output_type": "stream",
     "text": [
      "inferframe_03258.png\n",
      "inferframe_02678.png\n",
      "inferframe_03454.png\n",
      "inferframe_02140.png\n",
      "inferframe_01551.png\n"
     ]
    },
    {
     "name": "stderr",
     "output_type": "stream",
     "text": [
      " 58%|█████▊    | 2183/3741 [01:47<01:15, 20.60it/s]"
     ]
    },
    {
     "name": "stdout",
     "output_type": "stream",
     "text": [
      "inferframe_01665.png\n",
      "inferframe_01391.png\n",
      "inferframe_01838.png\n",
      "inferframe_00505.png\n",
      "inferframe_00794.png\n"
     ]
    },
    {
     "name": "stderr",
     "output_type": "stream",
     "text": [
      " 58%|█████▊    | 2186/3741 [01:47<01:14, 20.89it/s]"
     ]
    },
    {
     "name": "stdout",
     "output_type": "stream",
     "text": [
      "inferframe_00309.png\n",
      "inferframe_02109.png\n",
      "inferframe_01964.png\n",
      "inferframe_01528.png\n",
      "inferframe_00351.png\n"
     ]
    },
    {
     "name": "stderr",
     "output_type": "stream",
     "text": [
      " 59%|█████▊    | 2192/3741 [01:47<01:14, 20.91it/s]"
     ]
    },
    {
     "name": "stdout",
     "output_type": "stream",
     "text": [
      "inferframe_00024.png\n",
      "inferframe_02686.png\n",
      "inferframe_00929.png\n",
      "inferframe_03599.png\n",
      "inferframe_02095.png\n"
     ]
    },
    {
     "name": "stderr",
     "output_type": "stream",
     "text": [
      " 59%|█████▊    | 2195/3741 [01:47<01:13, 21.15it/s]"
     ]
    },
    {
     "name": "stdout",
     "output_type": "stream",
     "text": [
      "inferframe_02362.png\n",
      "inferframe_00599.png\n",
      "inferframe_00073.png\n",
      "inferframe_02856.png\n"
     ]
    },
    {
     "name": "stderr",
     "output_type": "stream",
     "text": [
      " 59%|█████▉    | 2201/3741 [01:47<01:16, 20.05it/s]"
     ]
    },
    {
     "name": "stdout",
     "output_type": "stream",
     "text": [
      "inferframe_01296.png\n",
      "inferframe_02356.png\n",
      "inferframe_01882.png\n",
      "inferframe_03226.png\n"
     ]
    },
    {
     "name": "stderr",
     "output_type": "stream",
     "text": [
      " 59%|█████▉    | 2204/3741 [01:48<01:15, 20.25it/s]"
     ]
    },
    {
     "name": "stdout",
     "output_type": "stream",
     "text": [
      "inferframe_00588.png\n",
      "inferframe_02699.png\n",
      "inferframe_02446.png\n",
      "inferframe_00315.png\n",
      "inferframe_03647.png\n"
     ]
    },
    {
     "name": "stderr",
     "output_type": "stream",
     "text": [
      " 59%|█████▉    | 2210/3741 [01:48<01:12, 20.98it/s]"
     ]
    },
    {
     "name": "stdout",
     "output_type": "stream",
     "text": [
      "inferframe_02104.png\n",
      "inferframe_00366.png\n",
      "inferframe_01811.png\n",
      "inferframe_00440.png\n",
      "inferframe_00439.png\n"
     ]
    },
    {
     "name": "stderr",
     "output_type": "stream",
     "text": [
      " 59%|█████▉    | 2213/3741 [01:48<01:11, 21.36it/s]"
     ]
    },
    {
     "name": "stdout",
     "output_type": "stream",
     "text": [
      "inferframe_03358.png\n",
      "inferframe_02958.png\n",
      "inferframe_00693.png\n",
      "inferframe_01512.png\n"
     ]
    },
    {
     "name": "stderr",
     "output_type": "stream",
     "text": [
      " 59%|█████▉    | 2219/3741 [01:48<01:14, 20.40it/s]"
     ]
    },
    {
     "name": "stdout",
     "output_type": "stream",
     "text": [
      "inferframe_02824.png\n",
      "inferframe_02352.png\n",
      "inferframe_02637.png\n",
      "inferframe_03431.png\n",
      "inferframe_03641.png\n"
     ]
    },
    {
     "name": "stderr",
     "output_type": "stream",
     "text": [
      " 59%|█████▉    | 2225/3741 [01:49<01:14, 20.36it/s]"
     ]
    },
    {
     "name": "stdout",
     "output_type": "stream",
     "text": [
      "inferframe_01141.png\n",
      "inferframe_03300.png\n",
      "inferframe_01657.png\n",
      "inferframe_01753.png\n"
     ]
    },
    {
     "name": "stderr",
     "output_type": "stream",
     "text": [
      " 60%|█████▉    | 2228/3741 [01:49<01:13, 20.53it/s]"
     ]
    },
    {
     "name": "stdout",
     "output_type": "stream",
     "text": [
      "inferframe_00043.png\n",
      "inferframe_01411.png\n",
      "inferframe_01698.png\n",
      "inferframe_01707.png\n",
      "inferframe_01027.png\n"
     ]
    },
    {
     "name": "stderr",
     "output_type": "stream",
     "text": [
      " 60%|█████▉    | 2234/3741 [01:49<01:14, 20.12it/s]"
     ]
    },
    {
     "name": "stdout",
     "output_type": "stream",
     "text": [
      "inferframe_02220.png\n",
      "inferframe_02351.png\n",
      "inferframe_03013.png\n",
      "inferframe_00813.png\n",
      "inferframe_00134.png\n"
     ]
    },
    {
     "name": "stderr",
     "output_type": "stream",
     "text": [
      " 60%|█████▉    | 2237/3741 [01:49<01:13, 20.34it/s]"
     ]
    },
    {
     "name": "stdout",
     "output_type": "stream",
     "text": [
      "inferframe_01495.png\n",
      "inferframe_03349.png\n",
      "inferframe_02391.png\n",
      "inferframe_02836.png\n",
      "inferframe_00840.png\n"
     ]
    },
    {
     "name": "stderr",
     "output_type": "stream",
     "text": [
      " 60%|█████▉    | 2243/3741 [01:49<01:12, 20.72it/s]"
     ]
    },
    {
     "name": "stdout",
     "output_type": "stream",
     "text": [
      "inferframe_02837.png\n",
      "inferframe_00299.png\n",
      "inferframe_02047.png\n",
      "inferframe_02258.png\n",
      "inferframe_01526.png\n"
     ]
    },
    {
     "name": "stderr",
     "output_type": "stream",
     "text": [
      " 60%|██████    | 2249/3741 [01:50<01:10, 21.03it/s]"
     ]
    },
    {
     "name": "stdout",
     "output_type": "stream",
     "text": [
      "inferframe_02068.png\n",
      "inferframe_01008.png\n",
      "inferframe_00592.png\n",
      "inferframe_00387.png\n",
      "inferframe_02955.png\n"
     ]
    },
    {
     "name": "stderr",
     "output_type": "stream",
     "text": [
      " 60%|██████    | 2252/3741 [01:50<01:13, 20.23it/s]"
     ]
    },
    {
     "name": "stdout",
     "output_type": "stream",
     "text": [
      "inferframe_02237.png\n",
      "inferframe_03101.png\n",
      "inferframe_02188.png\n",
      "inferframe_03138.png\n",
      "inferframe_02550.png\n"
     ]
    },
    {
     "name": "stderr",
     "output_type": "stream",
     "text": [
      " 60%|██████    | 2258/3741 [01:50<01:11, 20.84it/s]"
     ]
    },
    {
     "name": "stdout",
     "output_type": "stream",
     "text": [
      "inferframe_02333.png\n",
      "inferframe_03705.png\n",
      "inferframe_01655.png\n",
      "inferframe_01002.png\n",
      "inferframe_01666.png\n"
     ]
    },
    {
     "name": "stderr",
     "output_type": "stream",
     "text": [
      " 61%|██████    | 2264/3741 [01:50<01:12, 20.26it/s]"
     ]
    },
    {
     "name": "stdout",
     "output_type": "stream",
     "text": [
      "inferframe_02061.png\n",
      "inferframe_01248.png\n",
      "inferframe_01711.png\n",
      "inferframe_00958.png\n",
      "inferframe_01570.png\n"
     ]
    },
    {
     "name": "stderr",
     "output_type": "stream",
     "text": [
      " 61%|██████    | 2267/3741 [01:51<01:12, 20.46it/s]"
     ]
    },
    {
     "name": "stdout",
     "output_type": "stream",
     "text": [
      "inferframe_00796.png\n",
      "inferframe_00948.png\n",
      "inferframe_00629.png\n",
      "inferframe_01209.png\n"
     ]
    },
    {
     "name": "stderr",
     "output_type": "stream",
     "text": [
      " 61%|██████    | 2273/3741 [01:51<01:13, 19.94it/s]"
     ]
    },
    {
     "name": "stdout",
     "output_type": "stream",
     "text": [
      "inferframe_00058.png\n",
      "inferframe_01105.png\n",
      "inferframe_03166.png\n",
      "inferframe_01217.png\n",
      "inferframe_03371.png\n"
     ]
    },
    {
     "name": "stderr",
     "output_type": "stream",
     "text": [
      " 61%|██████    | 2276/3741 [01:51<01:14, 19.66it/s]"
     ]
    },
    {
     "name": "stdout",
     "output_type": "stream",
     "text": [
      "inferframe_00636.png\n",
      "inferframe_00966.png\n",
      "inferframe_00025.png\n",
      "inferframe_02429.png\n"
     ]
    },
    {
     "name": "stderr",
     "output_type": "stream",
     "text": [
      " 61%|██████    | 2282/3741 [01:51<01:11, 20.43it/s]"
     ]
    },
    {
     "name": "stdout",
     "output_type": "stream",
     "text": [
      "inferframe_03650.png\n",
      "inferframe_00470.png\n",
      "inferframe_00923.png\n",
      "inferframe_02607.png\n",
      "inferframe_02300.png\n"
     ]
    },
    {
     "name": "stderr",
     "output_type": "stream",
     "text": [
      " 61%|██████    | 2285/3741 [01:51<01:12, 20.17it/s]"
     ]
    },
    {
     "name": "stdout",
     "output_type": "stream",
     "text": [
      "inferframe_01552.png\n",
      "inferframe_03105.png\n",
      "inferframe_01067.png\n",
      "inferframe_03570.png\n"
     ]
    },
    {
     "name": "stderr",
     "output_type": "stream",
     "text": [
      " 61%|██████    | 2291/3741 [01:52<01:10, 20.67it/s]"
     ]
    },
    {
     "name": "stdout",
     "output_type": "stream",
     "text": [
      "inferframe_03067.png\n",
      "inferframe_00441.png\n",
      "inferframe_02816.png\n",
      "inferframe_02194.png\n",
      "inferframe_02875.png\n"
     ]
    },
    {
     "name": "stderr",
     "output_type": "stream",
     "text": [
      " 61%|██████▏   | 2294/3741 [01:52<01:09, 20.68it/s]"
     ]
    },
    {
     "name": "stdout",
     "output_type": "stream",
     "text": [
      "inferframe_01466.png\n",
      "inferframe_01499.png\n",
      "inferframe_01843.png\n",
      "inferframe_00577.png\n"
     ]
    },
    {
     "name": "stderr",
     "output_type": "stream",
     "text": [
      " 61%|██████▏   | 2299/3741 [01:52<01:13, 19.63it/s]"
     ]
    },
    {
     "name": "stdout",
     "output_type": "stream",
     "text": [
      "inferframe_02316.png\n",
      "inferframe_01188.png\n",
      "inferframe_02760.png\n",
      "inferframe_01884.png\n"
     ]
    },
    {
     "name": "stderr",
     "output_type": "stream",
     "text": [
      " 62%|██████▏   | 2302/3741 [01:52<01:11, 20.01it/s]"
     ]
    },
    {
     "name": "stdout",
     "output_type": "stream",
     "text": [
      "inferframe_02525.png\n",
      "inferframe_01374.png\n",
      "inferframe_03136.png\n",
      "inferframe_02970.png\n",
      "inferframe_01969.png\n"
     ]
    },
    {
     "name": "stderr",
     "output_type": "stream",
     "text": [
      " 62%|██████▏   | 2308/3741 [01:53<01:10, 20.40it/s]"
     ]
    },
    {
     "name": "stdout",
     "output_type": "stream",
     "text": [
      "inferframe_02128.png\n",
      "inferframe_02471.png\n",
      "inferframe_00742.png\n",
      "inferframe_02975.png\n",
      "inferframe_00854.png\n"
     ]
    },
    {
     "name": "stderr",
     "output_type": "stream",
     "text": [
      " 62%|██████▏   | 2313/3741 [01:53<01:12, 19.72it/s]"
     ]
    },
    {
     "name": "stdout",
     "output_type": "stream",
     "text": [
      "inferframe_01059.png\n",
      "inferframe_00925.png\n",
      "inferframe_03213.png\n",
      "inferframe_01986.png\n"
     ]
    },
    {
     "name": "stderr",
     "output_type": "stream",
     "text": [
      " 62%|██████▏   | 2316/3741 [01:53<01:12, 19.71it/s]"
     ]
    },
    {
     "name": "stdout",
     "output_type": "stream",
     "text": [
      "inferframe_00414.png\n",
      "inferframe_02953.png\n",
      "inferframe_03561.png\n",
      "inferframe_01174.png\n"
     ]
    },
    {
     "name": "stderr",
     "output_type": "stream",
     "text": [
      " 62%|██████▏   | 2321/3741 [01:53<01:09, 20.33it/s]"
     ]
    },
    {
     "name": "stdout",
     "output_type": "stream",
     "text": [
      "inferframe_02821.png\n",
      "inferframe_00276.png\n",
      "inferframe_00944.png\n",
      "inferframe_03594.png\n",
      "inferframe_01660.png\n"
     ]
    },
    {
     "name": "stderr",
     "output_type": "stream",
     "text": [
      " 62%|██████▏   | 2327/3741 [01:54<01:08, 20.79it/s]"
     ]
    },
    {
     "name": "stdout",
     "output_type": "stream",
     "text": [
      "inferframe_03598.png\n",
      "inferframe_02582.png\n",
      "inferframe_01037.png\n",
      "inferframe_02534.png\n",
      "inferframe_00774.png\n"
     ]
    },
    {
     "name": "stderr",
     "output_type": "stream",
     "text": [
      " 62%|██████▏   | 2330/3741 [01:54<01:07, 20.86it/s]"
     ]
    },
    {
     "name": "stdout",
     "output_type": "stream",
     "text": [
      "inferframe_03502.png\n",
      "inferframe_01557.png\n",
      "inferframe_03149.png\n",
      "inferframe_00857.png\n",
      "inferframe_01026.png\n"
     ]
    },
    {
     "name": "stderr",
     "output_type": "stream",
     "text": [
      " 62%|██████▏   | 2336/3741 [01:54<01:09, 20.31it/s]"
     ]
    },
    {
     "name": "stdout",
     "output_type": "stream",
     "text": [
      "inferframe_02410.png\n",
      "inferframe_01752.png\n",
      "inferframe_01144.png\n",
      "inferframe_00474.png\n",
      "inferframe_00949.png\n"
     ]
    },
    {
     "name": "stderr",
     "output_type": "stream",
     "text": [
      " 63%|██████▎   | 2339/3741 [01:54<01:08, 20.62it/s]"
     ]
    },
    {
     "name": "stdout",
     "output_type": "stream",
     "text": [
      "inferframe_02879.png\n",
      "inferframe_02335.png\n",
      "inferframe_02650.png\n",
      "inferframe_00837.png\n"
     ]
    },
    {
     "name": "stderr",
     "output_type": "stream",
     "text": [
      " 63%|██████▎   | 2345/3741 [01:54<01:10, 19.87it/s]"
     ]
    },
    {
     "name": "stdout",
     "output_type": "stream",
     "text": [
      "inferframe_02092.png\n",
      "inferframe_01878.png\n",
      "inferframe_01295.png\n",
      "inferframe_02514.png\n",
      "inferframe_02170.png\n"
     ]
    },
    {
     "name": "stderr",
     "output_type": "stream",
     "text": [
      " 63%|██████▎   | 2348/3741 [01:55<01:07, 20.70it/s]"
     ]
    },
    {
     "name": "stdout",
     "output_type": "stream",
     "text": [
      "inferframe_01821.png\n",
      "inferframe_03288.png\n",
      "inferframe_01457.png\n",
      "inferframe_03271.png\n"
     ]
    },
    {
     "name": "stderr",
     "output_type": "stream",
     "text": [
      " 63%|██████▎   | 2354/3741 [01:55<01:08, 20.25it/s]"
     ]
    },
    {
     "name": "stdout",
     "output_type": "stream",
     "text": [
      "inferframe_00526.png\n",
      "inferframe_00702.png\n",
      "inferframe_03440.png\n",
      "inferframe_00640.png\n"
     ]
    },
    {
     "name": "stderr",
     "output_type": "stream",
     "text": [
      " 63%|██████▎   | 2357/3741 [01:55<01:13, 18.83it/s]"
     ]
    },
    {
     "name": "stdout",
     "output_type": "stream",
     "text": [
      "inferframe_03436.png\n",
      "inferframe_00649.png\n",
      "inferframe_00973.png\n",
      "inferframe_00725.png\n"
     ]
    },
    {
     "name": "stderr",
     "output_type": "stream",
     "text": [
      " 63%|██████▎   | 2362/3741 [01:55<01:12, 19.08it/s]"
     ]
    },
    {
     "name": "stdout",
     "output_type": "stream",
     "text": [
      "inferframe_03130.png\n",
      "inferframe_02739.png\n",
      "inferframe_00672.png\n",
      "inferframe_03244.png\n"
     ]
    },
    {
     "name": "stderr",
     "output_type": "stream",
     "text": [
      " 63%|██████▎   | 2366/3741 [01:56<01:13, 18.68it/s]"
     ]
    },
    {
     "name": "stdout",
     "output_type": "stream",
     "text": [
      "inferframe_02010.png\n",
      "inferframe_01854.png\n",
      "inferframe_02881.png\n",
      "inferframe_00850.png\n"
     ]
    },
    {
     "name": "stderr",
     "output_type": "stream",
     "text": [
      " 63%|██████▎   | 2370/3741 [01:56<01:13, 18.61it/s]"
     ]
    },
    {
     "name": "stdout",
     "output_type": "stream",
     "text": [
      "inferframe_01288.png\n",
      "inferframe_02249.png\n",
      "inferframe_03163.png\n",
      "inferframe_02511.png\n",
      "inferframe_02218.png\n"
     ]
    },
    {
     "name": "stderr",
     "output_type": "stream",
     "text": [
      " 64%|██████▎   | 2376/3741 [01:56<01:06, 20.44it/s]"
     ]
    },
    {
     "name": "stdout",
     "output_type": "stream",
     "text": [
      "inferframe_01962.png\n",
      "inferframe_03376.png\n",
      "inferframe_00502.png\n",
      "inferframe_01971.png\n",
      "inferframe_02812.png\n"
     ]
    },
    {
     "name": "stderr",
     "output_type": "stream",
     "text": [
      " 64%|██████▎   | 2379/3741 [01:56<01:10, 19.45it/s]"
     ]
    },
    {
     "name": "stdout",
     "output_type": "stream",
     "text": [
      "inferframe_00683.png\n",
      "inferframe_00522.png\n",
      "inferframe_01938.png\n",
      "inferframe_01788.png\n"
     ]
    },
    {
     "name": "stderr",
     "output_type": "stream",
     "text": [
      " 64%|██████▎   | 2384/3741 [01:56<01:09, 19.41it/s]"
     ]
    },
    {
     "name": "stdout",
     "output_type": "stream",
     "text": [
      "inferframe_02645.png\n",
      "inferframe_01671.png\n",
      "inferframe_01040.png\n",
      "inferframe_02546.png\n",
      "inferframe_00339.png\n"
     ]
    },
    {
     "name": "stderr",
     "output_type": "stream",
     "text": [
      " 64%|██████▍   | 2389/3741 [01:57<01:07, 20.00it/s]"
     ]
    },
    {
     "name": "stdout",
     "output_type": "stream",
     "text": [
      "inferframe_03062.png\n",
      "inferframe_00036.png\n",
      "inferframe_01160.png\n",
      "inferframe_02204.png\n",
      "inferframe_01051.png\n"
     ]
    },
    {
     "name": "stderr",
     "output_type": "stream",
     "text": [
      " 64%|██████▍   | 2395/3741 [01:57<01:02, 21.61it/s]"
     ]
    },
    {
     "name": "stdout",
     "output_type": "stream",
     "text": [
      "inferframe_00540.png\n",
      "inferframe_02510.png\n",
      "inferframe_03689.png\n",
      "inferframe_02722.png\n",
      "inferframe_01404.png\n"
     ]
    },
    {
     "name": "stderr",
     "output_type": "stream",
     "text": [
      " 64%|██████▍   | 2398/3741 [01:57<01:03, 21.27it/s]"
     ]
    },
    {
     "name": "stdout",
     "output_type": "stream",
     "text": [
      "inferframe_03152.png\n",
      "inferframe_03047.png\n",
      "inferframe_02721.png\n",
      "inferframe_01668.png\n",
      "inferframe_00247.png\n"
     ]
    },
    {
     "name": "stderr",
     "output_type": "stream",
     "text": [
      " 64%|██████▍   | 2404/3741 [01:57<01:01, 21.89it/s]"
     ]
    },
    {
     "name": "stdout",
     "output_type": "stream",
     "text": [
      "inferframe_01575.png\n",
      "inferframe_03195.png\n",
      "inferframe_02399.png\n",
      "inferframe_00354.png\n",
      "inferframe_02863.png\n"
     ]
    },
    {
     "name": "stderr",
     "output_type": "stream",
     "text": [
      " 64%|██████▍   | 2410/3741 [01:58<01:02, 21.39it/s]"
     ]
    },
    {
     "name": "stdout",
     "output_type": "stream",
     "text": [
      "inferframe_01186.png\n",
      "inferframe_01327.png\n",
      "inferframe_00747.png\n",
      "inferframe_02347.png\n",
      "inferframe_00666.png\n"
     ]
    },
    {
     "name": "stderr",
     "output_type": "stream",
     "text": [
      " 65%|██████▍   | 2413/3741 [01:58<01:04, 20.53it/s]"
     ]
    },
    {
     "name": "stdout",
     "output_type": "stream",
     "text": [
      "inferframe_00417.png\n",
      "inferframe_00538.png\n",
      "inferframe_01490.png\n",
      "inferframe_01448.png\n",
      "inferframe_01085.png\n"
     ]
    },
    {
     "name": "stderr",
     "output_type": "stream",
     "text": [
      " 65%|██████▍   | 2419/3741 [01:58<01:03, 20.80it/s]"
     ]
    },
    {
     "name": "stdout",
     "output_type": "stream",
     "text": [
      "inferframe_00737.png\n",
      "inferframe_02338.png\n",
      "inferframe_01683.png\n",
      "inferframe_01803.png\n",
      "inferframe_03389.png\n"
     ]
    },
    {
     "name": "stderr",
     "output_type": "stream",
     "text": [
      " 65%|██████▍   | 2425/3741 [01:58<01:03, 20.73it/s]"
     ]
    },
    {
     "name": "stdout",
     "output_type": "stream",
     "text": [
      "inferframe_02640.png\n",
      "inferframe_02227.png\n",
      "inferframe_00052.png\n",
      "inferframe_00739.png\n",
      "inferframe_01110.png\n"
     ]
    },
    {
     "name": "stderr",
     "output_type": "stream",
     "text": [
      " 65%|██████▍   | 2428/3741 [01:59<01:05, 20.19it/s]"
     ]
    },
    {
     "name": "stdout",
     "output_type": "stream",
     "text": [
      "inferframe_02173.png\n",
      "inferframe_00641.png\n",
      "inferframe_03229.png\n",
      "inferframe_01369.png\n"
     ]
    },
    {
     "name": "stderr",
     "output_type": "stream",
     "text": [
      " 65%|██████▍   | 2431/3741 [01:59<01:05, 20.08it/s]"
     ]
    },
    {
     "name": "stdout",
     "output_type": "stream",
     "text": [
      "inferframe_00050.png\n",
      "inferframe_03372.png\n",
      "inferframe_01180.png\n",
      "inferframe_00869.png\n"
     ]
    },
    {
     "name": "stderr",
     "output_type": "stream",
     "text": [
      " 65%|██████▌   | 2437/3741 [01:59<01:05, 19.79it/s]"
     ]
    },
    {
     "name": "stdout",
     "output_type": "stream",
     "text": [
      "inferframe_02740.png\n",
      "inferframe_01739.png\n",
      "inferframe_02023.png\n",
      "inferframe_02737.png\n",
      "inferframe_02180.png\n"
     ]
    },
    {
     "name": "stderr",
     "output_type": "stream",
     "text": [
      " 65%|██████▌   | 2443/3741 [01:59<01:01, 21.27it/s]"
     ]
    },
    {
     "name": "stdout",
     "output_type": "stream",
     "text": [
      "inferframe_02723.png\n",
      "inferframe_01375.png\n",
      "inferframe_02700.png\n",
      "inferframe_00423.png\n",
      "inferframe_02937.png\n"
     ]
    },
    {
     "name": "stderr",
     "output_type": "stream",
     "text": [
      " 65%|██████▌   | 2446/3741 [01:59<01:00, 21.35it/s]"
     ]
    },
    {
     "name": "stdout",
     "output_type": "stream",
     "text": [
      "inferframe_01317.png\n",
      "inferframe_00245.png\n",
      "inferframe_00809.png\n",
      "inferframe_00593.png\n",
      "inferframe_00602.png\n"
     ]
    },
    {
     "name": "stderr",
     "output_type": "stream",
     "text": [
      " 66%|██████▌   | 2452/3741 [02:00<01:04, 20.10it/s]"
     ]
    },
    {
     "name": "stdout",
     "output_type": "stream",
     "text": [
      "inferframe_03522.png\n",
      "inferframe_03142.png\n",
      "inferframe_01115.png\n",
      "inferframe_01596.png\n",
      "inferframe_03065.png\n"
     ]
    },
    {
     "name": "stderr",
     "output_type": "stream",
     "text": [
      " 66%|██████▌   | 2458/3741 [02:00<01:02, 20.44it/s]"
     ]
    },
    {
     "name": "stdout",
     "output_type": "stream",
     "text": [
      "inferframe_01765.png\n",
      "inferframe_02181.png\n",
      "inferframe_03343.png\n",
      "inferframe_02689.png\n",
      "inferframe_03090.png\n"
     ]
    },
    {
     "name": "stderr",
     "output_type": "stream",
     "text": [
      " 66%|██████▌   | 2461/3741 [02:00<01:04, 19.77it/s]"
     ]
    },
    {
     "name": "stdout",
     "output_type": "stream",
     "text": [
      "inferframe_03728.png\n",
      "inferframe_00940.png\n",
      "inferframe_00160.png\n",
      "inferframe_01680.png\n",
      "inferframe_01613.png\n"
     ]
    },
    {
     "name": "stderr",
     "output_type": "stream",
     "text": [
      " 66%|██████▌   | 2467/3741 [02:01<01:04, 19.89it/s]"
     ]
    },
    {
     "name": "stdout",
     "output_type": "stream",
     "text": [
      "inferframe_01239.png\n",
      "inferframe_01290.png\n",
      "inferframe_01994.png\n",
      "inferframe_02466.png\n"
     ]
    },
    {
     "name": "stderr",
     "output_type": "stream",
     "text": [
      " 66%|██████▌   | 2470/3741 [02:01<01:02, 20.49it/s]"
     ]
    },
    {
     "name": "stdout",
     "output_type": "stream",
     "text": [
      "inferframe_02343.png\n",
      "inferframe_01127.png\n",
      "inferframe_01749.png\n",
      "inferframe_00486.png\n",
      "inferframe_03173.png\n"
     ]
    },
    {
     "name": "stderr",
     "output_type": "stream",
     "text": [
      " 66%|██████▌   | 2476/3741 [02:01<00:59, 21.22it/s]"
     ]
    },
    {
     "name": "stdout",
     "output_type": "stream",
     "text": [
      "inferframe_00253.png\n",
      "inferframe_02072.png\n",
      "inferframe_00404.png\n",
      "inferframe_02750.png\n",
      "inferframe_00171.png\n"
     ]
    },
    {
     "name": "stderr",
     "output_type": "stream",
     "text": [
      " 66%|██████▋   | 2482/3741 [02:01<00:59, 21.00it/s]"
     ]
    },
    {
     "name": "stdout",
     "output_type": "stream",
     "text": [
      "inferframe_03577.png\n",
      "inferframe_02674.png\n",
      "inferframe_02321.png\n",
      "inferframe_01393.png\n",
      "inferframe_02799.png\n"
     ]
    },
    {
     "name": "stderr",
     "output_type": "stream",
     "text": [
      " 66%|██████▋   | 2485/3741 [02:01<00:58, 21.33it/s]"
     ]
    },
    {
     "name": "stdout",
     "output_type": "stream",
     "text": [
      "inferframe_02560.png\n",
      "inferframe_00536.png\n",
      "inferframe_01978.png\n",
      "inferframe_01580.png\n",
      "inferframe_03557.png\n"
     ]
    },
    {
     "name": "stderr",
     "output_type": "stream",
     "text": [
      " 67%|██████▋   | 2491/3741 [02:02<00:59, 20.87it/s]"
     ]
    },
    {
     "name": "stdout",
     "output_type": "stream",
     "text": [
      "inferframe_02666.png\n",
      "inferframe_00807.png\n",
      "inferframe_00781.png\n",
      "inferframe_00740.png\n",
      "inferframe_03156.png\n"
     ]
    },
    {
     "name": "stderr",
     "output_type": "stream",
     "text": [
      " 67%|██████▋   | 2497/3741 [02:02<00:58, 21.34it/s]"
     ]
    },
    {
     "name": "stdout",
     "output_type": "stream",
     "text": [
      "inferframe_01529.png\n",
      "inferframe_01565.png\n",
      "inferframe_01354.png\n",
      "inferframe_00372.png\n",
      "inferframe_00182.png\n"
     ]
    },
    {
     "name": "stderr",
     "output_type": "stream",
     "text": [
      " 67%|██████▋   | 2500/3741 [02:02<00:58, 21.18it/s]"
     ]
    },
    {
     "name": "stdout",
     "output_type": "stream",
     "text": [
      "inferframe_00810.png\n",
      "inferframe_00544.png\n",
      "inferframe_02044.png\n",
      "inferframe_00413.png\n",
      "inferframe_02549.png\n"
     ]
    },
    {
     "name": "stderr",
     "output_type": "stream",
     "text": [
      " 67%|██████▋   | 2506/3741 [02:02<00:56, 21.96it/s]"
     ]
    },
    {
     "name": "stdout",
     "output_type": "stream",
     "text": [
      "inferframe_03675.png\n",
      "inferframe_00950.png\n",
      "inferframe_00438.png\n",
      "inferframe_00712.png\n",
      "inferframe_01889.png\n"
     ]
    },
    {
     "name": "stderr",
     "output_type": "stream",
     "text": [
      " 67%|██████▋   | 2512/3741 [02:03<00:57, 21.33it/s]"
     ]
    },
    {
     "name": "stdout",
     "output_type": "stream",
     "text": [
      "inferframe_03638.png\n",
      "inferframe_00288.png\n",
      "inferframe_00348.png\n",
      "inferframe_01731.png\n",
      "inferframe_02952.png\n"
     ]
    },
    {
     "name": "stderr",
     "output_type": "stream",
     "text": [
      " 67%|██████▋   | 2515/3741 [02:03<01:00, 20.27it/s]"
     ]
    },
    {
     "name": "stdout",
     "output_type": "stream",
     "text": [
      "inferframe_00673.png\n",
      "inferframe_01402.png\n",
      "inferframe_01611.png\n",
      "inferframe_03568.png\n"
     ]
    },
    {
     "name": "stderr",
     "output_type": "stream",
     "text": [
      " 67%|██████▋   | 2521/3741 [02:03<01:00, 20.28it/s]"
     ]
    },
    {
     "name": "stdout",
     "output_type": "stream",
     "text": [
      "inferframe_00764.png\n",
      "inferframe_03460.png\n",
      "inferframe_03291.png\n",
      "inferframe_03536.png\n",
      "inferframe_02456.png\n"
     ]
    },
    {
     "name": "stderr",
     "output_type": "stream",
     "text": [
      " 67%|██████▋   | 2524/3741 [02:03<00:58, 20.64it/s]"
     ]
    },
    {
     "name": "stdout",
     "output_type": "stream",
     "text": [
      "inferframe_03699.png\n",
      "inferframe_01471.png\n",
      "inferframe_01801.png\n",
      "inferframe_03264.png\n"
     ]
    },
    {
     "name": "stderr",
     "output_type": "stream",
     "text": [
      " 68%|██████▊   | 2530/3741 [02:04<00:59, 20.19it/s]"
     ]
    },
    {
     "name": "stdout",
     "output_type": "stream",
     "text": [
      "inferframe_00979.png\n",
      "inferframe_03340.png\n",
      "inferframe_00477.png\n",
      "inferframe_02344.png\n",
      "inferframe_02255.png\n"
     ]
    },
    {
     "name": "stderr",
     "output_type": "stream",
     "text": [
      " 68%|██████▊   | 2533/3741 [02:04<00:59, 20.35it/s]"
     ]
    },
    {
     "name": "stdout",
     "output_type": "stream",
     "text": [
      "inferframe_01588.png\n",
      "inferframe_03281.png\n",
      "inferframe_01860.png\n",
      "inferframe_02414.png\n"
     ]
    },
    {
     "name": "stderr",
     "output_type": "stream",
     "text": [
      " 68%|██████▊   | 2536/3741 [02:04<00:59, 20.09it/s]"
     ]
    },
    {
     "name": "stdout",
     "output_type": "stream",
     "text": [
      "inferframe_00400.png\n",
      "inferframe_03535.png\n",
      "inferframe_00772.png\n",
      "inferframe_03262.png\n"
     ]
    },
    {
     "name": "stderr",
     "output_type": "stream",
     "text": [
      " 68%|██████▊   | 2541/3741 [02:04<01:01, 19.48it/s]"
     ]
    },
    {
     "name": "stdout",
     "output_type": "stream",
     "text": [
      "inferframe_02901.png\n",
      "inferframe_02615.png\n",
      "inferframe_00499.png\n",
      "inferframe_02256.png\n",
      "inferframe_02297.png\n"
     ]
    },
    {
     "name": "stderr",
     "output_type": "stream",
     "text": [
      " 68%|██████▊   | 2547/3741 [02:04<00:57, 20.81it/s]"
     ]
    },
    {
     "name": "stdout",
     "output_type": "stream",
     "text": [
      "inferframe_02419.png\n",
      "inferframe_00468.png\n",
      "inferframe_02322.png\n",
      "inferframe_00244.png\n",
      "inferframe_01727.png\n"
     ]
    },
    {
     "name": "stderr",
     "output_type": "stream",
     "text": [
      " 68%|██████▊   | 2553/3741 [02:05<00:53, 22.13it/s]"
     ]
    },
    {
     "name": "stdout",
     "output_type": "stream",
     "text": [
      "inferframe_03348.png\n",
      "inferframe_01682.png\n",
      "inferframe_01096.png\n",
      "inferframe_00250.png\n",
      "inferframe_03140.png\n"
     ]
    },
    {
     "name": "stderr",
     "output_type": "stream",
     "text": [
      " 68%|██████▊   | 2556/3741 [02:05<00:54, 21.70it/s]"
     ]
    },
    {
     "name": "stdout",
     "output_type": "stream",
     "text": [
      "inferframe_01069.png\n",
      "inferframe_00071.png\n",
      "inferframe_01348.png\n",
      "inferframe_03461.png\n",
      "inferframe_03730.png\n"
     ]
    },
    {
     "name": "stderr",
     "output_type": "stream",
     "text": [
      " 68%|██████▊   | 2562/3741 [02:05<00:56, 20.69it/s]"
     ]
    },
    {
     "name": "stdout",
     "output_type": "stream",
     "text": [
      "inferframe_00835.png\n",
      "inferframe_02320.png\n",
      "inferframe_00994.png\n",
      "inferframe_00291.png\n"
     ]
    },
    {
     "name": "stderr",
     "output_type": "stream",
     "text": [
      " 69%|██████▊   | 2565/3741 [02:05<00:57, 20.60it/s]"
     ]
    },
    {
     "name": "stdout",
     "output_type": "stream",
     "text": [
      "inferframe_00716.png\n",
      "inferframe_03208.png\n",
      "inferframe_00187.png\n",
      "inferframe_03080.png\n",
      "inferframe_01924.png\n"
     ]
    },
    {
     "name": "stderr",
     "output_type": "stream",
     "text": [
      " 69%|██████▊   | 2571/3741 [02:05<00:54, 21.34it/s]"
     ]
    },
    {
     "name": "stdout",
     "output_type": "stream",
     "text": [
      "inferframe_02260.png\n",
      "inferframe_03480.png\n",
      "inferframe_01362.png\n",
      "inferframe_02719.png\n",
      "inferframe_03120.png\n"
     ]
    },
    {
     "name": "stderr",
     "output_type": "stream",
     "text": [
      " 69%|██████▉   | 2574/3741 [02:06<00:54, 21.29it/s]"
     ]
    },
    {
     "name": "stdout",
     "output_type": "stream",
     "text": [
      "inferframe_01564.png\n",
      "inferframe_01011.png\n",
      "inferframe_01697.png\n",
      "inferframe_03227.png\n"
     ]
    },
    {
     "name": "stderr",
     "output_type": "stream",
     "text": [
      " 69%|██████▉   | 2580/3741 [02:06<00:57, 20.06it/s]"
     ]
    },
    {
     "name": "stdout",
     "output_type": "stream",
     "text": [
      "inferframe_03242.png\n",
      "inferframe_02793.png\n",
      "inferframe_02815.png\n",
      "inferframe_00655.png\n"
     ]
    },
    {
     "name": "stderr",
     "output_type": "stream",
     "text": [
      " 69%|██████▉   | 2583/3741 [02:06<00:58, 19.89it/s]"
     ]
    },
    {
     "name": "stdout",
     "output_type": "stream",
     "text": [
      "inferframe_01603.png\n",
      "inferframe_00933.png\n",
      "inferframe_02818.png\n",
      "inferframe_01100.png\n",
      "inferframe_00065.png\n"
     ]
    },
    {
     "name": "stderr",
     "output_type": "stream",
     "text": [
      " 69%|██████▉   | 2589/3741 [02:06<00:56, 20.27it/s]"
     ]
    },
    {
     "name": "stdout",
     "output_type": "stream",
     "text": [
      "inferframe_00496.png\n",
      "inferframe_01140.png\n",
      "inferframe_02897.png\n",
      "inferframe_01467.png\n",
      "inferframe_02135.png\n"
     ]
    },
    {
     "name": "stderr",
     "output_type": "stream",
     "text": [
      " 69%|██████▉   | 2592/3741 [02:07<00:55, 20.65it/s]"
     ]
    },
    {
     "name": "stdout",
     "output_type": "stream",
     "text": [
      "inferframe_01497.png\n",
      "inferframe_02201.png\n",
      "inferframe_01746.png\n",
      "inferframe_03537.png\n"
     ]
    },
    {
     "name": "stderr",
     "output_type": "stream",
     "text": [
      " 69%|██████▉   | 2598/3741 [02:07<00:55, 20.71it/s]"
     ]
    },
    {
     "name": "stdout",
     "output_type": "stream",
     "text": [
      "inferframe_00129.png\n",
      "inferframe_03438.png\n",
      "inferframe_02435.png\n",
      "inferframe_02902.png\n",
      "inferframe_03238.png\n"
     ]
    },
    {
     "name": "stderr",
     "output_type": "stream",
     "text": [
      " 70%|██████▉   | 2604/3741 [02:07<00:56, 20.23it/s]"
     ]
    },
    {
     "name": "stdout",
     "output_type": "stream",
     "text": [
      "inferframe_00434.png\n",
      "inferframe_01251.png\n",
      "inferframe_03544.png\n",
      "inferframe_01426.png\n",
      "inferframe_03488.png\n"
     ]
    },
    {
     "name": "stderr",
     "output_type": "stream",
     "text": [
      " 70%|██████▉   | 2607/3741 [02:07<00:57, 19.87it/s]"
     ]
    },
    {
     "name": "stdout",
     "output_type": "stream",
     "text": [
      "inferframe_01917.png\n",
      "inferframe_00698.png\n",
      "inferframe_00616.png\n",
      "inferframe_00652.png\n"
     ]
    },
    {
     "name": "stderr",
     "output_type": "stream",
     "text": [
      " 70%|██████▉   | 2612/3741 [02:08<00:57, 19.77it/s]"
     ]
    },
    {
     "name": "stdout",
     "output_type": "stream",
     "text": [
      "inferframe_03386.png\n",
      "inferframe_02664.png\n",
      "inferframe_02415.png\n",
      "inferframe_02850.png\n",
      "inferframe_03297.png\n"
     ]
    },
    {
     "name": "stderr",
     "output_type": "stream",
     "text": [
      " 70%|██████▉   | 2616/3741 [02:08<00:57, 19.71it/s]"
     ]
    },
    {
     "name": "stdout",
     "output_type": "stream",
     "text": [
      "inferframe_01057.png\n",
      "inferframe_02857.png\n",
      "inferframe_01410.png\n",
      "inferframe_01137.png\n",
      "inferframe_03041.png\n"
     ]
    },
    {
     "name": "stderr",
     "output_type": "stream",
     "text": [
      " 70%|███████   | 2622/3741 [02:08<00:55, 20.09it/s]"
     ]
    },
    {
     "name": "stdout",
     "output_type": "stream",
     "text": [
      "inferframe_02285.png\n",
      "inferframe_01908.png\n",
      "inferframe_00172.png\n",
      "inferframe_02108.png\n",
      "inferframe_01147.png\n"
     ]
    },
    {
     "name": "stderr",
     "output_type": "stream",
     "text": [
      " 70%|███████   | 2628/3741 [02:08<00:53, 20.63it/s]"
     ]
    },
    {
     "name": "stdout",
     "output_type": "stream",
     "text": [
      "inferframe_03004.png\n",
      "inferframe_03593.png\n",
      "inferframe_00549.png\n",
      "inferframe_00115.png\n",
      "inferframe_02632.png\n"
     ]
    },
    {
     "name": "stderr",
     "output_type": "stream",
     "text": [
      " 70%|███████   | 2631/3741 [02:08<00:53, 20.90it/s]"
     ]
    },
    {
     "name": "stdout",
     "output_type": "stream",
     "text": [
      "inferframe_02127.png\n",
      "inferframe_03000.png\n",
      "inferframe_03721.png\n",
      "inferframe_01694.png\n"
     ]
    },
    {
     "name": "stderr",
     "output_type": "stream",
     "text": [
      " 70%|███████   | 2637/3741 [02:09<00:53, 20.62it/s]"
     ]
    },
    {
     "name": "stdout",
     "output_type": "stream",
     "text": [
      "inferframe_00926.png\n",
      "inferframe_00521.png\n",
      "inferframe_02665.png\n",
      "inferframe_00044.png\n",
      "inferframe_02277.png\n"
     ]
    },
    {
     "name": "stderr",
     "output_type": "stream",
     "text": [
      " 71%|███████   | 2640/3741 [02:09<00:53, 20.57it/s]"
     ]
    },
    {
     "name": "stdout",
     "output_type": "stream",
     "text": [
      "inferframe_01578.png\n",
      "inferframe_01953.png\n",
      "inferframe_00823.png\n",
      "inferframe_03396.png\n",
      "inferframe_01143.png\n"
     ]
    },
    {
     "name": "stderr",
     "output_type": "stream",
     "text": [
      " 71%|███████   | 2646/3741 [02:09<00:53, 20.49it/s]"
     ]
    },
    {
     "name": "stdout",
     "output_type": "stream",
     "text": [
      "inferframe_02331.png\n",
      "inferframe_02995.png\n",
      "inferframe_01379.png\n",
      "inferframe_01430.png\n"
     ]
    },
    {
     "name": "stderr",
     "output_type": "stream",
     "text": [
      " 71%|███████   | 2649/3741 [02:09<00:54, 20.14it/s]"
     ]
    },
    {
     "name": "stdout",
     "output_type": "stream",
     "text": [
      "inferframe_02668.png\n",
      "inferframe_02899.png\n",
      "inferframe_03350.png\n",
      "inferframe_00154.png\n",
      "inferframe_02960.png\n"
     ]
    },
    {
     "name": "stderr",
     "output_type": "stream",
     "text": [
      " 71%|███████   | 2655/3741 [02:10<00:53, 20.41it/s]"
     ]
    },
    {
     "name": "stdout",
     "output_type": "stream",
     "text": [
      "inferframe_03078.png\n",
      "inferframe_00144.png\n",
      "inferframe_00262.png\n",
      "inferframe_00901.png\n",
      "inferframe_01984.png\n"
     ]
    },
    {
     "name": "stderr",
     "output_type": "stream",
     "text": [
      " 71%|███████   | 2661/3741 [02:10<00:52, 20.53it/s]"
     ]
    },
    {
     "name": "stdout",
     "output_type": "stream",
     "text": [
      "inferframe_03355.png\n",
      "inferframe_01157.png\n",
      "inferframe_00268.png\n",
      "inferframe_01901.png\n",
      "inferframe_02176.png\n"
     ]
    },
    {
     "name": "stderr",
     "output_type": "stream",
     "text": [
      " 71%|███████   | 2664/3741 [02:10<00:57, 18.88it/s]"
     ]
    },
    {
     "name": "stdout",
     "output_type": "stream",
     "text": [
      "inferframe_00006.png\n",
      "inferframe_01441.png\n",
      "inferframe_00709.png\n",
      "inferframe_02641.png\n"
     ]
    },
    {
     "name": "stderr",
     "output_type": "stream",
     "text": [
      " 71%|███████▏  | 2670/3741 [02:10<00:54, 19.76it/s]"
     ]
    },
    {
     "name": "stdout",
     "output_type": "stream",
     "text": [
      "inferframe_03665.png\n",
      "inferframe_00920.png\n",
      "inferframe_00831.png\n",
      "inferframe_01539.png\n",
      "inferframe_02257.png\n"
     ]
    },
    {
     "name": "stderr",
     "output_type": "stream",
     "text": [
      " 71%|███████▏  | 2673/3741 [02:11<00:57, 18.64it/s]"
     ]
    },
    {
     "name": "stdout",
     "output_type": "stream",
     "text": [
      "inferframe_01720.png\n",
      "inferframe_03135.png\n",
      "inferframe_03489.png\n",
      "inferframe_01297.png\n"
     ]
    },
    {
     "name": "stderr",
     "output_type": "stream",
     "text": [
      " 72%|███████▏  | 2678/3741 [02:11<00:54, 19.68it/s]"
     ]
    },
    {
     "name": "stdout",
     "output_type": "stream",
     "text": [
      "inferframe_02708.png\n",
      "inferframe_03068.png\n",
      "inferframe_00513.png\n",
      "inferframe_03059.png\n",
      "inferframe_02496.png\n"
     ]
    },
    {
     "name": "stderr",
     "output_type": "stream",
     "text": [
      " 72%|███████▏  | 2684/3741 [02:11<00:49, 21.23it/s]"
     ]
    },
    {
     "name": "stdout",
     "output_type": "stream",
     "text": [
      "inferframe_00570.png\n",
      "inferframe_02532.png\n",
      "inferframe_00286.png\n",
      "inferframe_02100.png\n",
      "inferframe_03011.png\n"
     ]
    },
    {
     "name": "stderr",
     "output_type": "stream",
     "text": [
      " 72%|███████▏  | 2687/3741 [02:11<00:52, 20.02it/s]"
     ]
    },
    {
     "name": "stdout",
     "output_type": "stream",
     "text": [
      "inferframe_03563.png\n",
      "inferframe_00707.png\n",
      "inferframe_00133.png\n",
      "inferframe_02933.png\n"
     ]
    },
    {
     "name": "stderr",
     "output_type": "stream",
     "text": [
      " 72%|███████▏  | 2693/3741 [02:12<00:51, 20.32it/s]"
     ]
    },
    {
     "name": "stdout",
     "output_type": "stream",
     "text": [
      "inferframe_01232.png\n",
      "inferframe_00169.png\n",
      "inferframe_00127.png\n",
      "inferframe_03055.png\n",
      "inferframe_01070.png\n"
     ]
    },
    {
     "name": "stderr",
     "output_type": "stream",
     "text": [
      " 72%|███████▏  | 2696/3741 [02:12<00:51, 20.48it/s]"
     ]
    },
    {
     "name": "stdout",
     "output_type": "stream",
     "text": [
      "inferframe_01669.png\n",
      "inferframe_03624.png\n",
      "inferframe_03628.png\n",
      "inferframe_03042.png\n",
      "inferframe_01642.png\n"
     ]
    },
    {
     "name": "stderr",
     "output_type": "stream",
     "text": [
      " 72%|███████▏  | 2702/3741 [02:12<00:52, 19.84it/s]"
     ]
    },
    {
     "name": "stdout",
     "output_type": "stream",
     "text": [
      "inferframe_00802.png\n",
      "inferframe_01947.png\n",
      "inferframe_01735.png\n",
      "inferframe_00852.png\n"
     ]
    },
    {
     "name": "stderr",
     "output_type": "stream",
     "text": [
      " 72%|███████▏  | 2707/3741 [02:12<00:51, 20.24it/s]"
     ]
    },
    {
     "name": "stdout",
     "output_type": "stream",
     "text": [
      "inferframe_02716.png\n",
      "inferframe_00977.png\n",
      "inferframe_02959.png\n",
      "inferframe_01622.png\n",
      "inferframe_02762.png\n"
     ]
    },
    {
     "name": "stderr",
     "output_type": "stream",
     "text": [
      " 72%|███████▏  | 2710/3741 [02:12<00:51, 20.21it/s]"
     ]
    },
    {
     "name": "stdout",
     "output_type": "stream",
     "text": [
      "inferframe_03707.png\n",
      "inferframe_01593.png\n",
      "inferframe_00879.png\n",
      "inferframe_03002.png\n"
     ]
    },
    {
     "name": "stderr",
     "output_type": "stream",
     "text": [
      " 73%|███████▎  | 2713/3741 [02:13<00:50, 20.16it/s]"
     ]
    },
    {
     "name": "stdout",
     "output_type": "stream",
     "text": [
      "inferframe_02144.png\n",
      "inferframe_02654.png\n",
      "inferframe_01865.png\n",
      "inferframe_00219.png\n"
     ]
    },
    {
     "name": "stderr",
     "output_type": "stream",
     "text": [
      " 73%|███████▎  | 2718/3741 [02:13<00:52, 19.61it/s]"
     ]
    },
    {
     "name": "stdout",
     "output_type": "stream",
     "text": [
      "inferframe_03366.png\n",
      "inferframe_00893.png\n",
      "inferframe_02029.png\n",
      "inferframe_00075.png\n"
     ]
    },
    {
     "name": "stderr",
     "output_type": "stream",
     "text": [
      " 73%|███████▎  | 2723/3741 [02:13<00:51, 19.85it/s]"
     ]
    },
    {
     "name": "stdout",
     "output_type": "stream",
     "text": [
      "inferframe_00102.png\n",
      "inferframe_02638.png\n",
      "inferframe_01187.png\n",
      "inferframe_01985.png\n",
      "inferframe_01943.png\n"
     ]
    },
    {
     "name": "stderr",
     "output_type": "stream",
     "text": [
      " 73%|███████▎  | 2728/3741 [02:13<00:52, 19.20it/s]"
     ]
    },
    {
     "name": "stdout",
     "output_type": "stream",
     "text": [
      "inferframe_02759.png\n",
      "inferframe_03066.png\n",
      "inferframe_01876.png\n",
      "inferframe_01992.png\n"
     ]
    },
    {
     "name": "stderr",
     "output_type": "stream",
     "text": [
      " 73%|███████▎  | 2733/3741 [02:14<00:50, 19.87it/s]"
     ]
    },
    {
     "name": "stdout",
     "output_type": "stream",
     "text": [
      "inferframe_01215.png\n",
      "inferframe_02096.png\n",
      "inferframe_00898.png\n",
      "inferframe_03320.png\n",
      "inferframe_01812.png\n"
     ]
    },
    {
     "name": "stderr",
     "output_type": "stream",
     "text": [
      " 73%|███████▎  | 2738/3741 [02:14<00:49, 20.31it/s]"
     ]
    },
    {
     "name": "stdout",
     "output_type": "stream",
     "text": [
      "inferframe_00924.png\n",
      "inferframe_00999.png\n",
      "inferframe_02584.png\n",
      "inferframe_00812.png\n",
      "inferframe_00461.png\n"
     ]
    },
    {
     "name": "stderr",
     "output_type": "stream",
     "text": [
      " 73%|███████▎  | 2741/3741 [02:14<00:48, 20.76it/s]"
     ]
    },
    {
     "name": "stdout",
     "output_type": "stream",
     "text": [
      "inferframe_01482.png\n",
      "inferframe_01168.png\n",
      "inferframe_03685.png\n",
      "inferframe_01203.png\n",
      "inferframe_02891.png\n"
     ]
    },
    {
     "name": "stderr",
     "output_type": "stream",
     "text": [
      " 73%|███████▎  | 2747/3741 [02:14<00:47, 21.01it/s]"
     ]
    },
    {
     "name": "stdout",
     "output_type": "stream",
     "text": [
      "inferframe_03430.png\n",
      "inferframe_00485.png\n",
      "inferframe_02425.png\n",
      "inferframe_02774.png\n",
      "inferframe_03477.png\n"
     ]
    },
    {
     "name": "stderr",
     "output_type": "stream",
     "text": [
      " 74%|███████▎  | 2753/3741 [02:15<00:47, 20.92it/s]"
     ]
    },
    {
     "name": "stdout",
     "output_type": "stream",
     "text": [
      "inferframe_00130.png\n",
      "inferframe_01380.png\n",
      "inferframe_02279.png\n",
      "inferframe_03223.png\n",
      "inferframe_03361.png\n"
     ]
    },
    {
     "name": "stderr",
     "output_type": "stream",
     "text": [
      " 74%|███████▎  | 2756/3741 [02:15<00:46, 21.00it/s]"
     ]
    },
    {
     "name": "stdout",
     "output_type": "stream",
     "text": [
      "inferframe_01175.png\n",
      "inferframe_02572.png\n",
      "inferframe_02798.png\n",
      "inferframe_01701.png\n",
      "inferframe_01237.png\n"
     ]
    },
    {
     "name": "stderr",
     "output_type": "stream",
     "text": [
      " 74%|███████▍  | 2762/3741 [02:15<00:46, 21.21it/s]"
     ]
    },
    {
     "name": "stdout",
     "output_type": "stream",
     "text": [
      "inferframe_00741.png\n",
      "inferframe_02418.png\n",
      "inferframe_01621.png\n",
      "inferframe_00161.png\n",
      "inferframe_01080.png\n"
     ]
    },
    {
     "name": "stderr",
     "output_type": "stream",
     "text": [
      " 74%|███████▍  | 2768/3741 [02:15<00:44, 21.66it/s]"
     ]
    },
    {
     "name": "stdout",
     "output_type": "stream",
     "text": [
      "inferframe_02486.png\n",
      "inferframe_02202.png\n",
      "inferframe_02743.png\n",
      "inferframe_03284.png\n",
      "inferframe_00590.png\n"
     ]
    },
    {
     "name": "stderr",
     "output_type": "stream",
     "text": [
      " 74%|███████▍  | 2771/3741 [02:15<00:45, 21.15it/s]"
     ]
    },
    {
     "name": "stdout",
     "output_type": "stream",
     "text": [
      "inferframe_01712.png\n",
      "inferframe_01850.png\n",
      "inferframe_01851.png\n",
      "inferframe_02811.png\n"
     ]
    },
    {
     "name": "stderr",
     "output_type": "stream",
     "text": [
      " 74%|███████▍  | 2774/3741 [02:16<00:47, 20.47it/s]"
     ]
    },
    {
     "name": "stdout",
     "output_type": "stream",
     "text": [
      "inferframe_01259.png\n",
      "inferframe_00634.png\n",
      "inferframe_02600.png\n",
      "inferframe_01723.png\n"
     ]
    },
    {
     "name": "stderr",
     "output_type": "stream",
     "text": [
      " 74%|███████▍  | 2780/3741 [02:16<00:49, 19.45it/s]"
     ]
    },
    {
     "name": "stdout",
     "output_type": "stream",
     "text": [
      "inferframe_02512.png\n",
      "inferframe_02591.png\n",
      "inferframe_02290.png\n",
      "inferframe_03524.png\n",
      "inferframe_01709.png\n"
     ]
    },
    {
     "name": "stderr",
     "output_type": "stream",
     "text": [
      " 74%|███████▍  | 2784/3741 [02:16<00:49, 19.52it/s]"
     ]
    },
    {
     "name": "stdout",
     "output_type": "stream",
     "text": [
      "inferframe_01262.png\n",
      "inferframe_02069.png\n",
      "inferframe_02909.png\n",
      "inferframe_02469.png\n",
      "inferframe_01654.png\n"
     ]
    },
    {
     "name": "stderr",
     "output_type": "stream",
     "text": [
      " 75%|███████▍  | 2790/3741 [02:16<00:47, 20.12it/s]"
     ]
    },
    {
     "name": "stdout",
     "output_type": "stream",
     "text": [
      "inferframe_02307.png\n",
      "inferframe_00344.png\n",
      "inferframe_01253.png\n",
      "inferframe_03215.png\n"
     ]
    },
    {
     "name": "stderr",
     "output_type": "stream",
     "text": [
      " 75%|███████▍  | 2793/3741 [02:16<00:48, 19.71it/s]"
     ]
    },
    {
     "name": "stdout",
     "output_type": "stream",
     "text": [
      "inferframe_02965.png\n",
      "inferframe_01743.png\n",
      "inferframe_03697.png\n",
      "inferframe_03704.png\n",
      "inferframe_00887.png\n"
     ]
    },
    {
     "name": "stderr",
     "output_type": "stream",
     "text": [
      " 75%|███████▍  | 2799/3741 [02:17<00:46, 20.16it/s]"
     ]
    },
    {
     "name": "stdout",
     "output_type": "stream",
     "text": [
      "inferframe_02839.png\n",
      "inferframe_00808.png\n",
      "inferframe_02426.png\n",
      "inferframe_02957.png\n"
     ]
    },
    {
     "name": "stderr",
     "output_type": "stream",
     "text": [
      " 75%|███████▍  | 2804/3741 [02:17<00:47, 19.84it/s]"
     ]
    },
    {
     "name": "stdout",
     "output_type": "stream",
     "text": [
      "inferframe_02918.png\n",
      "inferframe_03482.png\n",
      "inferframe_02000.png\n",
      "inferframe_03087.png\n"
     ]
    },
    {
     "name": "stderr",
     "output_type": "stream",
     "text": [
      " 75%|███████▌  | 2807/3741 [02:17<00:44, 20.92it/s]"
     ]
    },
    {
     "name": "stdout",
     "output_type": "stream",
     "text": [
      "inferframe_00321.png\n",
      "inferframe_01321.png\n",
      "inferframe_00278.png\n",
      "inferframe_01960.png\n",
      "inferframe_00051.png\n"
     ]
    },
    {
     "name": "stderr",
     "output_type": "stream",
     "text": [
      " 75%|███████▌  | 2810/3741 [02:17<00:45, 20.49it/s]"
     ]
    },
    {
     "name": "stdout",
     "output_type": "stream",
     "text": [
      "inferframe_02268.png\n",
      "inferframe_03104.png\n",
      "inferframe_00089.png\n",
      "inferframe_01726.png\n"
     ]
    },
    {
     "name": "stderr",
     "output_type": "stream",
     "text": [
      " 75%|███████▌  | 2816/3741 [02:18<00:44, 20.94it/s]"
     ]
    },
    {
     "name": "stdout",
     "output_type": "stream",
     "text": [
      "inferframe_00565.png\n",
      "inferframe_02644.png\n",
      "inferframe_01624.png\n",
      "inferframe_02117.png\n",
      "inferframe_01617.png\n"
     ]
    },
    {
     "name": "stderr",
     "output_type": "stream",
     "text": [
      " 75%|███████▌  | 2822/3741 [02:18<00:43, 21.13it/s]"
     ]
    },
    {
     "name": "stdout",
     "output_type": "stream",
     "text": [
      "inferframe_01678.png\n",
      "inferframe_00896.png\n",
      "inferframe_03381.png\n",
      "inferframe_00305.png\n",
      "inferframe_00580.png\n"
     ]
    },
    {
     "name": "stderr",
     "output_type": "stream",
     "text": [
      " 76%|███████▌  | 2825/3741 [02:18<00:44, 20.54it/s]"
     ]
    },
    {
     "name": "stdout",
     "output_type": "stream",
     "text": [
      "inferframe_03198.png\n",
      "inferframe_02866.png\n",
      "inferframe_00481.png\n",
      "inferframe_00406.png\n",
      "inferframe_02727.png\n"
     ]
    },
    {
     "name": "stderr",
     "output_type": "stream",
     "text": [
      " 76%|███████▌  | 2831/3741 [02:18<00:44, 20.27it/s]"
     ]
    },
    {
     "name": "stdout",
     "output_type": "stream",
     "text": [
      "inferframe_00684.png\n",
      "inferframe_02189.png\n",
      "inferframe_03188.png\n",
      "inferframe_01451.png\n"
     ]
    },
    {
     "name": "stderr",
     "output_type": "stream",
     "text": [
      " 76%|███████▌  | 2834/3741 [02:18<00:44, 20.28it/s]"
     ]
    },
    {
     "name": "stdout",
     "output_type": "stream",
     "text": [
      "inferframe_01880.png\n",
      "inferframe_01628.png\n",
      "inferframe_03072.png\n",
      "inferframe_02359.png\n"
     ]
    },
    {
     "name": "stderr",
     "output_type": "stream",
     "text": [
      " 76%|███████▌  | 2837/3741 [02:19<00:44, 20.22it/s]"
     ]
    },
    {
     "name": "stdout",
     "output_type": "stream",
     "text": [
      "inferframe_01769.png\n",
      "inferframe_01934.png\n",
      "inferframe_01366.png\n",
      "inferframe_03290.png\n"
     ]
    },
    {
     "name": "stderr",
     "output_type": "stream",
     "text": [
      " 76%|███████▌  | 2842/3741 [02:19<00:45, 19.65it/s]"
     ]
    },
    {
     "name": "stdout",
     "output_type": "stream",
     "text": [
      "inferframe_03314.png\n",
      "inferframe_01502.png\n",
      "inferframe_03029.png\n",
      "inferframe_02392.png\n",
      "inferframe_02962.png\n"
     ]
    },
    {
     "name": "stderr",
     "output_type": "stream",
     "text": [
      " 76%|███████▌  | 2848/3741 [02:19<00:44, 20.14it/s]"
     ]
    },
    {
     "name": "stdout",
     "output_type": "stream",
     "text": [
      "inferframe_03053.png\n",
      "inferframe_02236.png\n",
      "inferframe_02685.png\n",
      "inferframe_00449.png\n",
      "inferframe_01266.png\n"
     ]
    },
    {
     "name": "stderr",
     "output_type": "stream",
     "text": [
      " 76%|███████▋  | 2854/3741 [02:19<00:41, 21.34it/s]"
     ]
    },
    {
     "name": "stdout",
     "output_type": "stream",
     "text": [
      "inferframe_03576.png\n",
      "inferframe_00463.png\n",
      "inferframe_01830.png\n",
      "inferframe_00911.png\n",
      "inferframe_03632.png\n"
     ]
    },
    {
     "name": "stderr",
     "output_type": "stream",
     "text": [
      " 76%|███████▋  | 2857/3741 [02:20<00:40, 21.80it/s]"
     ]
    },
    {
     "name": "stdout",
     "output_type": "stream",
     "text": [
      "inferframe_01610.png\n",
      "inferframe_02698.png\n",
      "inferframe_01506.png\n",
      "inferframe_03514.png\n",
      "inferframe_03512.png\n"
     ]
    },
    {
     "name": "stderr",
     "output_type": "stream",
     "text": [
      " 77%|███████▋  | 2863/3741 [02:20<00:42, 20.74it/s]"
     ]
    },
    {
     "name": "stdout",
     "output_type": "stream",
     "text": [
      "inferframe_03710.png\n",
      "inferframe_02862.png\n",
      "inferframe_01214.png\n",
      "inferframe_03076.png\n"
     ]
    },
    {
     "name": "stderr",
     "output_type": "stream",
     "text": [
      " 77%|███████▋  | 2866/3741 [02:20<00:42, 20.43it/s]"
     ]
    },
    {
     "name": "stdout",
     "output_type": "stream",
     "text": [
      "inferframe_02612.png\n",
      "inferframe_03613.png\n",
      "inferframe_00061.png\n",
      "inferframe_01350.png\n",
      "inferframe_00447.png\n"
     ]
    },
    {
     "name": "stderr",
     "output_type": "stream",
     "text": [
      " 77%|███████▋  | 2872/3741 [02:20<00:41, 21.00it/s]"
     ]
    },
    {
     "name": "stdout",
     "output_type": "stream",
     "text": [
      "inferframe_02394.png\n",
      "inferframe_02411.png\n",
      "inferframe_02070.png\n",
      "inferframe_02423.png\n",
      "inferframe_02058.png\n"
     ]
    },
    {
     "name": "stderr",
     "output_type": "stream",
     "text": [
      " 77%|███████▋  | 2878/3741 [02:21<00:40, 21.52it/s]"
     ]
    },
    {
     "name": "stdout",
     "output_type": "stream",
     "text": [
      "inferframe_02065.png\n",
      "inferframe_00516.png\n",
      "inferframe_01042.png\n",
      "inferframe_02636.png\n",
      "inferframe_01328.png\n"
     ]
    },
    {
     "name": "stderr",
     "output_type": "stream",
     "text": [
      " 77%|███████▋  | 2881/3741 [02:21<00:41, 20.83it/s]"
     ]
    },
    {
     "name": "stdout",
     "output_type": "stream",
     "text": [
      "inferframe_02961.png\n",
      "inferframe_02783.png\n",
      "inferframe_02731.png\n",
      "inferframe_02026.png\n",
      "inferframe_02045.png\n"
     ]
    },
    {
     "name": "stderr",
     "output_type": "stream",
     "text": [
      " 77%|███████▋  | 2887/3741 [02:21<00:40, 20.84it/s]"
     ]
    },
    {
     "name": "stdout",
     "output_type": "stream",
     "text": [
      "inferframe_03085.png\n",
      "inferframe_02479.png\n",
      "inferframe_00243.png\n",
      "inferframe_02191.png\n",
      "inferframe_01813.png\n"
     ]
    },
    {
     "name": "stderr",
     "output_type": "stream",
     "text": [
      " 77%|███████▋  | 2893/3741 [02:21<00:40, 20.70it/s]"
     ]
    },
    {
     "name": "stdout",
     "output_type": "stream",
     "text": [
      "inferframe_00199.png\n",
      "inferframe_02313.png\n",
      "inferframe_02305.png\n",
      "inferframe_02270.png\n",
      "inferframe_01464.png\n"
     ]
    },
    {
     "name": "stderr",
     "output_type": "stream",
     "text": [
      " 77%|███████▋  | 2896/3741 [02:21<00:40, 20.70it/s]"
     ]
    },
    {
     "name": "stdout",
     "output_type": "stream",
     "text": [
      "inferframe_02076.png\n",
      "inferframe_00824.png\n",
      "inferframe_02652.png\n",
      "inferframe_01075.png\n",
      "inferframe_01378.png\n"
     ]
    },
    {
     "name": "stderr",
     "output_type": "stream",
     "text": [
      " 78%|███████▊  | 2902/3741 [02:22<00:41, 20.39it/s]"
     ]
    },
    {
     "name": "stdout",
     "output_type": "stream",
     "text": [
      "inferframe_02039.png\n",
      "inferframe_02914.png\n",
      "inferframe_03709.png\n",
      "inferframe_03304.png\n"
     ]
    },
    {
     "name": "stderr",
     "output_type": "stream",
     "text": [
      " 78%|███████▊  | 2905/3741 [02:22<00:40, 20.55it/s]"
     ]
    },
    {
     "name": "stdout",
     "output_type": "stream",
     "text": [
      "inferframe_02565.png\n",
      "inferframe_00511.png\n",
      "inferframe_01355.png\n",
      "inferframe_01576.png\n",
      "inferframe_02537.png\n"
     ]
    },
    {
     "name": "stderr",
     "output_type": "stream",
     "text": [
      " 78%|███████▊  | 2911/3741 [02:22<00:39, 20.94it/s]"
     ]
    },
    {
     "name": "stdout",
     "output_type": "stream",
     "text": [
      "inferframe_02467.png\n",
      "inferframe_02353.png\n",
      "inferframe_02303.png\n",
      "inferframe_02767.png\n",
      "inferframe_00386.png\n"
     ]
    },
    {
     "name": "stderr",
     "output_type": "stream",
     "text": [
      " 78%|███████▊  | 2914/3741 [02:22<00:40, 20.66it/s]"
     ]
    },
    {
     "name": "stdout",
     "output_type": "stream",
     "text": [
      "inferframe_03174.png\n",
      "inferframe_03035.png\n",
      "inferframe_02424.png\n",
      "inferframe_01048.png\n"
     ]
    },
    {
     "name": "stderr",
     "output_type": "stream",
     "text": [
      " 78%|███████▊  | 2920/3741 [02:23<00:40, 20.43it/s]"
     ]
    },
    {
     "name": "stdout",
     "output_type": "stream",
     "text": [
      "inferframe_01212.png\n",
      "inferframe_03218.png\n",
      "inferframe_03622.png\n",
      "inferframe_03566.png\n",
      "inferframe_02874.png\n"
     ]
    },
    {
     "name": "stderr",
     "output_type": "stream",
     "text": [
      " 78%|███████▊  | 2926/3741 [02:23<00:39, 20.46it/s]"
     ]
    },
    {
     "name": "stdout",
     "output_type": "stream",
     "text": [
      "inferframe_00390.png\n",
      "inferframe_02747.png\n",
      "inferframe_00040.png\n",
      "inferframe_01398.png\n",
      "inferframe_02984.png\n"
     ]
    },
    {
     "name": "stderr",
     "output_type": "stream",
     "text": [
      " 78%|███████▊  | 2929/3741 [02:23<00:40, 20.13it/s]"
     ]
    },
    {
     "name": "stdout",
     "output_type": "stream",
     "text": [
      "inferframe_01852.png\n",
      "inferframe_02541.png\n",
      "inferframe_00621.png\n",
      "inferframe_02408.png\n",
      "inferframe_02366.png\n"
     ]
    },
    {
     "name": "stderr",
     "output_type": "stream",
     "text": [
      " 78%|███████▊  | 2935/3741 [02:23<00:39, 20.41it/s]"
     ]
    },
    {
     "name": "stdout",
     "output_type": "stream",
     "text": [
      "inferframe_02610.png\n",
      "inferframe_03056.png\n",
      "inferframe_01780.png\n",
      "inferframe_01184.png\n",
      "inferframe_00608.png\n"
     ]
    },
    {
     "name": "stderr",
     "output_type": "stream",
     "text": [
      " 79%|███████▊  | 2941/3741 [02:24<00:39, 20.24it/s]"
     ]
    },
    {
     "name": "stdout",
     "output_type": "stream",
     "text": [
      "inferframe_01806.png\n",
      "inferframe_00606.png\n",
      "inferframe_03530.png\n",
      "inferframe_03494.png\n",
      "inferframe_01967.png\n"
     ]
    },
    {
     "name": "stderr",
     "output_type": "stream",
     "text": [
      " 79%|███████▊  | 2944/3741 [02:24<00:39, 20.36it/s]"
     ]
    },
    {
     "name": "stdout",
     "output_type": "stream",
     "text": [
      "inferframe_03354.png\n",
      "inferframe_02409.png\n",
      "inferframe_02649.png\n",
      "inferframe_00906.png\n",
      "inferframe_00349.png\n"
     ]
    },
    {
     "name": "stderr",
     "output_type": "stream",
     "text": [
      " 79%|███████▉  | 2950/3741 [02:24<00:37, 21.29it/s]"
     ]
    },
    {
     "name": "stdout",
     "output_type": "stream",
     "text": [
      "inferframe_03479.png\n",
      "inferframe_02041.png\n",
      "inferframe_00237.png\n",
      "inferframe_00068.png\n",
      "inferframe_01914.png\n"
     ]
    },
    {
     "name": "stderr",
     "output_type": "stream",
     "text": [
      " 79%|███████▉  | 2956/3741 [02:24<00:37, 21.01it/s]"
     ]
    },
    {
     "name": "stdout",
     "output_type": "stream",
     "text": [
      "inferframe_03610.png\n",
      "inferframe_01435.png\n",
      "inferframe_03252.png\n",
      "inferframe_00497.png\n",
      "inferframe_01872.png\n"
     ]
    },
    {
     "name": "stderr",
     "output_type": "stream",
     "text": [
      " 79%|███████▉  | 2959/3741 [02:25<00:37, 20.84it/s]"
     ]
    },
    {
     "name": "stdout",
     "output_type": "stream",
     "text": [
      "inferframe_01108.png\n",
      "inferframe_01353.png\n",
      "inferframe_01079.png\n",
      "inferframe_02485.png\n",
      "inferframe_00892.png\n"
     ]
    },
    {
     "name": "stderr",
     "output_type": "stream",
     "text": [
      " 79%|███████▉  | 2965/3741 [02:25<00:36, 21.46it/s]"
     ]
    },
    {
     "name": "stdout",
     "output_type": "stream",
     "text": [
      "inferframe_00525.png\n",
      "inferframe_01450.png\n",
      "inferframe_02619.png\n",
      "inferframe_01029.png\n",
      "inferframe_02553.png\n"
     ]
    },
    {
     "name": "stderr",
     "output_type": "stream",
     "text": [
      " 79%|███████▉  | 2971/3741 [02:25<00:35, 21.58it/s]"
     ]
    },
    {
     "name": "stdout",
     "output_type": "stream",
     "text": [
      "inferframe_00921.png\n",
      "inferframe_02907.png\n",
      "inferframe_02210.png\n",
      "inferframe_03526.png\n",
      "inferframe_02451.png\n"
     ]
    },
    {
     "name": "stderr",
     "output_type": "stream",
     "text": [
      " 79%|███████▉  | 2974/3741 [02:25<00:34, 22.53it/s]"
     ]
    },
    {
     "name": "stdout",
     "output_type": "stream",
     "text": [
      "inferframe_00140.png\n",
      "inferframe_00281.png\n",
      "inferframe_02151.png\n",
      "inferframe_01547.png\n",
      "inferframe_02161.png\n"
     ]
    },
    {
     "name": "stderr",
     "output_type": "stream",
     "text": [
      " 80%|███████▉  | 2980/3741 [02:25<00:33, 22.45it/s]"
     ]
    },
    {
     "name": "stdout",
     "output_type": "stream",
     "text": [
      "inferframe_02330.png\n",
      "inferframe_02370.png\n",
      "inferframe_01103.png\n",
      "inferframe_01690.png\n",
      "inferframe_01381.png\n"
     ]
    },
    {
     "name": "stderr",
     "output_type": "stream",
     "text": [
      " 80%|███████▉  | 2986/3741 [02:26<00:34, 21.97it/s]"
     ]
    },
    {
     "name": "stdout",
     "output_type": "stream",
     "text": [
      "inferframe_00935.png\n",
      "inferframe_00992.png\n",
      "inferframe_03006.png\n",
      "inferframe_00304.png\n",
      "inferframe_01980.png\n"
     ]
    },
    {
     "name": "stderr",
     "output_type": "stream",
     "text": [
      " 80%|███████▉  | 2989/3741 [02:26<00:35, 21.27it/s]"
     ]
    },
    {
     "name": "stdout",
     "output_type": "stream",
     "text": [
      "inferframe_02847.png\n",
      "inferframe_03221.png\n",
      "inferframe_01368.png\n",
      "inferframe_02132.png\n",
      "inferframe_02642.png\n"
     ]
    },
    {
     "name": "stderr",
     "output_type": "stream",
     "text": [
      " 80%|████████  | 2995/3741 [02:26<00:34, 21.43it/s]"
     ]
    },
    {
     "name": "stdout",
     "output_type": "stream",
     "text": [
      "inferframe_01116.png\n",
      "inferframe_01796.png\n",
      "inferframe_00175.png\n",
      "inferframe_00703.png\n"
     ]
    },
    {
     "name": "stderr",
     "output_type": "stream",
     "text": [
      " 80%|████████  | 2998/3741 [02:26<00:36, 20.41it/s]"
     ]
    },
    {
     "name": "stdout",
     "output_type": "stream",
     "text": [
      "inferframe_02403.png\n",
      "inferframe_01310.png\n",
      "inferframe_01877.png\n",
      "inferframe_00448.png\n",
      "inferframe_00392.png\n"
     ]
    },
    {
     "name": "stderr",
     "output_type": "stream",
     "text": [
      " 80%|████████  | 3004/3741 [02:27<00:36, 20.27it/s]"
     ]
    },
    {
     "name": "stdout",
     "output_type": "stream",
     "text": [
      "inferframe_03301.png\n",
      "inferframe_00476.png\n",
      "inferframe_01090.png\n",
      "inferframe_00275.png\n",
      "inferframe_02007.png\n"
     ]
    },
    {
     "name": "stderr",
     "output_type": "stream",
     "text": [
      " 80%|████████  | 3010/3741 [02:27<00:35, 20.65it/s]"
     ]
    },
    {
     "name": "stdout",
     "output_type": "stream",
     "text": [
      "inferframe_02985.png\n",
      "inferframe_02450.png\n",
      "inferframe_01072.png\n",
      "inferframe_01064.png\n",
      "inferframe_01679.png\n"
     ]
    },
    {
     "name": "stderr",
     "output_type": "stream",
     "text": [
      " 81%|████████  | 3013/3741 [02:27<00:35, 20.48it/s]"
     ]
    },
    {
     "name": "stdout",
     "output_type": "stream",
     "text": [
      "inferframe_02057.png\n",
      "inferframe_01325.png\n",
      "inferframe_01416.png\n",
      "inferframe_01371.png\n",
      "inferframe_02067.png\n"
     ]
    },
    {
     "name": "stderr",
     "output_type": "stream",
     "text": [
      " 81%|████████  | 3019/3741 [02:27<00:34, 21.03it/s]"
     ]
    },
    {
     "name": "stdout",
     "output_type": "stream",
     "text": [
      "inferframe_01356.png\n",
      "inferframe_00100.png\n",
      "inferframe_00046.png\n",
      "inferframe_01861.png\n"
     ]
    },
    {
     "name": "stderr",
     "output_type": "stream",
     "text": [
      " 81%|████████  | 3022/3741 [02:27<00:34, 20.63it/s]"
     ]
    },
    {
     "name": "stdout",
     "output_type": "stream",
     "text": [
      "inferframe_00149.png\n",
      "inferframe_03702.png\n",
      "inferframe_01438.png\n",
      "inferframe_02585.png\n",
      "inferframe_00884.png\n"
     ]
    },
    {
     "name": "stderr",
     "output_type": "stream",
     "text": [
      " 81%|████████  | 3028/3741 [02:28<00:34, 20.63it/s]"
     ]
    },
    {
     "name": "stdout",
     "output_type": "stream",
     "text": [
      "inferframe_03421.png\n",
      "inferframe_01675.png\n",
      "inferframe_00332.png\n",
      "inferframe_01787.png\n",
      "inferframe_02545.png\n"
     ]
    },
    {
     "name": "stderr",
     "output_type": "stream",
     "text": [
      " 81%|████████  | 3034/3741 [02:28<00:34, 20.48it/s]"
     ]
    },
    {
     "name": "stdout",
     "output_type": "stream",
     "text": [
      "inferframe_00986.png\n",
      "inferframe_01463.png\n",
      "inferframe_01344.png\n",
      "inferframe_00783.png\n",
      "inferframe_01453.png\n"
     ]
    },
    {
     "name": "stderr",
     "output_type": "stream",
     "text": [
      " 81%|████████  | 3037/3741 [02:28<00:34, 20.32it/s]"
     ]
    },
    {
     "name": "stdout",
     "output_type": "stream",
     "text": [
      "inferframe_03720.png\n",
      "inferframe_02893.png\n",
      "inferframe_00431.png\n",
      "inferframe_01790.png\n"
     ]
    },
    {
     "name": "stderr",
     "output_type": "stream",
     "text": [
      " 81%|████████▏ | 3043/3741 [02:29<00:34, 20.51it/s]"
     ]
    },
    {
     "name": "stdout",
     "output_type": "stream",
     "text": [
      "inferframe_02470.png\n",
      "inferframe_01833.png\n",
      "inferframe_03175.png\n",
      "inferframe_03656.png\n",
      "inferframe_01915.png\n"
     ]
    },
    {
     "name": "stderr",
     "output_type": "stream",
     "text": [
      " 81%|████████▏ | 3046/3741 [02:29<00:34, 19.96it/s]"
     ]
    },
    {
     "name": "stdout",
     "output_type": "stream",
     "text": [
      "inferframe_01194.png\n",
      "inferframe_01745.png\n",
      "inferframe_01013.png\n",
      "inferframe_02692.png\n",
      "inferframe_02932.png\n"
     ]
    },
    {
     "name": "stderr",
     "output_type": "stream",
     "text": [
      " 82%|████████▏ | 3051/3741 [02:29<00:34, 19.80it/s]"
     ]
    },
    {
     "name": "stdout",
     "output_type": "stream",
     "text": [
      "inferframe_00861.png\n",
      "inferframe_01220.png\n",
      "inferframe_01179.png\n",
      "inferframe_02858.png\n"
     ]
    },
    {
     "name": "stderr",
     "output_type": "stream",
     "text": [
      " 82%|████████▏ | 3056/3741 [02:29<00:34, 20.10it/s]"
     ]
    },
    {
     "name": "stdout",
     "output_type": "stream",
     "text": [
      "inferframe_03620.png\n",
      "inferframe_02586.png\n",
      "inferframe_03501.png\n",
      "inferframe_03449.png\n",
      "inferframe_01233.png\n"
     ]
    },
    {
     "name": "stderr",
     "output_type": "stream",
     "text": [
      " 82%|████████▏ | 3059/3741 [02:29<00:33, 20.34it/s]"
     ]
    },
    {
     "name": "stdout",
     "output_type": "stream",
     "text": [
      "inferframe_02629.png\n",
      "inferframe_03075.png\n",
      "inferframe_00873.png\n",
      "inferframe_03564.png\n"
     ]
    },
    {
     "name": "stderr",
     "output_type": "stream",
     "text": [
      " 82%|████████▏ | 3065/3741 [02:30<00:33, 20.31it/s]"
     ]
    },
    {
     "name": "stdout",
     "output_type": "stream",
     "text": [
      "inferframe_02087.png\n",
      "inferframe_03110.png\n",
      "inferframe_02103.png\n",
      "inferframe_02950.png\n",
      "inferframe_03049.png\n"
     ]
    },
    {
     "name": "stderr",
     "output_type": "stream",
     "text": [
      " 82%|████████▏ | 3071/3741 [02:30<00:31, 21.23it/s]"
     ]
    },
    {
     "name": "stdout",
     "output_type": "stream",
     "text": [
      "inferframe_00435.png\n",
      "inferframe_02730.png\n",
      "inferframe_00429.png\n",
      "inferframe_00430.png\n",
      "inferframe_00552.png\n"
     ]
    },
    {
     "name": "stderr",
     "output_type": "stream",
     "text": [
      " 82%|████████▏ | 3074/3741 [02:30<00:31, 21.27it/s]"
     ]
    },
    {
     "name": "stdout",
     "output_type": "stream",
     "text": [
      "inferframe_03037.png\n",
      "inferframe_02105.png\n",
      "inferframe_02231.png\n",
      "inferframe_02736.png\n",
      "inferframe_00353.png\n"
     ]
    },
    {
     "name": "stderr",
     "output_type": "stream",
     "text": [
      " 82%|████████▏ | 3080/3741 [02:30<00:30, 21.66it/s]"
     ]
    },
    {
     "name": "stdout",
     "output_type": "stream",
     "text": [
      "inferframe_02008.png\n",
      "inferframe_03679.png\n",
      "inferframe_00946.png\n",
      "inferframe_00191.png\n",
      "inferframe_00037.png\n"
     ]
    },
    {
     "name": "stderr",
     "output_type": "stream",
     "text": [
      " 82%|████████▏ | 3083/3741 [02:30<00:30, 21.37it/s]"
     ]
    },
    {
     "name": "stdout",
     "output_type": "stream",
     "text": [
      "inferframe_00107.png\n",
      "inferframe_03459.png\n",
      "inferframe_03204.png\n",
      "inferframe_01919.png\n"
     ]
    },
    {
     "name": "stderr",
     "output_type": "stream",
     "text": [
      " 83%|████████▎ | 3089/3741 [02:31<00:32, 20.23it/s]"
     ]
    },
    {
     "name": "stdout",
     "output_type": "stream",
     "text": [
      "inferframe_02770.png\n",
      "inferframe_00026.png\n",
      "inferframe_03368.png\n",
      "inferframe_03472.png\n"
     ]
    },
    {
     "name": "stderr",
     "output_type": "stream",
     "text": [
      " 83%|████████▎ | 3092/3741 [02:31<00:32, 19.97it/s]"
     ]
    },
    {
     "name": "stdout",
     "output_type": "stream",
     "text": [
      "inferframe_03194.png\n",
      "inferframe_00738.png\n",
      "inferframe_02386.png\n",
      "inferframe_02913.png\n"
     ]
    },
    {
     "name": "stderr",
     "output_type": "stream",
     "text": [
      " 83%|████████▎ | 3098/3741 [02:31<00:31, 20.29it/s]"
     ]
    },
    {
     "name": "stdout",
     "output_type": "stream",
     "text": [
      "inferframe_00550.png\n",
      "inferframe_00620.png\n",
      "inferframe_02234.png\n",
      "inferframe_03107.png\n",
      "inferframe_03473.png\n"
     ]
    },
    {
     "name": "stderr",
     "output_type": "stream",
     "text": [
      " 83%|████████▎ | 3101/3741 [02:31<00:31, 20.56it/s]"
     ]
    },
    {
     "name": "stdout",
     "output_type": "stream",
     "text": [
      "inferframe_00322.png\n",
      "inferframe_01001.png\n",
      "inferframe_01485.png\n",
      "inferframe_00202.png\n"
     ]
    },
    {
     "name": "stderr",
     "output_type": "stream",
     "text": [
      " 83%|████████▎ | 3106/3741 [02:32<00:33, 19.02it/s]"
     ]
    },
    {
     "name": "stdout",
     "output_type": "stream",
     "text": [
      "inferframe_02465.png\n",
      "inferframe_01939.png\n",
      "inferframe_02796.png\n",
      "inferframe_03653.png\n",
      "inferframe_03097.png\n"
     ]
    },
    {
     "name": "stderr",
     "output_type": "stream",
     "text": [
      " 83%|████████▎ | 3112/3741 [02:32<00:29, 21.09it/s]"
     ]
    },
    {
     "name": "stdout",
     "output_type": "stream",
     "text": [
      "inferframe_02420.png\n",
      "inferframe_00260.png\n",
      "inferframe_00287.png\n",
      "inferframe_01216.png\n",
      "inferframe_03442.png\n"
     ]
    },
    {
     "name": "stderr",
     "output_type": "stream",
     "text": [
      " 83%|████████▎ | 3115/3741 [02:32<00:29, 21.46it/s]"
     ]
    },
    {
     "name": "stdout",
     "output_type": "stream",
     "text": [
      "inferframe_00763.png\n",
      "inferframe_00194.png\n",
      "inferframe_01329.png\n",
      "inferframe_03508.png\n",
      "inferframe_03634.png\n"
     ]
    },
    {
     "name": "stderr",
     "output_type": "stream",
     "text": [
      " 83%|████████▎ | 3121/3741 [02:32<00:31, 19.61it/s]"
     ]
    },
    {
     "name": "stdout",
     "output_type": "stream",
     "text": [
      "inferframe_03121.png\n",
      "inferframe_01066.png\n",
      "inferframe_00001.png\n",
      "inferframe_02797.png\n"
     ]
    },
    {
     "name": "stderr",
     "output_type": "stream",
     "text": [
      " 84%|████████▎ | 3124/3741 [02:32<00:30, 20.24it/s]"
     ]
    },
    {
     "name": "stdout",
     "output_type": "stream",
     "text": [
      "inferframe_01095.png\n",
      "inferframe_01586.png\n",
      "inferframe_01269.png\n",
      "inferframe_01659.png\n",
      "inferframe_00472.png\n"
     ]
    },
    {
     "name": "stderr",
     "output_type": "stream",
     "text": [
      " 84%|████████▎ | 3130/3741 [02:33<00:29, 20.77it/s]"
     ]
    },
    {
     "name": "stdout",
     "output_type": "stream",
     "text": [
      "inferframe_02215.png\n",
      "inferframe_02910.png\n",
      "inferframe_00138.png\n",
      "inferframe_02753.png\n",
      "inferframe_03317.png\n"
     ]
    },
    {
     "name": "stderr",
     "output_type": "stream",
     "text": [
      " 84%|████████▍ | 3136/3741 [02:33<00:29, 20.32it/s]"
     ]
    },
    {
     "name": "stdout",
     "output_type": "stream",
     "text": [
      "inferframe_03633.png\n",
      "inferframe_01284.png\n",
      "inferframe_01905.png\n",
      "inferframe_01600.png\n"
     ]
    },
    {
     "name": "stderr",
     "output_type": "stream",
     "text": [
      " 84%|████████▍ | 3139/3741 [02:33<00:29, 20.67it/s]"
     ]
    },
    {
     "name": "stdout",
     "output_type": "stream",
     "text": [
      "inferframe_03232.png\n",
      "inferframe_01132.png\n",
      "inferframe_00283.png\n",
      "inferframe_01396.png\n",
      "inferframe_02497.png\n"
     ]
    },
    {
     "name": "stderr",
     "output_type": "stream",
     "text": [
      " 84%|████████▍ | 3142/3741 [02:33<00:28, 21.16it/s]"
     ]
    },
    {
     "name": "stdout",
     "output_type": "stream",
     "text": [
      "inferframe_03497.png\n",
      "inferframe_01846.png\n",
      "inferframe_01717.png\n",
      "inferframe_03687.png\n"
     ]
    },
    {
     "name": "stderr",
     "output_type": "stream",
     "text": [
      " 84%|████████▍ | 3148/3741 [02:34<00:30, 19.36it/s]"
     ]
    },
    {
     "name": "stdout",
     "output_type": "stream",
     "text": [
      "inferframe_00425.png\n",
      "inferframe_01039.png\n",
      "inferframe_00818.png\n",
      "inferframe_03394.png\n",
      "inferframe_02597.png\n"
     ]
    },
    {
     "name": "stderr",
     "output_type": "stream",
     "text": [
      " 84%|████████▍ | 3152/3741 [02:34<00:30, 19.12it/s]"
     ]
    },
    {
     "name": "stdout",
     "output_type": "stream",
     "text": [
      "inferframe_03273.png\n",
      "inferframe_02885.png\n",
      "inferframe_02575.png\n",
      "inferframe_01672.png\n",
      "inferframe_01684.png\n"
     ]
    },
    {
     "name": "stderr",
     "output_type": "stream",
     "text": [
      " 84%|████████▍ | 3158/3741 [02:34<00:28, 20.12it/s]"
     ]
    },
    {
     "name": "stdout",
     "output_type": "stream",
     "text": [
      "inferframe_02094.png\n",
      "inferframe_01218.png\n",
      "inferframe_00022.png\n",
      "inferframe_01230.png\n",
      "inferframe_01309.png\n"
     ]
    },
    {
     "name": "stderr",
     "output_type": "stream",
     "text": [
      " 85%|████████▍ | 3164/3741 [02:34<00:28, 20.53it/s]"
     ]
    },
    {
     "name": "stdout",
     "output_type": "stream",
     "text": [
      "inferframe_02113.png\n",
      "inferframe_02695.png\n",
      "inferframe_00532.png\n",
      "inferframe_01286.png\n",
      "inferframe_00126.png\n"
     ]
    },
    {
     "name": "stderr",
     "output_type": "stream",
     "text": [
      " 85%|████████▍ | 3167/3741 [02:35<00:27, 20.97it/s]"
     ]
    },
    {
     "name": "stdout",
     "output_type": "stream",
     "text": [
      "inferframe_01198.png\n",
      "inferframe_00820.png\n",
      "inferframe_00663.png\n",
      "inferframe_01778.png\n"
     ]
    },
    {
     "name": "stderr",
     "output_type": "stream",
     "text": [
      " 85%|████████▍ | 3173/3741 [02:35<00:27, 20.97it/s]"
     ]
    },
    {
     "name": "stdout",
     "output_type": "stream",
     "text": [
      "inferframe_00955.png\n",
      "inferframe_03081.png\n",
      "inferframe_03696.png\n",
      "inferframe_03734.png\n",
      "inferframe_01267.png\n"
     ]
    },
    {
     "name": "stderr",
     "output_type": "stream",
     "text": [
      " 85%|████████▍ | 3176/3741 [02:35<00:26, 21.02it/s]"
     ]
    },
    {
     "name": "stdout",
     "output_type": "stream",
     "text": [
      "inferframe_02363.png\n",
      "inferframe_01700.png\n",
      "inferframe_00222.png\n",
      "inferframe_00585.png\n"
     ]
    },
    {
     "name": "stderr",
     "output_type": "stream",
     "text": [
      " 85%|████████▌ | 3182/3741 [02:35<00:26, 21.08it/s]"
     ]
    },
    {
     "name": "stdout",
     "output_type": "stream",
     "text": [
      "inferframe_01436.png\n",
      "inferframe_03061.png\n",
      "inferframe_00480.png\n",
      "inferframe_02288.png\n",
      "inferframe_00142.png\n"
     ]
    },
    {
     "name": "stderr",
     "output_type": "stream",
     "text": [
      " 85%|████████▌ | 3185/3741 [02:35<00:26, 21.16it/s]"
     ]
    },
    {
     "name": "stdout",
     "output_type": "stream",
     "text": [
      "inferframe_03741.png\n",
      "inferframe_00408.png\n",
      "inferframe_03410.png\n",
      "inferframe_01280.png\n",
      "inferframe_01631.png\n"
     ]
    },
    {
     "name": "stderr",
     "output_type": "stream",
     "text": [
      " 85%|████████▌ | 3191/3741 [02:36<00:26, 20.91it/s]"
     ]
    },
    {
     "name": "stdout",
     "output_type": "stream",
     "text": [
      "inferframe_02911.png\n",
      "inferframe_00399.png\n",
      "inferframe_02813.png\n",
      "inferframe_01167.png\n",
      "inferframe_01161.png\n"
     ]
    },
    {
     "name": "stderr",
     "output_type": "stream",
     "text": [
      " 85%|████████▌ | 3194/3741 [02:36<00:26, 20.81it/s]"
     ]
    },
    {
     "name": "stdout",
     "output_type": "stream",
     "text": [
      "inferframe_01304.png\n",
      "inferframe_01508.png\n",
      "inferframe_03447.png\n",
      "inferframe_03153.png\n"
     ]
    },
    {
     "name": "stderr",
     "output_type": "stream",
     "text": [
      " 86%|████████▌ | 3200/3741 [02:36<00:25, 21.27it/s]"
     ]
    },
    {
     "name": "stdout",
     "output_type": "stream",
     "text": [
      "inferframe_00766.png\n",
      "inferframe_00510.png\n",
      "inferframe_01809.png\n",
      "inferframe_02949.png\n",
      "inferframe_02657.png\n"
     ]
    },
    {
     "name": "stderr",
     "output_type": "stream",
     "text": [
      " 86%|████████▌ | 3206/3741 [02:36<00:24, 22.21it/s]"
     ]
    },
    {
     "name": "stdout",
     "output_type": "stream",
     "text": [
      "inferframe_00432.png\n",
      "inferframe_02484.png\n",
      "inferframe_01373.png\n",
      "inferframe_00969.png\n",
      "inferframe_01979.png\n"
     ]
    },
    {
     "name": "stderr",
     "output_type": "stream",
     "text": [
      " 86%|████████▌ | 3209/3741 [02:37<00:24, 22.00it/s]"
     ]
    },
    {
     "name": "stdout",
     "output_type": "stream",
     "text": [
      "inferframe_01007.png\n",
      "inferframe_01525.png\n",
      "inferframe_00132.png\n",
      "inferframe_01337.png\n",
      "inferframe_02186.png\n"
     ]
    },
    {
     "name": "stderr",
     "output_type": "stream",
     "text": [
      " 86%|████████▌ | 3215/3741 [02:37<00:24, 21.84it/s]"
     ]
    },
    {
     "name": "stdout",
     "output_type": "stream",
     "text": [
      "inferframe_03235.png\n",
      "inferframe_01509.png\n",
      "inferframe_00815.png\n",
      "inferframe_03621.png\n",
      "inferframe_00605.png\n"
     ]
    },
    {
     "name": "stderr",
     "output_type": "stream",
     "text": [
      " 86%|████████▌ | 3221/3741 [02:37<00:22, 22.61it/s]"
     ]
    },
    {
     "name": "stdout",
     "output_type": "stream",
     "text": [
      "inferframe_00240.png\n",
      "inferframe_01533.png\n",
      "inferframe_02720.png\n",
      "inferframe_01015.png\n",
      "inferframe_01109.png\n"
     ]
    },
    {
     "name": "stderr",
     "output_type": "stream",
     "text": [
      " 86%|████████▌ | 3224/3741 [02:37<00:23, 22.37it/s]"
     ]
    },
    {
     "name": "stdout",
     "output_type": "stream",
     "text": [
      "inferframe_01170.png\n",
      "inferframe_03236.png\n",
      "inferframe_00018.png\n",
      "inferframe_03310.png\n",
      "inferframe_03692.png\n"
     ]
    },
    {
     "name": "stderr",
     "output_type": "stream",
     "text": [
      " 86%|████████▋ | 3230/3741 [02:38<00:23, 21.95it/s]"
     ]
    },
    {
     "name": "stdout",
     "output_type": "stream",
     "text": [
      "inferframe_00799.png\n",
      "inferframe_00263.png\n",
      "inferframe_02598.png\n",
      "inferframe_00290.png\n",
      "inferframe_03079.png\n"
     ]
    },
    {
     "name": "stderr",
     "output_type": "stream",
     "text": [
      " 87%|████████▋ | 3236/3741 [02:38<00:23, 21.94it/s]"
     ]
    },
    {
     "name": "stdout",
     "output_type": "stream",
     "text": [
      "inferframe_02349.png\n",
      "inferframe_02701.png\n",
      "inferframe_01937.png\n",
      "inferframe_02558.png\n",
      "inferframe_00909.png\n"
     ]
    },
    {
     "name": "stderr",
     "output_type": "stream",
     "text": [
      " 87%|████████▋ | 3239/3741 [02:38<00:23, 21.66it/s]"
     ]
    },
    {
     "name": "stdout",
     "output_type": "stream",
     "text": [
      "inferframe_00382.png\n",
      "inferframe_00970.png\n",
      "inferframe_03470.png\n",
      "inferframe_00528.png\n",
      "inferframe_03708.png\n"
     ]
    },
    {
     "name": "stderr",
     "output_type": "stream",
     "text": [
      " 87%|████████▋ | 3245/3741 [02:38<00:23, 21.43it/s]"
     ]
    },
    {
     "name": "stdout",
     "output_type": "stream",
     "text": [
      "inferframe_00750.png\n",
      "inferframe_01764.png\n",
      "inferframe_02830.png\n",
      "inferframe_01618.png\n",
      "inferframe_01874.png\n"
     ]
    },
    {
     "name": "stderr",
     "output_type": "stream",
     "text": [
      " 87%|████████▋ | 3248/3741 [02:38<00:23, 20.78it/s]"
     ]
    },
    {
     "name": "stdout",
     "output_type": "stream",
     "text": [
      "inferframe_03279.png\n",
      "inferframe_01163.png\n",
      "inferframe_00203.png\n"
     ]
    },
    {
     "name": "stderr",
     "output_type": "stream",
     "text": [
      " 87%|████████▋ | 3253/3741 [02:39<00:27, 17.96it/s]"
     ]
    },
    {
     "name": "stdout",
     "output_type": "stream",
     "text": [
      "inferframe_02554.png\n",
      "inferframe_00628.png\n",
      "inferframe_01703.png\n",
      "inferframe_01421.png\n",
      "inferframe_00331.png\n"
     ]
    },
    {
     "name": "stderr",
     "output_type": "stream",
     "text": [
      " 87%|████████▋ | 3259/3741 [02:39<00:24, 19.59it/s]"
     ]
    },
    {
     "name": "stdout",
     "output_type": "stream",
     "text": [
      "inferframe_00049.png\n",
      "inferframe_02803.png\n",
      "inferframe_00520.png\n",
      "inferframe_03263.png\n",
      "inferframe_01582.png\n"
     ]
    },
    {
     "name": "stderr",
     "output_type": "stream",
     "text": [
      " 87%|████████▋ | 3262/3741 [02:39<00:23, 20.43it/s]"
     ]
    },
    {
     "name": "stdout",
     "output_type": "stream",
     "text": [
      "inferframe_02275.png\n",
      "inferframe_01649.png\n",
      "inferframe_02374.png\n",
      "inferframe_00913.png\n",
      "inferframe_00105.png\n"
     ]
    },
    {
     "name": "stderr",
     "output_type": "stream",
     "text": [
      " 87%|████████▋ | 3268/3741 [02:39<00:21, 21.60it/s]"
     ]
    },
    {
     "name": "stdout",
     "output_type": "stream",
     "text": [
      "inferframe_01516.png\n",
      "inferframe_00453.png\n",
      "inferframe_02462.png\n",
      "inferframe_00141.png\n",
      "inferframe_00021.png\n"
     ]
    },
    {
     "name": "stderr",
     "output_type": "stream",
     "text": [
      " 88%|████████▊ | 3274/3741 [02:40<00:21, 21.38it/s]"
     ]
    },
    {
     "name": "stdout",
     "output_type": "stream",
     "text": [
      "inferframe_02266.png\n",
      "inferframe_01995.png\n",
      "inferframe_02845.png\n",
      "inferframe_00139.png\n",
      "inferframe_00221.png\n"
     ]
    },
    {
     "name": "stderr",
     "output_type": "stream",
     "text": [
      " 88%|████████▊ | 3277/3741 [02:40<00:21, 21.42it/s]"
     ]
    },
    {
     "name": "stdout",
     "output_type": "stream",
     "text": [
      "inferframe_01692.png\n",
      "inferframe_00284.png\n",
      "inferframe_00264.png\n",
      "inferframe_01439.png\n",
      "inferframe_00758.png\n"
     ]
    },
    {
     "name": "stderr",
     "output_type": "stream",
     "text": [
      " 88%|████████▊ | 3283/3741 [02:40<00:21, 21.28it/s]"
     ]
    },
    {
     "name": "stdout",
     "output_type": "stream",
     "text": [
      "inferframe_03033.png\n",
      "inferframe_01231.png\n",
      "inferframe_03463.png\n",
      "inferframe_01041.png\n",
      "inferframe_01268.png\n"
     ]
    },
    {
     "name": "stderr",
     "output_type": "stream",
     "text": [
      " 88%|████████▊ | 3289/3741 [02:40<00:21, 20.86it/s]"
     ]
    },
    {
     "name": "stdout",
     "output_type": "stream",
     "text": [
      "inferframe_02138.png\n",
      "inferframe_03523.png\n",
      "inferframe_01419.png\n",
      "inferframe_02079.png\n",
      "inferframe_01750.png\n"
     ]
    },
    {
     "name": "stderr",
     "output_type": "stream",
     "text": [
      " 88%|████████▊ | 3292/3741 [02:41<00:21, 20.66it/s]"
     ]
    },
    {
     "name": "stdout",
     "output_type": "stream",
     "text": [
      "inferframe_02923.png\n",
      "inferframe_01633.png\n",
      "inferframe_01568.png\n",
      "inferframe_00238.png\n",
      "inferframe_01913.png\n"
     ]
    },
    {
     "name": "stderr",
     "output_type": "stream",
     "text": [
      " 88%|████████▊ | 3298/3741 [02:41<00:21, 20.29it/s]"
     ]
    },
    {
     "name": "stdout",
     "output_type": "stream",
     "text": [
      "inferframe_01443.png\n",
      "inferframe_01204.png\n",
      "inferframe_01030.png\n",
      "inferframe_03312.png\n"
     ]
    },
    {
     "name": "stderr",
     "output_type": "stream",
     "text": [
      " 88%|████████▊ | 3301/3741 [02:41<00:22, 19.97it/s]"
     ]
    },
    {
     "name": "stdout",
     "output_type": "stream",
     "text": [
      "inferframe_03114.png\n",
      "inferframe_00023.png\n",
      "inferframe_03181.png\n",
      "inferframe_00456.png\n",
      "inferframe_01326.png\n"
     ]
    },
    {
     "name": "stderr",
     "output_type": "stream",
     "text": [
      " 88%|████████▊ | 3307/3741 [02:41<00:21, 20.43it/s]"
     ]
    },
    {
     "name": "stdout",
     "output_type": "stream",
     "text": [
      "inferframe_02663.png\n",
      "inferframe_02364.png\n",
      "inferframe_03034.png\n",
      "inferframe_03342.png\n",
      "inferframe_02358.png\n"
     ]
    },
    {
     "name": "stderr",
     "output_type": "stream",
     "text": [
      " 89%|████████▊ | 3313/3741 [02:42<00:20, 20.82it/s]"
     ]
    },
    {
     "name": "stdout",
     "output_type": "stream",
     "text": [
      "inferframe_00604.png\n",
      "inferframe_00270.png\n",
      "inferframe_02168.png\n",
      "inferframe_03339.png\n",
      "inferframe_01352.png\n"
     ]
    },
    {
     "name": "stderr",
     "output_type": "stream",
     "text": [
      " 89%|████████▊ | 3316/3741 [02:42<00:20, 20.84it/s]"
     ]
    },
    {
     "name": "stdout",
     "output_type": "stream",
     "text": [
      "inferframe_02187.png\n",
      "inferframe_01828.png\n",
      "inferframe_02603.png\n",
      "inferframe_02602.png\n",
      "inferframe_02536.png\n"
     ]
    },
    {
     "name": "stderr",
     "output_type": "stream",
     "text": [
      " 89%|████████▉ | 3322/3741 [02:42<00:21, 19.90it/s]"
     ]
    },
    {
     "name": "stdout",
     "output_type": "stream",
     "text": [
      "inferframe_02752.png\n",
      "inferframe_00670.png\n",
      "inferframe_02030.png\n",
      "inferframe_03057.png\n"
     ]
    },
    {
     "name": "stderr",
     "output_type": "stream",
     "text": [
      " 89%|████████▉ | 3325/3741 [02:42<00:20, 20.63it/s]"
     ]
    },
    {
     "name": "stdout",
     "output_type": "stream",
     "text": [
      "inferframe_03667.png\n",
      "inferframe_01318.png\n",
      "inferframe_03074.png\n",
      "inferframe_02843.png\n",
      "inferframe_02378.png\n"
     ]
    },
    {
     "name": "stderr",
     "output_type": "stream",
     "text": [
      " 89%|████████▉ | 3331/3741 [02:42<00:19, 21.01it/s]"
     ]
    },
    {
     "name": "stdout",
     "output_type": "stream",
     "text": [
      "inferframe_01507.png\n",
      "inferframe_00136.png\n",
      "inferframe_03123.png\n",
      "inferframe_01123.png\n",
      "inferframe_02274.png\n"
     ]
    },
    {
     "name": "stderr",
     "output_type": "stream",
     "text": [
      " 89%|████████▉ | 3334/3741 [02:43<00:19, 21.20it/s]"
     ]
    },
    {
     "name": "stdout",
     "output_type": "stream",
     "text": [
      "inferframe_03261.png\n",
      "inferframe_02826.png\n",
      "inferframe_03091.png\n",
      "inferframe_01434.png\n"
     ]
    },
    {
     "name": "stderr",
     "output_type": "stream",
     "text": [
      " 89%|████████▉ | 3340/3741 [02:43<00:18, 21.33it/s]"
     ]
    },
    {
     "name": "stdout",
     "output_type": "stream",
     "text": [
      "inferframe_00097.png\n",
      "inferframe_03444.png\n",
      "inferframe_03058.png\n",
      "inferframe_00080.png\n",
      "inferframe_03131.png\n"
     ]
    },
    {
     "name": "stderr",
     "output_type": "stream",
     "text": [
      " 89%|████████▉ | 3346/3741 [02:43<00:18, 21.23it/s]"
     ]
    },
    {
     "name": "stdout",
     "output_type": "stream",
     "text": [
      "inferframe_02846.png\n",
      "inferframe_01299.png\n",
      "inferframe_00603.png\n",
      "inferframe_01634.png\n",
      "inferframe_03435.png\n"
     ]
    },
    {
     "name": "stderr",
     "output_type": "stream",
     "text": [
      " 90%|████████▉ | 3349/3741 [02:43<00:18, 20.98it/s]"
     ]
    },
    {
     "name": "stdout",
     "output_type": "stream",
     "text": [
      "inferframe_01918.png\n",
      "inferframe_03490.png\n",
      "inferframe_02179.png\n",
      "inferframe_00045.png\n",
      "inferframe_02681.png\n"
     ]
    },
    {
     "name": "stderr",
     "output_type": "stream",
     "text": [
      " 90%|████████▉ | 3355/3741 [02:44<00:17, 22.13it/s]"
     ]
    },
    {
     "name": "stdout",
     "output_type": "stream",
     "text": [
      "inferframe_02020.png\n",
      "inferframe_02106.png\n",
      "inferframe_00503.png\n",
      "inferframe_02761.png\n",
      "inferframe_03546.png\n"
     ]
    },
    {
     "name": "stderr",
     "output_type": "stream",
     "text": [
      " 90%|████████▉ | 3361/3741 [02:44<00:17, 21.83it/s]"
     ]
    },
    {
     "name": "stdout",
     "output_type": "stream",
     "text": [
      "inferframe_01982.png\n",
      "inferframe_03246.png\n",
      "inferframe_02040.png\n",
      "inferframe_03191.png\n",
      "inferframe_02771.png\n"
     ]
    },
    {
     "name": "stderr",
     "output_type": "stream",
     "text": [
      " 90%|████████▉ | 3364/3741 [02:44<00:17, 21.89it/s]"
     ]
    },
    {
     "name": "stdout",
     "output_type": "stream",
     "text": [
      "inferframe_00983.png\n",
      "inferframe_01199.png\n",
      "inferframe_01468.png\n",
      "inferframe_03147.png\n",
      "inferframe_01871.png\n"
     ]
    },
    {
     "name": "stderr",
     "output_type": "stream",
     "text": [
      " 90%|█████████ | 3370/3741 [02:44<00:17, 21.51it/s]"
     ]
    },
    {
     "name": "stdout",
     "output_type": "stream",
     "text": [
      "inferframe_00889.png\n",
      "inferframe_01766.png\n",
      "inferframe_00942.png\n",
      "inferframe_03369.png\n",
      "inferframe_01312.png\n"
     ]
    },
    {
     "name": "stderr",
     "output_type": "stream",
     "text": [
      " 90%|█████████ | 3376/3741 [02:45<00:16, 21.55it/s]"
     ]
    },
    {
     "name": "stdout",
     "output_type": "stream",
     "text": [
      "inferframe_03673.png\n",
      "inferframe_00598.png\n",
      "inferframe_02817.png\n",
      "inferframe_00806.png\n",
      "inferframe_03595.png\n"
     ]
    },
    {
     "name": "stderr",
     "output_type": "stream",
     "text": [
      " 90%|█████████ | 3379/3741 [02:45<00:16, 21.76it/s]"
     ]
    },
    {
     "name": "stdout",
     "output_type": "stream",
     "text": [
      "inferframe_01475.png\n",
      "inferframe_00313.png\n",
      "inferframe_02296.png\n",
      "inferframe_00614.png\n",
      "inferframe_02495.png\n"
     ]
    },
    {
     "name": "stderr",
     "output_type": "stream",
     "text": [
      " 90%|█████████ | 3385/3741 [02:45<00:16, 21.89it/s]"
     ]
    },
    {
     "name": "stdout",
     "output_type": "stream",
     "text": [
      "inferframe_00174.png\n",
      "inferframe_01862.png\n",
      "inferframe_01762.png\n",
      "inferframe_01774.png\n",
      "inferframe_02141.png\n"
     ]
    },
    {
     "name": "stderr",
     "output_type": "stream",
     "text": [
      " 91%|█████████ | 3391/3741 [02:45<00:15, 22.38it/s]"
     ]
    },
    {
     "name": "stdout",
     "output_type": "stream",
     "text": [
      "inferframe_01948.png\n",
      "inferframe_02214.png\n",
      "inferframe_00151.png\n",
      "inferframe_01569.png\n",
      "inferframe_02437.png\n"
     ]
    },
    {
     "name": "stderr",
     "output_type": "stream",
     "text": [
      " 91%|█████████ | 3394/3741 [02:45<00:15, 22.81it/s]"
     ]
    },
    {
     "name": "stdout",
     "output_type": "stream",
     "text": [
      "inferframe_02254.png\n",
      "inferframe_01515.png\n",
      "inferframe_00579.png\n",
      "inferframe_00215.png\n",
      "inferframe_01543.png\n"
     ]
    },
    {
     "name": "stderr",
     "output_type": "stream",
     "text": [
      " 91%|█████████ | 3400/3741 [02:46<00:15, 22.33it/s]"
     ]
    },
    {
     "name": "stdout",
     "output_type": "stream",
     "text": [
      "inferframe_01658.png\n",
      "inferframe_00489.png\n",
      "inferframe_03382.png\n",
      "inferframe_02903.png\n",
      "inferframe_03597.png\n"
     ]
    },
    {
     "name": "stderr",
     "output_type": "stream",
     "text": [
      " 91%|█████████ | 3406/3741 [02:46<00:14, 23.23it/s]"
     ]
    },
    {
     "name": "stdout",
     "output_type": "stream",
     "text": [
      "inferframe_00760.png\n",
      "inferframe_02160.png\n",
      "inferframe_02507.png\n",
      "inferframe_01417.png\n",
      "inferframe_01892.png\n"
     ]
    },
    {
     "name": "stderr",
     "output_type": "stream",
     "text": [
      " 91%|█████████ | 3409/3741 [02:46<00:14, 22.94it/s]"
     ]
    },
    {
     "name": "stdout",
     "output_type": "stream",
     "text": [
      "inferframe_01577.png\n",
      "inferframe_00597.png\n",
      "inferframe_02476.png\n",
      "inferframe_02490.png\n",
      "inferframe_03695.png\n"
     ]
    },
    {
     "name": "stderr",
     "output_type": "stream",
     "text": [
      " 91%|█████████▏| 3415/3741 [02:46<00:14, 22.37it/s]"
     ]
    },
    {
     "name": "stdout",
     "output_type": "stream",
     "text": [
      "inferframe_02238.png\n",
      "inferframe_03124.png\n",
      "inferframe_01987.png\n",
      "inferframe_01148.png\n",
      "inferframe_03456.png\n"
     ]
    },
    {
     "name": "stderr",
     "output_type": "stream",
     "text": [
      " 91%|█████████▏| 3421/3741 [02:47<00:14, 21.71it/s]"
     ]
    },
    {
     "name": "stdout",
     "output_type": "stream",
     "text": [
      "inferframe_01205.png\n",
      "inferframe_01229.png\n",
      "inferframe_00846.png\n",
      "inferframe_00165.png\n",
      "inferframe_00135.png\n"
     ]
    },
    {
     "name": "stderr",
     "output_type": "stream",
     "text": [
      " 92%|█████████▏| 3424/3741 [02:47<00:14, 21.83it/s]"
     ]
    },
    {
     "name": "stdout",
     "output_type": "stream",
     "text": [
      "inferframe_01020.png\n",
      "inferframe_00965.png\n",
      "inferframe_00325.png\n",
      "inferframe_01247.png\n",
      "inferframe_03095.png\n"
     ]
    },
    {
     "name": "stderr",
     "output_type": "stream",
     "text": [
      " 92%|█████████▏| 3430/3741 [02:47<00:14, 21.55it/s]"
     ]
    },
    {
     "name": "stdout",
     "output_type": "stream",
     "text": [
      "inferframe_01023.png\n",
      "inferframe_03309.png\n",
      "inferframe_00518.png\n",
      "inferframe_00575.png\n",
      "inferframe_02038.png\n"
     ]
    },
    {
     "name": "stderr",
     "output_type": "stream",
     "text": [
      " 92%|█████████▏| 3436/3741 [02:47<00:14, 21.42it/s]"
     ]
    },
    {
     "name": "stdout",
     "output_type": "stream",
     "text": [
      "inferframe_02417.png\n",
      "inferframe_03513.png\n",
      "inferframe_00959.png\n",
      "inferframe_01548.png\n",
      "inferframe_02461.png\n"
     ]
    },
    {
     "name": "stderr",
     "output_type": "stream",
     "text": [
      " 92%|█████████▏| 3439/3741 [02:47<00:13, 21.98it/s]"
     ]
    },
    {
     "name": "stdout",
     "output_type": "stream",
     "text": [
      "inferframe_01887.png\n",
      "inferframe_00279.png\n",
      "inferframe_02136.png\n",
      "inferframe_03736.png\n",
      "inferframe_03517.png\n"
     ]
    },
    {
     "name": "stderr",
     "output_type": "stream",
     "text": [
      " 92%|█████████▏| 3445/3741 [02:48<00:13, 21.76it/s]"
     ]
    },
    {
     "name": "stdout",
     "output_type": "stream",
     "text": [
      "inferframe_01038.png\n",
      "inferframe_01488.png\n",
      "inferframe_01049.png\n",
      "inferframe_03102.png\n",
      "inferframe_01583.png\n"
     ]
    },
    {
     "name": "stderr",
     "output_type": "stream",
     "text": [
      " 92%|█████████▏| 3451/3741 [02:48<00:13, 22.10it/s]"
     ]
    },
    {
     "name": "stdout",
     "output_type": "stream",
     "text": [
      "inferframe_02129.png\n",
      "inferframe_01975.png\n",
      "inferframe_02522.png\n",
      "inferframe_00028.png\n",
      "inferframe_00402.png\n"
     ]
    },
    {
     "name": "stderr",
     "output_type": "stream",
     "text": [
      " 92%|█████████▏| 3454/3741 [02:48<00:13, 21.26it/s]"
     ]
    },
    {
     "name": "stdout",
     "output_type": "stream",
     "text": [
      "inferframe_01358.png\n",
      "inferframe_00667.png\n",
      "inferframe_02624.png\n",
      "inferframe_02886.png\n"
     ]
    },
    {
     "name": "stderr",
     "output_type": "stream",
     "text": [
      " 92%|█████████▏| 3457/3741 [02:48<00:14, 19.94it/s]"
     ]
    },
    {
     "name": "stdout",
     "output_type": "stream",
     "text": [
      "inferframe_02867.png\n",
      "inferframe_01272.png\n",
      "inferframe_00853.png\n",
      "inferframe_03103.png\n"
     ]
    },
    {
     "name": "stderr",
     "output_type": "stream",
     "text": [
      " 93%|█████████▎| 3463/3741 [02:49<00:13, 20.65it/s]"
     ]
    },
    {
     "name": "stdout",
     "output_type": "stream",
     "text": [
      "inferframe_00162.png\n",
      "inferframe_03663.png\n",
      "inferframe_00931.png\n",
      "inferframe_01305.png\n",
      "inferframe_01461.png\n"
     ]
    },
    {
     "name": "stderr",
     "output_type": "stream",
     "text": [
      " 93%|█████████▎| 3469/3741 [02:49<00:13, 20.57it/s]"
     ]
    },
    {
     "name": "stdout",
     "output_type": "stream",
     "text": [
      "inferframe_00454.png\n",
      "inferframe_03159.png\n",
      "inferframe_00975.png\n",
      "inferframe_02145.png\n",
      "inferframe_03360.png\n"
     ]
    },
    {
     "name": "stderr",
     "output_type": "stream",
     "text": [
      " 93%|█████████▎| 3472/3741 [02:49<00:13, 20.22it/s]"
     ]
    },
    {
     "name": "stdout",
     "output_type": "stream",
     "text": [
      "inferframe_01951.png\n",
      "inferframe_01291.png\n",
      "inferframe_01302.png\n",
      "inferframe_01408.png\n",
      "inferframe_00545.png\n"
     ]
    },
    {
     "name": "stderr",
     "output_type": "stream",
     "text": [
      " 93%|█████████▎| 3478/3741 [02:49<00:12, 21.02it/s]"
     ]
    },
    {
     "name": "stdout",
     "output_type": "stream",
     "text": [
      "inferframe_00875.png\n",
      "inferframe_00615.png\n",
      "inferframe_00819.png\n",
      "inferframe_01748.png\n",
      "inferframe_01055.png\n"
     ]
    },
    {
     "name": "stderr",
     "output_type": "stream",
     "text": [
      " 93%|█████████▎| 3484/3741 [02:50<00:12, 21.27it/s]"
     ]
    },
    {
     "name": "stdout",
     "output_type": "stream",
     "text": [
      "inferframe_01993.png\n",
      "inferframe_03483.png\n",
      "inferframe_00147.png\n",
      "inferframe_02906.png\n",
      "inferframe_01839.png\n"
     ]
    },
    {
     "name": "stderr",
     "output_type": "stream",
     "text": [
      " 93%|█████████▎| 3487/3741 [02:50<00:12, 20.67it/s]"
     ]
    },
    {
     "name": "stdout",
     "output_type": "stream",
     "text": [
      "inferframe_02919.png\n",
      "inferframe_02055.png\n",
      "inferframe_00637.png\n",
      "inferframe_01082.png\n"
     ]
    },
    {
     "name": "stderr",
     "output_type": "stream",
     "text": [
      " 93%|█████████▎| 3493/3741 [02:50<00:11, 20.92it/s]"
     ]
    },
    {
     "name": "stdout",
     "output_type": "stream",
     "text": [
      "inferframe_00562.png\n",
      "inferframe_03520.png\n",
      "inferframe_03486.png\n",
      "inferframe_00530.png\n",
      "inferframe_02388.png\n"
     ]
    },
    {
     "name": "stderr",
     "output_type": "stream",
     "text": [
      " 93%|█████████▎| 3496/3741 [02:50<00:11, 20.90it/s]"
     ]
    },
    {
     "name": "stdout",
     "output_type": "stream",
     "text": [
      "inferframe_01640.png\n",
      "inferframe_01571.png\n",
      "inferframe_00610.png\n",
      "inferframe_01604.png\n",
      "inferframe_02570.png\n"
     ]
    },
    {
     "name": "stderr",
     "output_type": "stream",
     "text": [
      " 94%|█████████▎| 3502/3741 [02:50<00:11, 20.89it/s]"
     ]
    },
    {
     "name": "stdout",
     "output_type": "stream",
     "text": [
      "inferframe_03044.png\n",
      "inferframe_02595.png\n",
      "inferframe_02480.png\n",
      "inferframe_00119.png\n",
      "inferframe_01111.png\n"
     ]
    },
    {
     "name": "stderr",
     "output_type": "stream",
     "text": [
      " 94%|█████████▍| 3508/3741 [02:51<00:11, 21.12it/s]"
     ]
    },
    {
     "name": "stdout",
     "output_type": "stream",
     "text": [
      "inferframe_03408.png\n",
      "inferframe_02124.png\n",
      "inferframe_01392.png\n",
      "inferframe_02601.png\n",
      "inferframe_01868.png\n"
     ]
    },
    {
     "name": "stderr",
     "output_type": "stream",
     "text": [
      " 94%|█████████▍| 3511/3741 [02:51<00:10, 20.98it/s]"
     ]
    },
    {
     "name": "stdout",
     "output_type": "stream",
     "text": [
      "inferframe_03318.png\n",
      "inferframe_00389.png\n",
      "inferframe_01447.png\n",
      "inferframe_03668.png\n",
      "inferframe_03615.png\n"
     ]
    },
    {
     "name": "stderr",
     "output_type": "stream",
     "text": [
      " 94%|█████████▍| 3517/3741 [02:51<00:10, 21.41it/s]"
     ]
    },
    {
     "name": "stdout",
     "output_type": "stream",
     "text": [
      "inferframe_02016.png\n",
      "inferframe_01912.png\n",
      "inferframe_03018.png\n",
      "inferframe_00038.png\n",
      "inferframe_02381.png\n"
     ]
    },
    {
     "name": "stderr",
     "output_type": "stream",
     "text": [
      " 94%|█████████▍| 3523/3741 [02:51<00:10, 20.87it/s]"
     ]
    },
    {
     "name": "stdout",
     "output_type": "stream",
     "text": [
      "inferframe_00397.png\n",
      "inferframe_01837.png\n",
      "inferframe_03395.png\n",
      "inferframe_00030.png\n",
      "inferframe_00346.png\n"
     ]
    },
    {
     "name": "stderr",
     "output_type": "stream",
     "text": [
      " 94%|█████████▍| 3526/3741 [02:52<00:10, 20.99it/s]"
     ]
    },
    {
     "name": "stdout",
     "output_type": "stream",
     "text": [
      "inferframe_00373.png\n",
      "inferframe_03016.png\n",
      "inferframe_01527.png\n",
      "inferframe_00586.png\n",
      "inferframe_02452.png\n"
     ]
    },
    {
     "name": "stderr",
     "output_type": "stream",
     "text": [
      " 94%|█████████▍| 3532/3741 [02:52<00:09, 21.68it/s]"
     ]
    },
    {
     "name": "stdout",
     "output_type": "stream",
     "text": [
      "inferframe_01879.png\n",
      "inferframe_03602.png\n",
      "inferframe_02578.png\n",
      "inferframe_01558.png\n",
      "inferframe_01890.png\n"
     ]
    },
    {
     "name": "stderr",
     "output_type": "stream",
     "text": [
      " 95%|█████████▍| 3538/3741 [02:52<00:09, 21.24it/s]"
     ]
    },
    {
     "name": "stdout",
     "output_type": "stream",
     "text": [
      "inferframe_00193.png\n",
      "inferframe_03723.png\n",
      "inferframe_02520.png\n",
      "inferframe_03422.png\n",
      "inferframe_01817.png\n"
     ]
    },
    {
     "name": "stderr",
     "output_type": "stream",
     "text": [
      " 95%|█████████▍| 3541/3741 [02:52<00:09, 20.82it/s]"
     ]
    },
    {
     "name": "stdout",
     "output_type": "stream",
     "text": [
      "inferframe_00483.png\n",
      "inferframe_01178.png\n",
      "inferframe_00785.png\n",
      "inferframe_02775.png\n",
      "inferframe_01863.png\n"
     ]
    },
    {
     "name": "stderr",
     "output_type": "stream",
     "text": [
      " 95%|█████████▍| 3547/3741 [02:53<00:09, 21.24it/s]"
     ]
    },
    {
     "name": "stdout",
     "output_type": "stream",
     "text": [
      "inferframe_00773.png\n",
      "inferframe_01646.png\n",
      "inferframe_00459.png\n",
      "inferframe_01050.png\n",
      "inferframe_03629.png\n"
     ]
    },
    {
     "name": "stderr",
     "output_type": "stream",
     "text": [
      " 95%|█████████▍| 3553/3741 [02:53<00:08, 21.74it/s]"
     ]
    },
    {
     "name": "stdout",
     "output_type": "stream",
     "text": [
      "inferframe_01383.png\n",
      "inferframe_01824.png\n",
      "inferframe_02915.png\n",
      "inferframe_03636.png\n",
      "inferframe_01864.png\n"
     ]
    },
    {
     "name": "stderr",
     "output_type": "stream",
     "text": [
      " 95%|█████████▌| 3556/3741 [02:53<00:08, 21.41it/s]"
     ]
    },
    {
     "name": "stdout",
     "output_type": "stream",
     "text": [
      "inferframe_02071.png\n",
      "inferframe_03550.png\n",
      "inferframe_02621.png\n",
      "inferframe_00433.png\n",
      "inferframe_01661.png\n"
     ]
    },
    {
     "name": "stderr",
     "output_type": "stream",
     "text": [
      " 95%|█████████▌| 3562/3741 [02:53<00:08, 22.36it/s]"
     ]
    },
    {
     "name": "stdout",
     "output_type": "stream",
     "text": [
      "inferframe_03039.png\n",
      "inferframe_00556.png\n",
      "inferframe_02139.png\n",
      "inferframe_00403.png\n",
      "inferframe_02540.png\n"
     ]
    },
    {
     "name": "stderr",
     "output_type": "stream",
     "text": [
      " 95%|█████████▌| 3568/3741 [02:53<00:07, 22.29it/s]"
     ]
    },
    {
     "name": "stdout",
     "output_type": "stream",
     "text": [
      "inferframe_03405.png\n",
      "inferframe_00961.png\n",
      "inferframe_01313.png\n",
      "inferframe_00564.png\n",
      "inferframe_00455.png\n"
     ]
    },
    {
     "name": "stderr",
     "output_type": "stream",
     "text": [
      " 95%|█████████▌| 3571/3741 [02:54<00:07, 22.17it/s]"
     ]
    },
    {
     "name": "stdout",
     "output_type": "stream",
     "text": [
      "inferframe_02625.png\n",
      "inferframe_03398.png\n",
      "inferframe_03509.png\n",
      "inferframe_01763.png\n",
      "inferframe_03299.png\n"
     ]
    },
    {
     "name": "stderr",
     "output_type": "stream",
     "text": [
      " 96%|█████████▌| 3577/3741 [02:54<00:07, 21.05it/s]"
     ]
    },
    {
     "name": "stdout",
     "output_type": "stream",
     "text": [
      "inferframe_01903.png\n",
      "inferframe_01883.png\n",
      "inferframe_00498.png\n",
      "inferframe_00696.png\n"
     ]
    },
    {
     "name": "stderr",
     "output_type": "stream",
     "text": [
      " 96%|█████████▌| 3580/3741 [02:54<00:07, 20.66it/s]"
     ]
    },
    {
     "name": "stdout",
     "output_type": "stream",
     "text": [
      "inferframe_00829.png\n",
      "inferframe_02527.png\n",
      "inferframe_00858.png\n",
      "inferframe_00842.png\n",
      "inferframe_03257.png\n"
     ]
    },
    {
     "name": "stderr",
     "output_type": "stream",
     "text": [
      " 96%|█████████▌| 3586/3741 [02:54<00:07, 20.24it/s]"
     ]
    },
    {
     "name": "stdout",
     "output_type": "stream",
     "text": [
      "inferframe_03001.png\n",
      "inferframe_01597.png\n",
      "inferframe_03005.png\n",
      "inferframe_00491.png\n",
      "inferframe_00085.png\n"
     ]
    },
    {
     "name": "stderr",
     "output_type": "stream",
     "text": [
      " 96%|█████████▌| 3592/3741 [02:55<00:07, 21.03it/s]"
     ]
    },
    {
     "name": "stdout",
     "output_type": "stream",
     "text": [
      "inferframe_00801.png\n",
      "inferframe_03219.png\n",
      "inferframe_03157.png\n",
      "inferframe_00266.png\n",
      "inferframe_03020.png\n"
     ]
    },
    {
     "name": "stderr",
     "output_type": "stream",
     "text": [
      " 96%|█████████▌| 3595/3741 [02:55<00:07, 20.51it/s]"
     ]
    },
    {
     "name": "stdout",
     "output_type": "stream",
     "text": [
      "inferframe_02920.png\n",
      "inferframe_03239.png\n",
      "inferframe_00487.png\n",
      "inferframe_01589.png\n",
      "inferframe_00367.png\n"
     ]
    },
    {
     "name": "stderr",
     "output_type": "stream",
     "text": [
      " 96%|█████████▋| 3601/3741 [02:55<00:06, 21.45it/s]"
     ]
    },
    {
     "name": "stdout",
     "output_type": "stream",
     "text": [
      "inferframe_01384.png\n",
      "inferframe_02519.png\n",
      "inferframe_02973.png\n",
      "inferframe_00465.png\n",
      "inferframe_01086.png\n"
     ]
    },
    {
     "name": "stderr",
     "output_type": "stream",
     "text": [
      " 96%|█████████▋| 3607/3741 [02:55<00:06, 21.07it/s]"
     ]
    },
    {
     "name": "stdout",
     "output_type": "stream",
     "text": [
      "inferframe_00805.png\n",
      "inferframe_03259.png\n",
      "inferframe_02289.png\n",
      "inferframe_02328.png\n",
      "inferframe_00723.png\n"
     ]
    },
    {
     "name": "stderr",
     "output_type": "stream",
     "text": [
      " 96%|█████████▋| 3610/3741 [02:55<00:06, 21.56it/s]"
     ]
    },
    {
     "name": "stdout",
     "output_type": "stream",
     "text": [
      "inferframe_02340.png\n",
      "inferframe_00370.png\n",
      "inferframe_02840.png\n",
      "inferframe_01776.png\n",
      "inferframe_00143.png\n"
     ]
    },
    {
     "name": "stderr",
     "output_type": "stream",
     "text": [
      " 97%|█████████▋| 3616/3741 [02:56<00:05, 21.46it/s]"
     ]
    },
    {
     "name": "stdout",
     "output_type": "stream",
     "text": [
      "inferframe_01840.png\n",
      "inferframe_03553.png\n",
      "inferframe_02377.png\n",
      "inferframe_00555.png\n",
      "inferframe_01246.png\n"
     ]
    },
    {
     "name": "stderr",
     "output_type": "stream",
     "text": [
      " 97%|█████████▋| 3622/3741 [02:56<00:05, 22.35it/s]"
     ]
    },
    {
     "name": "stdout",
     "output_type": "stream",
     "text": [
      "inferframe_02499.png\n",
      "inferframe_02542.png\n",
      "inferframe_00285.png\n",
      "inferframe_02365.png\n",
      "inferframe_03476.png\n"
     ]
    },
    {
     "name": "stderr",
     "output_type": "stream",
     "text": [
      " 97%|█████████▋| 3625/3741 [02:56<00:05, 22.94it/s]"
     ]
    },
    {
     "name": "stdout",
     "output_type": "stream",
     "text": [
      "inferframe_00409.png\n",
      "inferframe_00726.png\n",
      "inferframe_02327.png\n",
      "inferframe_02341.png\n",
      "inferframe_01544.png\n"
     ]
    },
    {
     "name": "stderr",
     "output_type": "stream",
     "text": [
      " 97%|█████████▋| 3631/3741 [02:56<00:05, 21.24it/s]"
     ]
    },
    {
     "name": "stdout",
     "output_type": "stream",
     "text": [
      "inferframe_02773.png\n",
      "inferframe_03565.png\n",
      "inferframe_00836.png\n",
      "inferframe_00059.png\n"
     ]
    },
    {
     "name": "stderr",
     "output_type": "stream",
     "text": [
      " 97%|█████████▋| 3634/3741 [02:57<00:05, 20.90it/s]"
     ]
    },
    {
     "name": "stdout",
     "output_type": "stream",
     "text": [
      "inferframe_03209.png\n",
      "inferframe_01734.png\n",
      "inferframe_02447.png\n",
      "inferframe_02978.png\n",
      "inferframe_00426.png\n"
     ]
    },
    {
     "name": "stderr",
     "output_type": "stream",
     "text": [
      " 97%|█████████▋| 3640/3741 [02:57<00:04, 22.19it/s]"
     ]
    },
    {
     "name": "stdout",
     "output_type": "stream",
     "text": [
      "inferframe_01412.png\n",
      "inferframe_00894.png\n",
      "inferframe_00251.png\n",
      "inferframe_00874.png\n",
      "inferframe_01893.png\n"
     ]
    },
    {
     "name": "stderr",
     "output_type": "stream",
     "text": [
      " 97%|█████████▋| 3646/3741 [02:57<00:04, 20.95it/s]"
     ]
    },
    {
     "name": "stdout",
     "output_type": "stream",
     "text": [
      "inferframe_02455.png\n",
      "inferframe_03217.png\n",
      "inferframe_02814.png\n",
      "inferframe_01856.png\n",
      "inferframe_00937.png\n"
     ]
    },
    {
     "name": "stderr",
     "output_type": "stream",
     "text": [
      " 98%|█████████▊| 3649/3741 [02:57<00:04, 20.73it/s]"
     ]
    },
    {
     "name": "stdout",
     "output_type": "stream",
     "text": [
      "inferframe_00798.png\n",
      "inferframe_03585.png\n",
      "inferframe_02433.png\n",
      "inferframe_03499.png\n",
      "inferframe_00384.png\n"
     ]
    },
    {
     "name": "stderr",
     "output_type": "stream",
     "text": [
      " 98%|█████████▊| 3655/3741 [02:58<00:04, 19.71it/s]"
     ]
    },
    {
     "name": "stdout",
     "output_type": "stream",
     "text": [
      "inferframe_02245.png\n",
      "inferframe_03719.png\n",
      "inferframe_00664.png\n",
      "inferframe_02835.png\n"
     ]
    },
    {
     "name": "stderr",
     "output_type": "stream",
     "text": [
      " 98%|█████████▊| 3658/3741 [02:58<00:04, 20.09it/s]"
     ]
    },
    {
     "name": "stdout",
     "output_type": "stream",
     "text": [
      "inferframe_02306.png\n",
      "inferframe_02538.png\n",
      "inferframe_03256.png\n",
      "inferframe_02825.png\n",
      "inferframe_00659.png\n"
     ]
    },
    {
     "name": "stderr",
     "output_type": "stream",
     "text": [
      " 98%|█████████▊| 3663/3741 [02:58<00:04, 19.27it/s]"
     ]
    },
    {
     "name": "stdout",
     "output_type": "stream",
     "text": [
      "inferframe_01845.png\n",
      "inferframe_03353.png\n",
      "inferframe_02185.png\n",
      "inferframe_02112.png\n",
      "inferframe_02711.png\n"
     ]
    },
    {
     "name": "stderr",
     "output_type": "stream",
     "text": [
      " 98%|█████████▊| 3669/3741 [02:58<00:03, 19.97it/s]"
     ]
    },
    {
     "name": "stdout",
     "output_type": "stream",
     "text": [
      "inferframe_01446.png\n",
      "inferframe_01950.png\n",
      "inferframe_03071.png\n",
      "inferframe_03617.png\n"
     ]
    },
    {
     "name": "stderr",
     "output_type": "stream",
     "text": [
      " 98%|█████████▊| 3672/3741 [02:58<00:03, 20.27it/s]"
     ]
    },
    {
     "name": "stdout",
     "output_type": "stream",
     "text": [
      "inferframe_01119.png\n",
      "inferframe_03413.png\n",
      "inferframe_02400.png\n",
      "inferframe_00567.png\n",
      "inferframe_03452.png\n"
     ]
    },
    {
     "name": "stderr",
     "output_type": "stream",
     "text": [
      " 98%|█████████▊| 3678/3741 [02:59<00:03, 20.98it/s]"
     ]
    },
    {
     "name": "stdout",
     "output_type": "stream",
     "text": [
      "inferframe_03243.png\n",
      "inferframe_01005.png\n",
      "inferframe_02873.png\n",
      "inferframe_01714.png\n",
      "inferframe_00070.png\n"
     ]
    },
    {
     "name": "stderr",
     "output_type": "stream",
     "text": [
      " 98%|█████████▊| 3684/3741 [02:59<00:02, 21.92it/s]"
     ]
    },
    {
     "name": "stdout",
     "output_type": "stream",
     "text": [
      "inferframe_02063.png\n",
      "inferframe_03260.png\n",
      "inferframe_03662.png\n",
      "inferframe_00458.png\n",
      "inferframe_01704.png\n"
     ]
    },
    {
     "name": "stderr",
     "output_type": "stream",
     "text": [
      " 99%|█████████▊| 3687/3741 [02:59<00:02, 21.57it/s]"
     ]
    },
    {
     "name": "stdout",
     "output_type": "stream",
     "text": [
      "inferframe_01478.png\n",
      "inferframe_03088.png\n",
      "inferframe_00554.png\n",
      "inferframe_00099.png\n",
      "inferframe_01767.png\n"
     ]
    },
    {
     "name": "stderr",
     "output_type": "stream",
     "text": [
      " 99%|█████████▊| 3693/3741 [02:59<00:02, 21.67it/s]"
     ]
    },
    {
     "name": "stdout",
     "output_type": "stream",
     "text": [
      "inferframe_02789.png\n",
      "inferframe_01189.png\n",
      "inferframe_02751.png\n",
      "inferframe_02725.png\n",
      "inferframe_00356.png\n"
     ]
    },
    {
     "name": "stderr",
     "output_type": "stream",
     "text": [
      " 99%|█████████▉| 3699/3741 [03:00<00:01, 22.24it/s]"
     ]
    },
    {
     "name": "stdout",
     "output_type": "stream",
     "text": [
      "inferframe_01351.png\n",
      "inferframe_01101.png\n",
      "inferframe_03439.png\n",
      "inferframe_02244.png\n",
      "inferframe_03021.png\n"
     ]
    },
    {
     "name": "stderr",
     "output_type": "stream",
     "text": [
      " 99%|█████████▉| 3702/3741 [03:00<00:01, 21.26it/s]"
     ]
    },
    {
     "name": "stdout",
     "output_type": "stream",
     "text": [
      "inferframe_01760.png\n",
      "inferframe_00880.png\n",
      "inferframe_02992.png\n",
      "inferframe_02441.png\n",
      "inferframe_00311.png\n"
     ]
    },
    {
     "name": "stderr",
     "output_type": "stream",
     "text": [
      " 99%|█████████▉| 3708/3741 [03:00<00:01, 21.29it/s]"
     ]
    },
    {
     "name": "stdout",
     "output_type": "stream",
     "text": [
      "inferframe_00752.png\n",
      "inferframe_02809.png\n",
      "inferframe_01124.png\n",
      "inferframe_01207.png\n",
      "inferframe_00482.png\n"
     ]
    },
    {
     "name": "stderr",
     "output_type": "stream",
     "text": [
      " 99%|█████████▉| 3714/3741 [03:00<00:01, 21.95it/s]"
     ]
    },
    {
     "name": "stdout",
     "output_type": "stream",
     "text": [
      "inferframe_03608.png\n",
      "inferframe_00504.png\n",
      "inferframe_02623.png\n",
      "inferframe_03635.png\n",
      "inferframe_00903.png\n"
     ]
    },
    {
     "name": "stderr",
     "output_type": "stream",
     "text": [
      " 99%|█████████▉| 3717/3741 [03:01<00:01, 21.13it/s]"
     ]
    },
    {
     "name": "stdout",
     "output_type": "stream",
     "text": [
      "inferframe_03521.png\n",
      "inferframe_01068.png\n",
      "inferframe_00168.png\n",
      "inferframe_00145.png\n",
      "inferframe_01553.png\n"
     ]
    },
    {
     "name": "stderr",
     "output_type": "stream",
     "text": [
      "100%|█████████▉| 3723/3741 [03:01<00:00, 21.47it/s]"
     ]
    },
    {
     "name": "stdout",
     "output_type": "stream",
     "text": [
      "inferframe_02171.png\n",
      "inferframe_01638.png\n",
      "inferframe_03383.png\n",
      "inferframe_02576.png\n",
      "inferframe_03737.png\n"
     ]
    },
    {
     "name": "stderr",
     "output_type": "stream",
     "text": [
      "100%|█████████▉| 3729/3741 [03:01<00:00, 21.03it/s]"
     ]
    },
    {
     "name": "stdout",
     "output_type": "stream",
     "text": [
      "inferframe_02272.png\n",
      "inferframe_02376.png\n",
      "inferframe_00150.png\n",
      "inferframe_01756.png\n",
      "inferframe_01389.png\n"
     ]
    },
    {
     "name": "stderr",
     "output_type": "stream",
     "text": [
      "100%|█████████▉| 3732/3741 [03:01<00:00, 20.89it/s]"
     ]
    },
    {
     "name": "stdout",
     "output_type": "stream",
     "text": [
      "inferframe_00066.png\n",
      "inferframe_01612.png\n",
      "inferframe_01632.png\n",
      "inferframe_00749.png\n",
      "inferframe_00034.png\n"
     ]
    },
    {
     "name": "stderr",
     "output_type": "stream",
     "text": [
      "100%|█████████▉| 3735/3741 [03:01<00:00, 21.02it/s]"
     ]
    },
    {
     "name": "stdout",
     "output_type": "stream",
     "text": [
      "inferframe_01227.png\n",
      "inferframe_03732.png\n",
      "inferframe_00204.png\n"
     ]
    },
    {
     "name": "stderr",
     "output_type": "stream",
     "text": [
      "100%|██████████| 3741/3741 [03:02<00:00, 20.53it/s]"
     ]
    },
    {
     "name": "stdout",
     "output_type": "stream",
     "text": [
      "inferframe_01858.png\n",
      "inferframe_02454.png\n",
      "inferframe_00401.png\n"
     ]
    },
    {
     "name": "stderr",
     "output_type": "stream",
     "text": [
      "\n"
     ]
    }
   ],
   "source": [
    "import os\n",
    "import numpy as np\n",
    "from PIL import Image, ImageOps, ImageChops\n",
    "from tqdm import tqdm\n",
    "\n",
    "\n",
    "def colorize_mask(mask, color):\n",
    "    \"\"\" Colorize the mask \"\"\"\n",
    "    colored_mask = ImageOps.colorize(mask, black=(0, 0, 0), white=color)\n",
    "    return colored_mask.convert('RGBA')\n",
    "\n",
    "def create_mask(image, target_value=200):\n",
    "    \"\"\" Create a mask for pixels equal to the target_value \"\"\"\n",
    "    mask = Image.new(mode=\"RGBA\", size=image.size, color=(0,0,0,0))\n",
    "    for x in range(image.width):\n",
    "        for y in range(image.height):\n",
    "            # print(image.getpixel((x, y)))\n",
    "            # if image.getpixel((x, y))[0] >= target_value:\n",
    "                # mask.putpixel((x, y), (255,0,0,255))\n",
    "            mask.putpixel((x, y),image.getpixel((x, y)) )\n",
    "                # print(mask.getpixel((x, y)))\n",
    "    return mask\n",
    "\n",
    "\n",
    "def overlay_masks(image_folder, mask_folder, output_folder, mask_color=(255, 0, 0)):\n",
    "    \"\"\"\n",
    "    Overlay mask images onto corresponding raw images.\n",
    "\n",
    "    :param image_folder: Path to the folder containing raw images.\n",
    "    :param mask_folder: Path to the folder containing mask images.\n",
    "    :param output_folder: Path to the folder where output images will be saved.\n",
    "    :param mask_color: RGB color to use for the mask.\n",
    "    \"\"\"\n",
    "    # Ensure output folder exists\n",
    "    if not os.path.exists(output_folder):\n",
    "        os.makedirs(output_folder)\n",
    "\n",
    "    # Iterate over all images in the image folder\n",
    "    for image_name in tqdm(os.listdir(image_folder)):\n",
    "        image_path = os.path.join(image_folder, image_name)\n",
    "        \n",
    "        name, extension = os.path.splitext(image_name)\n",
    "        \n",
    "        png_mask_name = \"infer\"+name + \".png\"\n",
    "        print(png_mask_name)\n",
    "        # Check if the corresponding mask exists\n",
    "        png_mask_path = os.path.join(mask_folder,png_mask_name)  \n",
    "        mask_path = png_mask_path\n",
    "        \n",
    "        if os.path.exists(mask_path):\n",
    "            # Open the image and the mask\n",
    "            image = Image.open(image_path).convert('RGB')\n",
    "            mask = Image.open(mask_path).convert(\"L\")  # Ensure mask is in L mode\n",
    "\n",
    "            alpha = (mask)\n",
    "            # Colorize the mask\n",
    "            colored_mask = ImageOps.colorize(mask, black=(0,0,0,0), white=mask_color).convert('RGBA')\n",
    "            colored_mask.putalpha(alpha)\n",
    "            # Overlay the colored mask onto the image\n",
    "            combined_image = Image.alpha_composite(image.convert('RGBA'), colored_mask)\n",
    "\n",
    "            # Save the combined image\n",
    "            combined_image_path = os.path.join(output_folder, png_mask_name)\n",
    "            combined_image.save(combined_image_path)\n",
    "\n",
    "\n",
    "\n",
    "def main_function():\n",
    "    # Note: The paths need to be adjusted to the actual folders on your system.\n",
    "    image_folder_path = '/home/iix5sgh/workspace/lerf/data/crack_scene_1/images/'\n",
    "    mask_folder_path = '/home/iix5sgh/workspace/lerf/data/crack_scene_1/infer/'\n",
    "    output_folder_path = '/home/iix5sgh/workspace/crack/mask_visual/'\n",
    "    \n",
    "    # Call the function\n",
    "    overlay_masks(image_folder_path, mask_folder_path, output_folder_path)\n",
    "\n",
    "\n",
    "if __name__ == \"__main__\":\n",
    "    main_function()\n"
   ]
  }
 ],
 "metadata": {
  "kernelspec": {
   "display_name": "nerfstudio",
   "language": "python",
   "name": "python3"
  },
  "language_info": {
   "codemirror_mode": {
    "name": "ipython",
    "version": 3
   },
   "file_extension": ".py",
   "mimetype": "text/x-python",
   "name": "python",
   "nbconvert_exporter": "python",
   "pygments_lexer": "ipython3",
   "version": "3.8.18"
  }
 },
 "nbformat": 4,
 "nbformat_minor": 2
}
